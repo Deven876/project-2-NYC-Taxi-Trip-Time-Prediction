{
  "nbformat": 4,
  "nbformat_minor": 0,
  "metadata": {
    "colab": {
      "name": "project 2: Taxi Trip Time Prediction .ipynb",
      "provenance": [],
      "authorship_tag": "ABX9TyOwDJjiUAc7hzB2pnQzjSQE",
      "include_colab_link": true
    },
    "kernelspec": {
      "name": "python3",
      "display_name": "Python 3"
    },
    "language_info": {
      "name": "python"
    }
  },
  "cells": [
    {
      "cell_type": "markdown",
      "metadata": {
        "id": "view-in-github",
        "colab_type": "text"
      },
      "source": [
        "<a href=\"https://colab.research.google.com/github/Deven876/project-2-NYC-Taxi-Trip-Time-Prediction/blob/main/project_2_Taxi_Trip_Time_Prediction_.ipynb\" target=\"_parent\"><img src=\"https://colab.research.google.com/assets/colab-badge.svg\" alt=\"Open In Colab\"/></a>"
      ]
    },
    {
      "cell_type": "markdown",
      "metadata": {
        "id": "-s8mUwjJR_y6"
      },
      "source": [
        "![ttp.jpg](data:image/jpeg;base64,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)\n",
        "# <b><u> Project Title : Taxi trip time Prediction : Predicting total ride duration of taxi trips in New York City</u></b>"
      ]
    },
    {
      "cell_type": "markdown",
      "metadata": {
        "id": "hanFi6UjTXbF"
      },
      "source": [
        "## <b> Problem Description </b>\n",
        "\n",
        "### Your task is to build a model that predicts the total ride duration of taxi trips in New York City. Your primary dataset is one released by the NYC Taxi and Limousine Commission, which includes pickup time, geo-coordinates, number of passengers, and several other variables."
      ]
    },
    {
      "cell_type": "markdown",
      "metadata": {
        "id": "iUJoIt9vTd9K"
      },
      "source": [
        "## <b> Data Description </b>\n",
        "\n",
        "### The dataset is based on the 2016 NYC Yellow Cab trip record data made available in Big Query on Google Cloud Platform. The data was originally published by the NYC Taxi and Limousine Commission (TLC). The data was sampled and cleaned for the purposes of this project. Based on individual trip attributes, you should predict the duration of each trip in the test set.\n",
        "\n",
        "### <b>NYC Taxi Data.csv</b> - the training set (contains 1458644 trip records)\n",
        "\n",
        "\n",
        "### Data fields\n",
        "* #### id - a unique identifier for each trip\n",
        "* #### vendor_id - a code indicating the provider associated with the trip record\n",
        "* #### pickup_datetime - date and time when the meter was engaged\n",
        "* #### dropoff_datetime - date and time when the meter was disengaged\n",
        "* #### passenger_count - the number of passengers in the vehicle (driver entered value)\n",
        "* #### pickup_longitude - the longitude where the meter was engaged\n",
        "* #### pickup_latitude - the latitude where the meter was engaged\n",
        "* #### dropoff_longitude - the longitude where the meter was disengaged\n",
        "* #### dropoff_latitude - the latitude where the meter was disengaged\n",
        "* #### store_and_fwd_flag - This flag indicates whether the trip record was held in vehicle memory before sending to the vendor because the vehicle did not have a connection to the server - Y=store and forward; N=not a store and forward trip\n",
        "* #### trip_duration - duration of the trip in seconds"
      ]
    },
    {
      "cell_type": "markdown",
      "metadata": {
        "id": "ZG-bT1kNzuB5"
      },
      "source": [
        "# Importing "
      ]
    },
    {
      "cell_type": "code",
      "metadata": {
        "id": "HGZ-7SI0z88q"
      },
      "source": [
        "# importing required packages\n",
        "import numpy as np \n",
        "import pandas as pd \n",
        "import matplotlib.pyplot as plt\n",
        "import seaborn as sns\n",
        "import matplotlib.ticker as ticker\n",
        "import warnings\n",
        "warnings.filterwarnings('ignore')\n"
      ],
      "execution_count": 5,
      "outputs": []
    },
    {
      "cell_type": "code",
      "metadata": {
        "id": "bj7Zbpzn0UUu"
      },
      "source": [
        ""
      ],
      "execution_count": null,
      "outputs": []
    }
  ]
}