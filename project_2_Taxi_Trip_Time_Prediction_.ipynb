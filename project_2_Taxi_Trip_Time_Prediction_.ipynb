{
  "nbformat": 4,
  "nbformat_minor": 0,
  "metadata": {
    "colab": {
      "name": "project 2: Taxi Trip Time Prediction .ipynb",
      "provenance": [],
      "collapsed_sections": [],
      "mount_file_id": "1wJIb1BYGzKDGRZ1F0Lkv0uN7huN13Yot",
      "authorship_tag": "ABX9TyOIlGID1Kqn1cjvexCg5gFS",
      "include_colab_link": true
    },
    "kernelspec": {
      "name": "python3",
      "display_name": "Python 3"
    },
    "language_info": {
      "name": "python"
    }
  },
  "cells": [
    {
      "cell_type": "markdown",
      "metadata": {
        "id": "view-in-github",
        "colab_type": "text"
      },
      "source": [
        "<a href=\"https://colab.research.google.com/github/Deven876/project-2-NYC-Taxi-Trip-Time-Prediction/blob/main/project_2_Taxi_Trip_Time_Prediction_.ipynb\" target=\"_parent\"><img src=\"https://colab.research.google.com/assets/colab-badge.svg\" alt=\"Open In Colab\"/></a>"
      ]
    },
    {
      "cell_type": "markdown",
      "metadata": {
        "id": "-s8mUwjJR_y6"
      },
      "source": [
        "![ttp.jpg](data:image/jpeg;base64,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)\n",
        "# <b><u> Project Title : Taxi trip time Prediction : Predicting total ride duration of taxi trips in New York City</u></b>"
      ]
    },
    {
      "cell_type": "markdown",
      "metadata": {
        "id": "hanFi6UjTXbF"
      },
      "source": [
        "## <b> Problem Description </b>\n",
        "\n",
        "### Your task is to build a model that predicts the total ride duration of taxi trips in New York City. Your primary dataset is one released by the NYC Taxi and Limousine Commission, which includes pickup time, geo-coordinates, number of passengers, and several other variables."
      ]
    },
    {
      "cell_type": "markdown",
      "metadata": {
        "id": "iUJoIt9vTd9K"
      },
      "source": [
        "## <b> Data Description </b>\n",
        "\n",
        "### The dataset is based on the 2016 NYC Yellow Cab trip record data made available in Big Query on Google Cloud Platform. The data was originally published by the NYC Taxi and Limousine Commission (TLC). The data was sampled and cleaned for the purposes of this project. Based on individual trip attributes, you should predict the duration of each trip in the test set.\n",
        "\n",
        "### <b>NYC Taxi Data.csv</b> - the training set (contains 1458644 trip records)\n",
        "\n",
        "\n",
        "### Data fields\n",
        "* #### id - a unique identifier for each trip\n",
        "* #### vendor_id - a code indicating the provider associated with the trip record\n",
        "* #### pickup_datetime - date and time when the meter was engaged\n",
        "* #### dropoff_datetime - date and time when the meter was disengaged\n",
        "* #### passenger_count - the number of passengers in the vehicle (driver entered value)\n",
        "* #### pickup_longitude - the longitude where the meter was engaged\n",
        "* #### pickup_latitude - the latitude where the meter was engaged\n",
        "* #### dropoff_longitude - the longitude where the meter was disengaged\n",
        "* #### dropoff_latitude - the latitude where the meter was disengaged\n",
        "* #### store_and_fwd_flag - This flag indicates whether the trip record was held in vehicle memory before sending to the vendor because the vehicle did not have a connection to the server - Y=store and forward; N=not a store and forward trip\n",
        "* #### trip_duration - duration of the trip in seconds"
      ]
    },
    {
      "cell_type": "markdown",
      "metadata": {
        "id": "u9fc3SbiyhcS"
      },
      "source": [
        "# Architecture"
      ]
    },
    {
      "cell_type": "markdown",
      "metadata": {
        "id": "bBdmUaByyxjX"
      },
      "source": [
        "Data Preparation and Exploratory Data Analysis > Build Predictive Model using Multiple Techniques/Algorithms > Optimal Model identified through Testing and Evaluation"
      ]
    },
    {
      "cell_type": "markdown",
      "metadata": {
        "id": "ZG-bT1kNzuB5"
      },
      "source": [
        "# Importing "
      ]
    },
    {
      "cell_type": "code",
      "metadata": {
        "id": "HGZ-7SI0z88q"
      },
      "source": [
        "# importing required packages\n",
        "import numpy as np \n",
        "import pandas as pd \n",
        "import matplotlib.pyplot as plt\n",
        "import seaborn as sns\n",
        "import matplotlib.ticker as ticker\n",
        "import warnings\n",
        "warnings.filterwarnings('ignore')\n"
      ],
      "execution_count": 1,
      "outputs": []
    },
    {
      "cell_type": "code",
      "metadata": {
        "id": "bj7Zbpzn0UUu"
      },
      "source": [
        "# importing dataset and reading \n",
        "file='/content/drive/MyDrive/taxi trip time prediction/NYC Taxi Data.csv'\n",
        "data=pd.read_csv(file)\n",
        "data1=data.copy() # making a copy "
      ],
      "execution_count": 2,
      "outputs": []
    },
    {
      "cell_type": "markdown",
      "metadata": {
        "id": "Shvzca2rIIZV"
      },
      "source": [
        "# Data Inspection\n"
      ]
    },
    {
      "cell_type": "code",
      "metadata": {
        "colab": {
          "base_uri": "https://localhost:8080/",
          "height": 313
        },
        "id": "pzYUYakXINTd",
        "outputId": "89faba64-7aae-406b-b685-dcbfe3be2d26"
      },
      "source": [
        "# First look \n",
        "data1.head()"
      ],
      "execution_count": 3,
      "outputs": [
        {
          "output_type": "execute_result",
          "data": {
            "text/html": [
              "<div>\n",
              "<style scoped>\n",
              "    .dataframe tbody tr th:only-of-type {\n",
              "        vertical-align: middle;\n",
              "    }\n",
              "\n",
              "    .dataframe tbody tr th {\n",
              "        vertical-align: top;\n",
              "    }\n",
              "\n",
              "    .dataframe thead th {\n",
              "        text-align: right;\n",
              "    }\n",
              "</style>\n",
              "<table border=\"1\" class=\"dataframe\">\n",
              "  <thead>\n",
              "    <tr style=\"text-align: right;\">\n",
              "      <th></th>\n",
              "      <th>id</th>\n",
              "      <th>vendor_id</th>\n",
              "      <th>pickup_datetime</th>\n",
              "      <th>dropoff_datetime</th>\n",
              "      <th>passenger_count</th>\n",
              "      <th>pickup_longitude</th>\n",
              "      <th>pickup_latitude</th>\n",
              "      <th>dropoff_longitude</th>\n",
              "      <th>dropoff_latitude</th>\n",
              "      <th>store_and_fwd_flag</th>\n",
              "      <th>trip_duration</th>\n",
              "    </tr>\n",
              "  </thead>\n",
              "  <tbody>\n",
              "    <tr>\n",
              "      <th>0</th>\n",
              "      <td>id2875421</td>\n",
              "      <td>2</td>\n",
              "      <td>2016-03-14 17:24:55</td>\n",
              "      <td>2016-03-14 17:32:30</td>\n",
              "      <td>1</td>\n",
              "      <td>-73.982155</td>\n",
              "      <td>40.767937</td>\n",
              "      <td>-73.964630</td>\n",
              "      <td>40.765602</td>\n",
              "      <td>N</td>\n",
              "      <td>455</td>\n",
              "    </tr>\n",
              "    <tr>\n",
              "      <th>1</th>\n",
              "      <td>id2377394</td>\n",
              "      <td>1</td>\n",
              "      <td>2016-06-12 00:43:35</td>\n",
              "      <td>2016-06-12 00:54:38</td>\n",
              "      <td>1</td>\n",
              "      <td>-73.980415</td>\n",
              "      <td>40.738564</td>\n",
              "      <td>-73.999481</td>\n",
              "      <td>40.731152</td>\n",
              "      <td>N</td>\n",
              "      <td>663</td>\n",
              "    </tr>\n",
              "    <tr>\n",
              "      <th>2</th>\n",
              "      <td>id3858529</td>\n",
              "      <td>2</td>\n",
              "      <td>2016-01-19 11:35:24</td>\n",
              "      <td>2016-01-19 12:10:48</td>\n",
              "      <td>1</td>\n",
              "      <td>-73.979027</td>\n",
              "      <td>40.763939</td>\n",
              "      <td>-74.005333</td>\n",
              "      <td>40.710087</td>\n",
              "      <td>N</td>\n",
              "      <td>2124</td>\n",
              "    </tr>\n",
              "    <tr>\n",
              "      <th>3</th>\n",
              "      <td>id3504673</td>\n",
              "      <td>2</td>\n",
              "      <td>2016-04-06 19:32:31</td>\n",
              "      <td>2016-04-06 19:39:40</td>\n",
              "      <td>1</td>\n",
              "      <td>-74.010040</td>\n",
              "      <td>40.719971</td>\n",
              "      <td>-74.012268</td>\n",
              "      <td>40.706718</td>\n",
              "      <td>N</td>\n",
              "      <td>429</td>\n",
              "    </tr>\n",
              "    <tr>\n",
              "      <th>4</th>\n",
              "      <td>id2181028</td>\n",
              "      <td>2</td>\n",
              "      <td>2016-03-26 13:30:55</td>\n",
              "      <td>2016-03-26 13:38:10</td>\n",
              "      <td>1</td>\n",
              "      <td>-73.973053</td>\n",
              "      <td>40.793209</td>\n",
              "      <td>-73.972923</td>\n",
              "      <td>40.782520</td>\n",
              "      <td>N</td>\n",
              "      <td>435</td>\n",
              "    </tr>\n",
              "  </tbody>\n",
              "</table>\n",
              "</div>"
            ],
            "text/plain": [
              "          id  vendor_id  ... store_and_fwd_flag trip_duration\n",
              "0  id2875421          2  ...                  N           455\n",
              "1  id2377394          1  ...                  N           663\n",
              "2  id3858529          2  ...                  N          2124\n",
              "3  id3504673          2  ...                  N           429\n",
              "4  id2181028          2  ...                  N           435\n",
              "\n",
              "[5 rows x 11 columns]"
            ]
          },
          "metadata": {},
          "execution_count": 3
        }
      ]
    },
    {
      "cell_type": "code",
      "metadata": {
        "colab": {
          "base_uri": "https://localhost:8080/"
        },
        "id": "5wkqcjyGIRSP",
        "outputId": "b8b63def-d952-412c-8314-97b33bc7c46b"
      },
      "source": [
        "# looking into shape of dataset\n",
        "data1.shape\n",
        "print('number of rows',data1.shape[0])\n",
        "print('number of columns',data1.shape[1])"
      ],
      "execution_count": 4,
      "outputs": [
        {
          "output_type": "stream",
          "name": "stdout",
          "text": [
            "number of rows 1458644\n",
            "number of columns 11\n"
          ]
        }
      ]
    },
    {
      "cell_type": "code",
      "metadata": {
        "colab": {
          "base_uri": "https://localhost:8080/"
        },
        "id": "fXaZZ8EAIb1O",
        "outputId": "2f218cd4-1673-402b-da91-577739c6be3e"
      },
      "source": [
        "# # looking into information(datatype,columns,null/non-null count)\n",
        "data1.info()"
      ],
      "execution_count": 5,
      "outputs": [
        {
          "output_type": "stream",
          "name": "stdout",
          "text": [
            "<class 'pandas.core.frame.DataFrame'>\n",
            "RangeIndex: 1458644 entries, 0 to 1458643\n",
            "Data columns (total 11 columns):\n",
            " #   Column              Non-Null Count    Dtype  \n",
            "---  ------              --------------    -----  \n",
            " 0   id                  1458644 non-null  object \n",
            " 1   vendor_id           1458644 non-null  int64  \n",
            " 2   pickup_datetime     1458644 non-null  object \n",
            " 3   dropoff_datetime    1458644 non-null  object \n",
            " 4   passenger_count     1458644 non-null  int64  \n",
            " 5   pickup_longitude    1458644 non-null  float64\n",
            " 6   pickup_latitude     1458644 non-null  float64\n",
            " 7   dropoff_longitude   1458644 non-null  float64\n",
            " 8   dropoff_latitude    1458644 non-null  float64\n",
            " 9   store_and_fwd_flag  1458644 non-null  object \n",
            " 10  trip_duration       1458644 non-null  int64  \n",
            "dtypes: float64(4), int64(3), object(4)\n",
            "memory usage: 122.4+ MB\n"
          ]
        }
      ]
    },
    {
      "cell_type": "code",
      "metadata": {
        "colab": {
          "base_uri": "https://localhost:8080/",
          "height": 300
        },
        "id": "QFPCaP6EJWUp",
        "outputId": "0252b8c2-30de-455d-db41-0d7b02d06ad1"
      },
      "source": [
        "# looking in descriptive summary of dataset\n",
        "data1.describe()"
      ],
      "execution_count": 6,
      "outputs": [
        {
          "output_type": "execute_result",
          "data": {
            "text/html": [
              "<div>\n",
              "<style scoped>\n",
              "    .dataframe tbody tr th:only-of-type {\n",
              "        vertical-align: middle;\n",
              "    }\n",
              "\n",
              "    .dataframe tbody tr th {\n",
              "        vertical-align: top;\n",
              "    }\n",
              "\n",
              "    .dataframe thead th {\n",
              "        text-align: right;\n",
              "    }\n",
              "</style>\n",
              "<table border=\"1\" class=\"dataframe\">\n",
              "  <thead>\n",
              "    <tr style=\"text-align: right;\">\n",
              "      <th></th>\n",
              "      <th>vendor_id</th>\n",
              "      <th>passenger_count</th>\n",
              "      <th>pickup_longitude</th>\n",
              "      <th>pickup_latitude</th>\n",
              "      <th>dropoff_longitude</th>\n",
              "      <th>dropoff_latitude</th>\n",
              "      <th>trip_duration</th>\n",
              "    </tr>\n",
              "  </thead>\n",
              "  <tbody>\n",
              "    <tr>\n",
              "      <th>count</th>\n",
              "      <td>1.458644e+06</td>\n",
              "      <td>1.458644e+06</td>\n",
              "      <td>1.458644e+06</td>\n",
              "      <td>1.458644e+06</td>\n",
              "      <td>1.458644e+06</td>\n",
              "      <td>1.458644e+06</td>\n",
              "      <td>1.458644e+06</td>\n",
              "    </tr>\n",
              "    <tr>\n",
              "      <th>mean</th>\n",
              "      <td>1.534950e+00</td>\n",
              "      <td>1.664530e+00</td>\n",
              "      <td>-7.397349e+01</td>\n",
              "      <td>4.075092e+01</td>\n",
              "      <td>-7.397342e+01</td>\n",
              "      <td>4.075180e+01</td>\n",
              "      <td>9.594923e+02</td>\n",
              "    </tr>\n",
              "    <tr>\n",
              "      <th>std</th>\n",
              "      <td>4.987772e-01</td>\n",
              "      <td>1.314242e+00</td>\n",
              "      <td>7.090186e-02</td>\n",
              "      <td>3.288119e-02</td>\n",
              "      <td>7.064327e-02</td>\n",
              "      <td>3.589056e-02</td>\n",
              "      <td>5.237432e+03</td>\n",
              "    </tr>\n",
              "    <tr>\n",
              "      <th>min</th>\n",
              "      <td>1.000000e+00</td>\n",
              "      <td>0.000000e+00</td>\n",
              "      <td>-1.219333e+02</td>\n",
              "      <td>3.435970e+01</td>\n",
              "      <td>-1.219333e+02</td>\n",
              "      <td>3.218114e+01</td>\n",
              "      <td>1.000000e+00</td>\n",
              "    </tr>\n",
              "    <tr>\n",
              "      <th>25%</th>\n",
              "      <td>1.000000e+00</td>\n",
              "      <td>1.000000e+00</td>\n",
              "      <td>-7.399187e+01</td>\n",
              "      <td>4.073735e+01</td>\n",
              "      <td>-7.399133e+01</td>\n",
              "      <td>4.073588e+01</td>\n",
              "      <td>3.970000e+02</td>\n",
              "    </tr>\n",
              "    <tr>\n",
              "      <th>50%</th>\n",
              "      <td>2.000000e+00</td>\n",
              "      <td>1.000000e+00</td>\n",
              "      <td>-7.398174e+01</td>\n",
              "      <td>4.075410e+01</td>\n",
              "      <td>-7.397975e+01</td>\n",
              "      <td>4.075452e+01</td>\n",
              "      <td>6.620000e+02</td>\n",
              "    </tr>\n",
              "    <tr>\n",
              "      <th>75%</th>\n",
              "      <td>2.000000e+00</td>\n",
              "      <td>2.000000e+00</td>\n",
              "      <td>-7.396733e+01</td>\n",
              "      <td>4.076836e+01</td>\n",
              "      <td>-7.396301e+01</td>\n",
              "      <td>4.076981e+01</td>\n",
              "      <td>1.075000e+03</td>\n",
              "    </tr>\n",
              "    <tr>\n",
              "      <th>max</th>\n",
              "      <td>2.000000e+00</td>\n",
              "      <td>9.000000e+00</td>\n",
              "      <td>-6.133553e+01</td>\n",
              "      <td>5.188108e+01</td>\n",
              "      <td>-6.133553e+01</td>\n",
              "      <td>4.392103e+01</td>\n",
              "      <td>3.526282e+06</td>\n",
              "    </tr>\n",
              "  </tbody>\n",
              "</table>\n",
              "</div>"
            ],
            "text/plain": [
              "          vendor_id  passenger_count  ...  dropoff_latitude  trip_duration\n",
              "count  1.458644e+06     1.458644e+06  ...      1.458644e+06   1.458644e+06\n",
              "mean   1.534950e+00     1.664530e+00  ...      4.075180e+01   9.594923e+02\n",
              "std    4.987772e-01     1.314242e+00  ...      3.589056e-02   5.237432e+03\n",
              "min    1.000000e+00     0.000000e+00  ...      3.218114e+01   1.000000e+00\n",
              "25%    1.000000e+00     1.000000e+00  ...      4.073588e+01   3.970000e+02\n",
              "50%    2.000000e+00     1.000000e+00  ...      4.075452e+01   6.620000e+02\n",
              "75%    2.000000e+00     2.000000e+00  ...      4.076981e+01   1.075000e+03\n",
              "max    2.000000e+00     9.000000e+00  ...      4.392103e+01   3.526282e+06\n",
              "\n",
              "[8 rows x 7 columns]"
            ]
          },
          "metadata": {},
          "execution_count": 6
        }
      ]
    },
    {
      "cell_type": "markdown",
      "metadata": {
        "id": "FIC85-P1PvDX"
      },
      "source": [
        "## Handling missing values  "
      ]
    },
    {
      "cell_type": "code",
      "metadata": {
        "colab": {
          "base_uri": "https://localhost:8080/"
        },
        "id": "2w3T22KKP_6G",
        "outputId": "9416c83e-6a41-4659-865f-1cfa6807af04"
      },
      "source": [
        "# looking for missing values in dataset \n",
        "data1.isnull().sum()"
      ],
      "execution_count": 7,
      "outputs": [
        {
          "output_type": "execute_result",
          "data": {
            "text/plain": [
              "id                    0\n",
              "vendor_id             0\n",
              "pickup_datetime       0\n",
              "dropoff_datetime      0\n",
              "passenger_count       0\n",
              "pickup_longitude      0\n",
              "pickup_latitude       0\n",
              "dropoff_longitude     0\n",
              "dropoff_latitude      0\n",
              "store_and_fwd_flag    0\n",
              "trip_duration         0\n",
              "dtype: int64"
            ]
          },
          "metadata": {},
          "execution_count": 7
        }
      ]
    },
    {
      "cell_type": "markdown",
      "metadata": {
        "id": "wlED6HctQK02"
      },
      "source": [
        "### ohh! thats great no missing values/Null values to deal with, lets say its blessing in disguise"
      ]
    },
    {
      "cell_type": "markdown",
      "metadata": {
        "id": "mP-urStjuOhX"
      },
      "source": [
        "## looking for unique values"
      ]
    },
    {
      "cell_type": "code",
      "metadata": {
        "colab": {
          "base_uri": "https://localhost:8080/"
        },
        "id": "h7qD20U6uUBQ",
        "outputId": "ca973d47-2fd1-4140-f5ac-f6cba3664068"
      },
      "source": [
        "# Let us check for unique values in columns.\n",
        "\n",
        "print(data1.nunique().sort_values())"
      ],
      "execution_count": 8,
      "outputs": [
        {
          "output_type": "stream",
          "name": "stdout",
          "text": [
            "vendor_id                   2\n",
            "store_and_fwd_flag          2\n",
            "passenger_count            10\n",
            "trip_duration            7417\n",
            "pickup_longitude        23047\n",
            "dropoff_longitude       33821\n",
            "pickup_latitude         45245\n",
            "dropoff_latitude        62519\n",
            "pickup_datetime       1380222\n",
            "dropoff_datetime      1380377\n",
            "id                    1458644\n",
            "dtype: int64\n"
          ]
        }
      ]
    },
    {
      "cell_type": "markdown",
      "metadata": {
        "id": "V_Sh7pvUulrC"
      },
      "source": [
        "There are 2 unique vendor ids.\n",
        "\n",
        "There are 10 unique passenger counts.\n",
        "\n",
        "There are 2 unique values in store_and_fwd_flag, that we also saw in the description of the variables, i.e Y and N."
      ]
    },
    {
      "cell_type": "code",
      "metadata": {
        "colab": {
          "base_uri": "https://localhost:8080/",
          "height": 562
        },
        "id": "ar4LXUM1u1G3",
        "outputId": "eb868988-1cbb-4f5a-be93-97abad92410d"
      },
      "source": [
        "#Descriptive Stats in visual form\n",
        "\n",
        "plt.figure(figsize=(25,10))\n",
        "svm = sns.heatmap(data1.describe()[1:], annot=True, cmap='gist_earth',annot_kws={\"size\": 18})\n",
        "svm.set_xticklabels(svm.get_xmajorticklabels(), fontsize = 18)\n",
        "svm.set_yticklabels(svm.get_ymajorticklabels(), fontsize = 18)\n",
        "\n",
        "plt.title('Descriptive Stats')"
      ],
      "execution_count": 9,
      "outputs": [
        {
          "output_type": "execute_result",
          "data": {
            "text/plain": [
              "Text(0.5, 1.0, 'Descriptive Stats')"
            ]
          },
          "metadata": {},
          "execution_count": 9
        },
        {
          "output_type": "display_data",
          "data": {
            "image/png": "[encoded data removed]",
            "text/plain": [
              "<Figure size 1800x720 with 2 Axes>"
            ]
          },
          "metadata": {
            "needs_background": "light"
          }
        }
      ]
    },
    {
      "cell_type": "markdown",
      "metadata": {
        "id": "RIKhvuSwzTec"
      },
      "source": [
        "- We can observe that there were trips having 0 passengers which we can consider as false trip.\n",
        "\n",
        "\n",
        "- Also, there are trips having trip duration upto 3526282 seconds (Approx. 980 hours) which is kind of impossible in a day."
      ]
    },
    {
      "cell_type": "markdown",
      "metadata": {
        "id": "oLxl5WeQz3rc"
      },
      "source": [
        "# Feature Creation and Engineering\n",
        "- Let us create some new features from the existing so that we can gain more insights from the data.\n",
        "\n",
        " - pickup_datetime and dropoff_datetime were both of type object.\n",
        " we can convert it to datetime object which contains numerous functions with which we can create new features."
      ]
    },
    {
      "cell_type": "code",
      "metadata": {
        "id": "UFJdRkEX0pN_"
      },
      "source": [
        "# convert object type to datetime \n",
        "data1['pickup_datetime']=pd.to_datetime(data1['pickup_datetime']) \n",
        "data1['dropoff_datetime']=pd.to_datetime(data1['dropoff_datetime'])"
      ],
      "execution_count": 10,
      "outputs": []
    },
    {
      "cell_type": "markdown",
      "metadata": {
        "id": "OXK1fhHV2AYs"
      },
      "source": [
        "- Now that we have converted object type to datetime64 we can extract and create new features from this datetime feature"
      ]
    },
    {
      "cell_type": "code",
      "metadata": {
        "id": "T1Ob4hz62Jll"
      },
      "source": [
        "# extracting further information from datetime feature\n",
        "data1['pickup_day']=data1['pickup_datetime'].dt.day\n",
        "data1['pickup_month']=data1['pickup_datetime'].dt.month\n",
        "data1['pickup_weekday']=data1['pickup_datetime'].dt.weekday\n",
        "data1['pickup_hour']=data1['pickup_datetime'].dt.hour\n",
        "data1['pickup_date']=data1['pickup_datetime'].dt.date\n",
        "data1['pickup_min']=data1['pickup_datetime'].dt.minute"
      ],
      "execution_count": 11,
      "outputs": []
    },
    {
      "cell_type": "markdown",
      "metadata": {
        "id": "OK9Gzaaj4Uym"
      },
      "source": [
        "- We do not have to extract pickup and dropoff time both, as they may lead to strong positive correlation between them."
      ]
    },
    {
      "cell_type": "code",
      "metadata": {
        "id": "7qYX8n8m4uDq"
      },
      "source": [
        "# we will need to import library to calculate distances given in geographical coordinates\n",
        "from geopy.distance import great_circle\n"
      ],
      "execution_count": 12,
      "outputs": []
    },
    {
      "cell_type": "markdown",
      "metadata": {
        "id": "0rstkT4x5j_e"
      },
      "source": [
        "- lets define a function to take coordinates as inputs and return distance"
      ]
    },
    {
      "cell_type": "code",
      "metadata": {
        "id": "sbEdT0Ye56dz"
      },
      "source": [
        "#distance_calc is a function to calculate distance between pickup and dropoff coordinates.\n",
        "def distance_calc(pickup_lat,pickup_long,dropoff_lat,dropoff_long):\n",
        "  start_coordinates=(pickup_lat,pickup_long)\n",
        "  stop_coordinates=(dropoff_lat,dropoff_long)\n",
        " \n",
        "  return great_circle(start_coordinates,stop_coordinates).km\n"
      ],
      "execution_count": 13,
      "outputs": []
    },
    {
      "cell_type": "markdown",
      "metadata": {
        "id": "zIPvf2JK6rhl"
      },
      "source": [
        "- lets apply above function on given datset and create new feature as distance to define it "
      ]
    },
    {
      "cell_type": "code",
      "metadata": {
        "id": "1eHn82Qx7CYk"
      },
      "source": [
        "data1['distance']=data1.apply(lambda x: distance_calc(x['pickup_latitude'],x['pickup_longitude'],x['dropoff_latitude'],x['dropoff_longitude']),axis=1)"
      ],
      "execution_count": 14,
      "outputs": []
    },
    {
      "cell_type": "code",
      "metadata": {
        "colab": {
          "base_uri": "https://localhost:8080/",
          "height": 313
        },
        "id": "CiDchUiP7snb",
        "outputId": "a8942d7e-d6f7-488f-cd7a-da33adcf55fa"
      },
      "source": [
        "# lets take a look at dataset set to check whether features creation and engineering got reflected in our dataset\n",
        "data1.head()"
      ],
      "execution_count": 15,
      "outputs": [
        {
          "output_type": "execute_result",
          "data": {
            "text/html": [
              "<div>\n",
              "<style scoped>\n",
              "    .dataframe tbody tr th:only-of-type {\n",
              "        vertical-align: middle;\n",
              "    }\n",
              "\n",
              "    .dataframe tbody tr th {\n",
              "        vertical-align: top;\n",
              "    }\n",
              "\n",
              "    .dataframe thead th {\n",
              "        text-align: right;\n",
              "    }\n",
              "</style>\n",
              "<table border=\"1\" class=\"dataframe\">\n",
              "  <thead>\n",
              "    <tr style=\"text-align: right;\">\n",
              "      <th></th>\n",
              "      <th>id</th>\n",
              "      <th>vendor_id</th>\n",
              "      <th>pickup_datetime</th>\n",
              "      <th>dropoff_datetime</th>\n",
              "      <th>passenger_count</th>\n",
              "      <th>pickup_longitude</th>\n",
              "      <th>pickup_latitude</th>\n",
              "      <th>dropoff_longitude</th>\n",
              "      <th>dropoff_latitude</th>\n",
              "      <th>store_and_fwd_flag</th>\n",
              "      <th>trip_duration</th>\n",
              "      <th>pickup_day</th>\n",
              "      <th>pickup_month</th>\n",
              "      <th>pickup_weekday</th>\n",
              "      <th>pickup_hour</th>\n",
              "      <th>pickup_date</th>\n",
              "      <th>pickup_min</th>\n",
              "      <th>distance</th>\n",
              "    </tr>\n",
              "  </thead>\n",
              "  <tbody>\n",
              "    <tr>\n",
              "      <th>0</th>\n",
              "      <td>id2875421</td>\n",
              "      <td>2</td>\n",
              "      <td>2016-03-14 17:24:55</td>\n",
              "      <td>2016-03-14 17:32:30</td>\n",
              "      <td>1</td>\n",
              "      <td>-73.982155</td>\n",
              "      <td>40.767937</td>\n",
              "      <td>-73.964630</td>\n",
              "      <td>40.765602</td>\n",
              "      <td>N</td>\n",
              "      <td>455</td>\n",
              "      <td>14</td>\n",
              "      <td>3</td>\n",
              "      <td>0</td>\n",
              "      <td>17</td>\n",
              "      <td>2016-03-14</td>\n",
              "      <td>24</td>\n",
              "      <td>1.498523</td>\n",
              "    </tr>\n",
              "    <tr>\n",
              "      <th>1</th>\n",
              "      <td>id2377394</td>\n",
              "      <td>1</td>\n",
              "      <td>2016-06-12 00:43:35</td>\n",
              "      <td>2016-06-12 00:54:38</td>\n",
              "      <td>1</td>\n",
              "      <td>-73.980415</td>\n",
              "      <td>40.738564</td>\n",
              "      <td>-73.999481</td>\n",
              "      <td>40.731152</td>\n",
              "      <td>N</td>\n",
              "      <td>663</td>\n",
              "      <td>12</td>\n",
              "      <td>6</td>\n",
              "      <td>6</td>\n",
              "      <td>0</td>\n",
              "      <td>2016-06-12</td>\n",
              "      <td>43</td>\n",
              "      <td>1.805510</td>\n",
              "    </tr>\n",
              "    <tr>\n",
              "      <th>2</th>\n",
              "      <td>id3858529</td>\n",
              "      <td>2</td>\n",
              "      <td>2016-01-19 11:35:24</td>\n",
              "      <td>2016-01-19 12:10:48</td>\n",
              "      <td>1</td>\n",
              "      <td>-73.979027</td>\n",
              "      <td>40.763939</td>\n",
              "      <td>-74.005333</td>\n",
              "      <td>40.710087</td>\n",
              "      <td>N</td>\n",
              "      <td>2124</td>\n",
              "      <td>19</td>\n",
              "      <td>1</td>\n",
              "      <td>1</td>\n",
              "      <td>11</td>\n",
              "      <td>2016-01-19</td>\n",
              "      <td>35</td>\n",
              "      <td>6.385108</td>\n",
              "    </tr>\n",
              "    <tr>\n",
              "      <th>3</th>\n",
              "      <td>id3504673</td>\n",
              "      <td>2</td>\n",
              "      <td>2016-04-06 19:32:31</td>\n",
              "      <td>2016-04-06 19:39:40</td>\n",
              "      <td>1</td>\n",
              "      <td>-74.010040</td>\n",
              "      <td>40.719971</td>\n",
              "      <td>-74.012268</td>\n",
              "      <td>40.706718</td>\n",
              "      <td>N</td>\n",
              "      <td>429</td>\n",
              "      <td>6</td>\n",
              "      <td>4</td>\n",
              "      <td>2</td>\n",
              "      <td>19</td>\n",
              "      <td>2016-04-06</td>\n",
              "      <td>32</td>\n",
              "      <td>1.485501</td>\n",
              "    </tr>\n",
              "    <tr>\n",
              "      <th>4</th>\n",
              "      <td>id2181028</td>\n",
              "      <td>2</td>\n",
              "      <td>2016-03-26 13:30:55</td>\n",
              "      <td>2016-03-26 13:38:10</td>\n",
              "      <td>1</td>\n",
              "      <td>-73.973053</td>\n",
              "      <td>40.793209</td>\n",
              "      <td>-73.972923</td>\n",
              "      <td>40.782520</td>\n",
              "      <td>N</td>\n",
              "      <td>435</td>\n",
              "      <td>26</td>\n",
              "      <td>3</td>\n",
              "      <td>5</td>\n",
              "      <td>13</td>\n",
              "      <td>2016-03-26</td>\n",
              "      <td>30</td>\n",
              "      <td>1.188590</td>\n",
              "    </tr>\n",
              "  </tbody>\n",
              "</table>\n",
              "</div>"
            ],
            "text/plain": [
              "          id  vendor_id     pickup_datetime  ... pickup_date  pickup_min  distance\n",
              "0  id2875421          2 2016-03-14 17:24:55  ...  2016-03-14          24  1.498523\n",
              "1  id2377394          1 2016-06-12 00:43:35  ...  2016-06-12          43  1.805510\n",
              "2  id3858529          2 2016-01-19 11:35:24  ...  2016-01-19          35  6.385108\n",
              "3  id3504673          2 2016-04-06 19:32:31  ...  2016-04-06          32  1.485501\n",
              "4  id2181028          2 2016-03-26 13:30:55  ...  2016-03-26          30  1.188590\n",
              "\n",
              "[5 rows x 18 columns]"
            ]
          },
          "metadata": {},
          "execution_count": 15
        }
      ]
    },
    {
      "cell_type": "code",
      "metadata": {
        "colab": {
          "base_uri": "https://localhost:8080/",
          "height": 614
        },
        "id": "Cu5eUrXt9hEK",
        "outputId": "93b7dc95-d905-46f7-f42b-72fcdb097835"
      },
      "source": [
        "# lets check dtypes before jumping into eda and preprocessing\n",
        "data1.dtypes.reset_index()"
      ],
      "execution_count": 16,
      "outputs": [
        {
          "output_type": "execute_result",
          "data": {
            "text/html": [
              "<div>\n",
              "<style scoped>\n",
              "    .dataframe tbody tr th:only-of-type {\n",
              "        vertical-align: middle;\n",
              "    }\n",
              "\n",
              "    .dataframe tbody tr th {\n",
              "        vertical-align: top;\n",
              "    }\n",
              "\n",
              "    .dataframe thead th {\n",
              "        text-align: right;\n",
              "    }\n",
              "</style>\n",
              "<table border=\"1\" class=\"dataframe\">\n",
              "  <thead>\n",
              "    <tr style=\"text-align: right;\">\n",
              "      <th></th>\n",
              "      <th>index</th>\n",
              "      <th>0</th>\n",
              "    </tr>\n",
              "  </thead>\n",
              "  <tbody>\n",
              "    <tr>\n",
              "      <th>0</th>\n",
              "      <td>id</td>\n",
              "      <td>object</td>\n",
              "    </tr>\n",
              "    <tr>\n",
              "      <th>1</th>\n",
              "      <td>vendor_id</td>\n",
              "      <td>int64</td>\n",
              "    </tr>\n",
              "    <tr>\n",
              "      <th>2</th>\n",
              "      <td>pickup_datetime</td>\n",
              "      <td>datetime64[ns]</td>\n",
              "    </tr>\n",
              "    <tr>\n",
              "      <th>3</th>\n",
              "      <td>dropoff_datetime</td>\n",
              "      <td>datetime64[ns]</td>\n",
              "    </tr>\n",
              "    <tr>\n",
              "      <th>4</th>\n",
              "      <td>passenger_count</td>\n",
              "      <td>int64</td>\n",
              "    </tr>\n",
              "    <tr>\n",
              "      <th>5</th>\n",
              "      <td>pickup_longitude</td>\n",
              "      <td>float64</td>\n",
              "    </tr>\n",
              "    <tr>\n",
              "      <th>6</th>\n",
              "      <td>pickup_latitude</td>\n",
              "      <td>float64</td>\n",
              "    </tr>\n",
              "    <tr>\n",
              "      <th>7</th>\n",
              "      <td>dropoff_longitude</td>\n",
              "      <td>float64</td>\n",
              "    </tr>\n",
              "    <tr>\n",
              "      <th>8</th>\n",
              "      <td>dropoff_latitude</td>\n",
              "      <td>float64</td>\n",
              "    </tr>\n",
              "    <tr>\n",
              "      <th>9</th>\n",
              "      <td>store_and_fwd_flag</td>\n",
              "      <td>object</td>\n",
              "    </tr>\n",
              "    <tr>\n",
              "      <th>10</th>\n",
              "      <td>trip_duration</td>\n",
              "      <td>int64</td>\n",
              "    </tr>\n",
              "    <tr>\n",
              "      <th>11</th>\n",
              "      <td>pickup_day</td>\n",
              "      <td>int64</td>\n",
              "    </tr>\n",
              "    <tr>\n",
              "      <th>12</th>\n",
              "      <td>pickup_month</td>\n",
              "      <td>int64</td>\n",
              "    </tr>\n",
              "    <tr>\n",
              "      <th>13</th>\n",
              "      <td>pickup_weekday</td>\n",
              "      <td>int64</td>\n",
              "    </tr>\n",
              "    <tr>\n",
              "      <th>14</th>\n",
              "      <td>pickup_hour</td>\n",
              "      <td>int64</td>\n",
              "    </tr>\n",
              "    <tr>\n",
              "      <th>15</th>\n",
              "      <td>pickup_date</td>\n",
              "      <td>object</td>\n",
              "    </tr>\n",
              "    <tr>\n",
              "      <th>16</th>\n",
              "      <td>pickup_min</td>\n",
              "      <td>int64</td>\n",
              "    </tr>\n",
              "    <tr>\n",
              "      <th>17</th>\n",
              "      <td>distance</td>\n",
              "      <td>float64</td>\n",
              "    </tr>\n",
              "  </tbody>\n",
              "</table>\n",
              "</div>"
            ],
            "text/plain": [
              "                 index               0\n",
              "0                   id          object\n",
              "1            vendor_id           int64\n",
              "2      pickup_datetime  datetime64[ns]\n",
              "3     dropoff_datetime  datetime64[ns]\n",
              "4      passenger_count           int64\n",
              "5     pickup_longitude         float64\n",
              "6      pickup_latitude         float64\n",
              "7    dropoff_longitude         float64\n",
              "8     dropoff_latitude         float64\n",
              "9   store_and_fwd_flag          object\n",
              "10       trip_duration           int64\n",
              "11          pickup_day           int64\n",
              "12        pickup_month           int64\n",
              "13      pickup_weekday           int64\n",
              "14         pickup_hour           int64\n",
              "15         pickup_date          object\n",
              "16          pickup_min           int64\n",
              "17            distance         float64"
            ]
          },
          "metadata": {},
          "execution_count": 16
        }
      ]
    },
    {
      "cell_type": "markdown",
      "metadata": {
        "id": "yZxtCRLv-LPr"
      },
      "source": [
        "# Eda and Data Preprocessing"
      ]
    },
    {
      "cell_type": "markdown",
      "metadata": {
        "id": "9V-OeevAkvww"
      },
      "source": [
        "## univariate Analysis "
      ]
    },
    {
      "cell_type": "markdown",
      "metadata": {
        "id": "8MeRIrb_k8zC"
      },
      "source": [
        " A) **Vendor Id**"
      ]
    },
    {
      "cell_type": "code",
      "metadata": {
        "colab": {
          "base_uri": "https://localhost:8080/",
          "height": 477
        },
        "id": "Xe226VjhlGND",
        "outputId": "100c8355-63ba-4d3b-db27-d114070adea8"
      },
      "source": [
        "# vendor id visualization\n",
        "plt.figure(figsize=(8,7))\n",
        "sns.countplot(data1['vendor_id'])\n",
        "plt.title('vendor_ids')\n"
      ],
      "execution_count": 17,
      "outputs": [
        {
          "output_type": "execute_result",
          "data": {
            "text/plain": [
              "Text(0.5, 1.0, 'vendor_ids')"
            ]
          },
          "metadata": {},
          "execution_count": 17
        },
        {
          "output_type": "display_data",
          "data": {
            "image/png": "[encoded data removed]",
            "text/plain": [
              "<Figure size 576x504 with 1 Axes>"
            ]
          },
          "metadata": {
            "needs_background": "light"
          }
        }
      ]
    },
    {
      "cell_type": "markdown",
      "metadata": {
        "id": "pee8DYRYnTll"
      },
      "source": [
        "- From Above Visualization, we can say that there are **2 vendors**.\n",
        "\n",
        "\n",
        "- 2nd Service provider is the most preferred one by New Yorkers."
      ]
    },
    {
      "cell_type": "markdown",
      "metadata": {
        "id": "AFu-tp9tnksS"
      },
      "source": [
        "B) **Store and forward flag**"
      ]
    },
    {
      "cell_type": "code",
      "metadata": {
        "colab": {
          "base_uri": "https://localhost:8080/",
          "height": 445
        },
        "id": "hH9uNZM0oELl",
        "outputId": "44df294c-a059-4e9c-981b-75f8e31533b0"
      },
      "source": [
        "#Store & Forward flag visualization\n",
        "\n",
        "plt.figure(figsize=(8,7))\n",
        "plt.pie(data1['store_and_fwd_flag'].value_counts(), colors=['lightgreen', 'lightblue'], shadow=True, explode=[0.5,0], autopct='%1.2f%%', startangle=200)\n",
        "plt.legend(labels=['N','Y'])\n",
        "plt.title(\"Store and Forward Flag\")"
      ],
      "execution_count": 18,
      "outputs": [
        {
          "output_type": "execute_result",
          "data": {
            "text/plain": [
              "Text(0.5, 1.0, 'Store and Forward Flag')"
            ]
          },
          "metadata": {},
          "execution_count": 18
        },
        {
          "output_type": "display_data",
          "data": {
            "image/png": "[encoded data removed]",
            "text/plain": [
              "<Figure size 576x504 with 1 Axes>"
            ]
          },
          "metadata": {}
        }
      ]
    },
    {
      "cell_type": "code",
      "metadata": {
        "colab": {
          "base_uri": "https://localhost:8080/"
        },
        "id": "25APed_HorLI",
        "outputId": "3a0f216c-1474-466e-f959-cdb5437834c7"
      },
      "source": [
        "data1['store_and_fwd_flag'].value_counts() # to get exact count of stored trips"
      ],
      "execution_count": 19,
      "outputs": [
        {
          "output_type": "execute_result",
          "data": {
            "text/plain": [
              "N    1450599\n",
              "Y       8045\n",
              "Name: store_and_fwd_flag, dtype: int64"
            ]
          },
          "metadata": {},
          "execution_count": 19
        }
      ]
    },
    {
      "cell_type": "markdown",
      "metadata": {
        "id": "d7VXpskYo7bd"
      },
      "source": [
        "- We see there are less than 1% of trips that were stored before forwarding.\n",
        "\n",
        "- The number of N flag is much larger than Y flag.\n",
        "\n"
      ]
    },
    {
      "cell_type": "markdown",
      "metadata": {
        "id": "qUpnRwM6Wh8E"
      },
      "source": [
        "c) **Target Variable -Trip Duration**"
      ]
    },
    {
      "cell_type": "code",
      "metadata": {
        "colab": {
          "base_uri": "https://localhost:8080/",
          "height": 407
        },
        "id": "M-SoQ3VZWr2v",
        "outputId": "bfaed9d9-49e0-411d-f425-7f8ca1cef018"
      },
      "source": [
        "# visulaization of Trip Duration \n",
        "plt.figure(figsize=(18,6))\n",
        "sns.boxplot(data1['trip_duration'])"
      ],
      "execution_count": 20,
      "outputs": [
        {
          "output_type": "execute_result",
          "data": {
            "text/plain": [
              "<matplotlib.axes._subplots.AxesSubplot at 0x7fdb311ce510>"
            ]
          },
          "metadata": {},
          "execution_count": 20
        },
        {
          "output_type": "display_data",
          "data": {
            "image/png": "[encoded data removed]",
            "text/plain": [
              "<Figure size 1296x432 with 1 Axes>"
            ]
          },
          "metadata": {
            "needs_background": "light"
          }
        }
      ]
    },
    {
      "cell_type": "code",
      "metadata": {
        "colab": {
          "base_uri": "https://localhost:8080/"
        },
        "id": "MIY5HL9sXJSG",
        "outputId": "485a2ab4-de31-4f7f-99b4-5964dd29f262"
      },
      "source": [
        "# lets see otliers which are affecting the plot\n",
        "data1['trip_duration'].sort_values(ascending=False)"
      ],
      "execution_count": 21,
      "outputs": [
        {
          "output_type": "execute_result",
          "data": {
            "text/plain": [
              "978383     3526282\n",
              "924150     2227612\n",
              "680594     2049578\n",
              "355003     1939736\n",
              "1234291      86392\n",
              "            ...   \n",
              "1034341          1\n",
              "346102           1\n",
              "1360664          1\n",
              "1382872          1\n",
              "207497           1\n",
              "Name: trip_duration, Length: 1458644, dtype: int64"
            ]
          },
          "metadata": {},
          "execution_count": 21
        }
      ]
    },
    {
      "cell_type": "markdown",
      "metadata": {
        "id": "1azss3HPZPUP"
      },
      "source": [
        "- Probably in this visualization we can clearly see some outliers , their trips are lasting between 1900000 seconds (528 Hours) to 3500000 (972 hours) seconds which is impossible in case of taxi trips , How can a taxi trip be that long ?\n",
        "\n",
        "\n",
        "- We’ll have to get rid of those Outliers.\n",
        "- there are four rows only so lets drop them."
      ]
    },
    {
      "cell_type": "code",
      "metadata": {
        "id": "X3mDbE1OZi90"
      },
      "source": [
        "# dropping those outliers \n",
        "data1.drop(data1[data1['trip_duration']== 3526282].index,inplace=True)\n",
        "data1.drop(data1[data1['trip_duration'] == 2227612].index, inplace = True)\n",
        "data1.drop(data1[data1['trip_duration'] == 2049578].index, inplace = True)\n",
        "data1.drop(data1[data1['trip_duration'] == 1939736].index, inplace = True)\n"
      ],
      "execution_count": 22,
      "outputs": []
    },
    {
      "cell_type": "code",
      "metadata": {
        "colab": {
          "base_uri": "https://localhost:8080/",
          "height": 407
        },
        "id": "QPwMUe7oaf2A",
        "outputId": "3d372d84-83c7-4400-923e-bba4dddc8b85"
      },
      "source": [
        "# lets plot again to see has it make any difference\n",
        "plt.figure(figsize=(18,6))\n",
        "sns.boxplot(data1['trip_duration'])"
      ],
      "execution_count": 23,
      "outputs": [
        {
          "output_type": "execute_result",
          "data": {
            "text/plain": [
              "<matplotlib.axes._subplots.AxesSubplot at 0x7fdb341f2a90>"
            ]
          },
          "metadata": {},
          "execution_count": 23
        },
        {
          "output_type": "display_data",
          "data": {
            "image/png": "[encoded data removed]",
            "text/plain": [
              "<Figure size 1296x432 with 1 Axes>"
            ]
          },
          "metadata": {
            "needs_background": "light"
          }
        }
      ]
    },
    {
      "cell_type": "markdown",
      "metadata": {
        "id": "_PJNnb8pbUTy"
      },
      "source": [
        "D) **Passenger Count**"
      ]
    },
    {
      "cell_type": "code",
      "metadata": {
        "colab": {
          "base_uri": "https://localhost:8080/",
          "height": 422
        },
        "id": "m3nzylrBbY0w",
        "outputId": "8ab9f2c5-f2b0-4302-8bd0-b13006f3dbc3"
      },
      "source": [
        "# passenger spread\n",
        "plt.figure(figsize=(18,6))\n",
        "sns.boxplot(data1['passenger_count'],color='green')\n",
        "plt.title('passenger count distribution')"
      ],
      "execution_count": 24,
      "outputs": [
        {
          "output_type": "execute_result",
          "data": {
            "text/plain": [
              "Text(0.5, 1.0, 'passenger count distribution')"
            ]
          },
          "metadata": {},
          "execution_count": 24
        },
        {
          "output_type": "display_data",
          "data": {
            "image/png": "[encoded data removed]",
            "text/plain": [
              "<Figure size 1296x432 with 1 Axes>"
            ]
          },
          "metadata": {
            "needs_background": "light"
          }
        }
      ]
    },
    {
      "cell_type": "markdown",
      "metadata": {
        "id": "_dHFIa27chA-"
      },
      "source": [
        "- above plot tells us that most of the trip are done with 1-2 passengers and small vehicles are usually used.\n",
        "- above 4 passengers trip states that cab used are large vehicles."
      ]
    },
    {
      "cell_type": "code",
      "metadata": {
        "colab": {
          "base_uri": "https://localhost:8080/"
        },
        "id": "J3Qgo1o1dZ9i",
        "outputId": "4e189dd1-be43-48f7-e2fb-6658080355c9"
      },
      "source": [
        "data1['passenger_count'].value_counts()"
      ],
      "execution_count": 25,
      "outputs": [
        {
          "output_type": "execute_result",
          "data": {
            "text/plain": [
              "1    1033537\n",
              "2     210317\n",
              "5      78088\n",
              "3      59896\n",
              "6      48333\n",
              "4      28404\n",
              "0         60\n",
              "7          3\n",
              "9          1\n",
              "8          1\n",
              "Name: passenger_count, dtype: int64"
            ]
          },
          "metadata": {},
          "execution_count": 25
        }
      ]
    },
    {
      "cell_type": "markdown",
      "metadata": {
        "id": "BHTy44u4dp2i"
      },
      "source": [
        " - There are some trips with even 0 passenger count.\n",
        " - And 3 trips with 7 passengers.\n",
        " - And there is only 1 trip each for 8 and 9 passengers."
      ]
    },
    {
      "cell_type": "code",
      "metadata": {
        "id": "5zPhs6K6eKnA"
      },
      "source": [
        "# lets remove rows with 0 and passengers greater than 6\n",
        "data1=data1[data1['passenger_count']>0]\n",
        "data1=data1[data1['passenger_count']<=6]"
      ],
      "execution_count": 26,
      "outputs": []
    },
    {
      "cell_type": "code",
      "metadata": {
        "colab": {
          "base_uri": "https://localhost:8080/"
        },
        "id": "GSWx0Av9eoBL",
        "outputId": "4d904886-715f-4aa4-c68a-2f8271bb7b5c"
      },
      "source": [
        "data1['passenger_count'].value_counts()"
      ],
      "execution_count": 27,
      "outputs": [
        {
          "output_type": "execute_result",
          "data": {
            "text/plain": [
              "1    1033537\n",
              "2     210317\n",
              "5      78088\n",
              "3      59896\n",
              "6      48333\n",
              "4      28404\n",
              "Name: passenger_count, dtype: int64"
            ]
          },
          "metadata": {},
          "execution_count": 27
        }
      ]
    },
    {
      "cell_type": "code",
      "metadata": {
        "colab": {
          "base_uri": "https://localhost:8080/",
          "height": 472
        },
        "id": "ElvDdv9aeuts",
        "outputId": "cce0a7c4-d638-4119-b255-02c95cfb3ec4"
      },
      "source": [
        "# passenger count\n",
        "plt.figure(figsize=(10,7))\n",
        "sns.countplot(data1['passenger_count'])"
      ],
      "execution_count": 28,
      "outputs": [
        {
          "output_type": "execute_result",
          "data": {
            "text/plain": [
              "<matplotlib.axes._subplots.AxesSubplot at 0x7fdb2f368390>"
            ]
          },
          "metadata": {},
          "execution_count": 28
        },
        {
          "output_type": "display_data",
          "data": {
            "image/png": "[encoded data removed]",
            "text/plain": [
              "<Figure size 720x504 with 1 Axes>"
            ]
          },
          "metadata": {
            "needs_background": "light"
          }
        }
      ]
    },
    {
      "cell_type": "markdown",
      "metadata": {
        "id": "vNArt8xZfY6B"
      },
      "source": [
        " - Now, that seems like a fair distribution.\n",
        "\n",
        " - We see the highest amount of trips are with 1 passenger."
      ]
    },
    {
      "cell_type": "markdown",
      "metadata": {
        "id": "NUBt3x7QngpO"
      },
      "source": [
        "E) **Distance**"
      ]
    },
    {
      "cell_type": "code",
      "metadata": {
        "colab": {
          "base_uri": "https://localhost:8080/",
          "height": 331
        },
        "id": "lUrKAmH4nn9p",
        "outputId": "f2ed6284-eaf6-45e9-d0a5-a97376ba50bf"
      },
      "source": [
        "# visulization of distance\n",
        "plt.figure(figsize = (20,5))\n",
        "sns.boxplot(data1.distance)\n",
        "plt.show()"
      ],
      "execution_count": 29,
      "outputs": [
        {
          "output_type": "display_data",
          "data": {
            "image/png": "[encoded data removed]",
            "text/plain": [
              "<Figure size 1440x360 with 1 Axes>"
            ]
          },
          "metadata": {
            "needs_background": "light"
          }
        }
      ]
    },
    {
      "cell_type": "code",
      "metadata": {
        "colab": {
          "base_uri": "https://localhost:8080/"
        },
        "id": "WlfMSsYqn8yc",
        "outputId": "d6fabdab-4118-4a36-e409-fe990256269b"
      },
      "source": [
        "data1.distance[data1.distance==0].count()"
      ],
      "execution_count": 30,
      "outputs": [
        {
          "output_type": "execute_result",
          "data": {
            "text/plain": [
              "5887"
            ]
          },
          "metadata": {},
          "execution_count": 30
        }
      ]
    },
    {
      "cell_type": "markdown",
      "metadata": {
        "id": "ENmzv0-Do0mf"
      },
      "source": [
        "- there are 5887 trips with 0 km distnces reasons might be.\n",
        "- dropoff location couldn't be tracked.\n",
        "- driver took this trip to complete his ride target number.\n",
        "- passengers cancelled this trip."
      ]
    },
    {
      "cell_type": "markdown",
      "metadata": {
        "id": "A9hzYKnrwzMb"
      },
      "source": [
        "F) **Trip per Day in a Week**"
      ]
    },
    {
      "cell_type": "code",
      "metadata": {
        "colab": {
          "base_uri": "https://localhost:8080/",
          "height": 476
        },
        "id": "UDUh-75Hw-W5",
        "outputId": "d7193793-cdc7-44af-eb9c-fdad600c7575"
      },
      "source": [
        "# analysing week days trips\n",
        "plt.figure(figsize=(15,7))\n",
        "week=data1['pickup_weekday'].value_counts().sort_index()\n",
        "week.plot(kind='bar')\n",
        "week.plot(kind='line',color='red')\n",
        "plt.xticks(ticks=[0,1,2,3,4,5,6],labels=['Monday','Tuesday','Wednesday','Thursday','Friday','Saturday','Sunday'])\n",
        "plt.xlabel('Days')\n",
        "plt.ylabel('counts')\n",
        "plt.title('Overall week days trips')\n"
      ],
      "execution_count": 34,
      "outputs": [
        {
          "output_type": "execute_result",
          "data": {
            "text/plain": [
              "Text(0.5, 1.0, 'Overall week days trips')"
            ]
          },
          "metadata": {},
          "execution_count": 34
        },
        {
          "output_type": "display_data",
          "data": {
            "image/png": "[encoded data removed]",
            "text/plain": [
              "<Figure size 1080x504 with 1 Axes>"
            ]
          },
          "metadata": {
            "needs_background": "light"
          }
        }
      ]
    },
    {
      "cell_type": "markdown",
      "metadata": {
        "id": "NuDrdVp9zSLW"
      },
      "source": [
        "- from above observations we can say that New Yorkers prefer friday and saturday to rome around."
      ]
    },
    {
      "cell_type": "markdown",
      "metadata": {
        "id": "sx6mGcovzreQ"
      },
      "source": [
        "G) **Trip per Hour**"
      ]
    },
    {
      "cell_type": "code",
      "metadata": {
        "colab": {
          "base_uri": "https://localhost:8080/",
          "height": 422
        },
        "id": "tMWW2_Pjz0_P",
        "outputId": "42317d6b-bd8c-4ebd-e77c-b8766ca95165"
      },
      "source": [
        "# lets look at hourly pickups\n",
        "plt.figure(figsize=(18,6))\n",
        "hour=data1['pickup_hour'].value_counts().sort_index()\n",
        "hour.plot(kind='bar',color='green')\n",
        "plt.xticks(rotation=0) # used to change ticks rotations\n",
        "plt.xlabel('Hours')\n",
        "plt.ylabel('Counts')\n",
        "plt.title('Hourly Pickups')"
      ],
      "execution_count": 37,
      "outputs": [
        {
          "output_type": "execute_result",
          "data": {
            "text/plain": [
              "Text(0.5, 1.0, 'Hourly Pickups')"
            ]
          },
          "metadata": {},
          "execution_count": 37
        },
        {
          "output_type": "display_data",
          "data": {
            "image/png": "[encoded data removed]",
            "text/plain": [
              "<Figure size 1296x432 with 1 Axes>"
            ]
          },
          "metadata": {
            "needs_background": "light"
          }
        }
      ]
    },
    {
      "cell_type": "markdown",
      "metadata": {
        "id": "R1C-JqVE1s8X"
      },
      "source": [
        "- Above observation suggest -Rush hours (5 pm to 10 pm), probably office leaving time.\n",
        "\n",
        "- we also observe that most pickups and drops occur in the evening. While the least drops and pickups occur during midday."
      ]
    },
    {
      "cell_type": "markdown",
      "metadata": {
        "id": "6OpGRDCp2QYw"
      },
      "source": [
        "H) **Trips Per Day in a Month**"
      ]
    },
    {
      "cell_type": "code",
      "metadata": {
        "colab": {
          "base_uri": "https://localhost:8080/",
          "height": 459
        },
        "id": "QWfxoxJx2jzJ",
        "outputId": "0527737d-0037-4492-dd50-12fdd39b5d80"
      },
      "source": [
        "# analysing daily trips in month\n",
        "plt.figure(figsize=(18,6))\n",
        "days=data1['pickup_day'].value_counts().sort_index()\n",
        "days.plot(kind='bar',color='maroon')\n",
        "days.plot(kind='line',color='blue')\n",
        "plt.xlabel('Days')\n",
        "plt.ylabel('Counts')\n",
        "plt.title('Daily Trips in a month')\n",
        "plt.xticks(rotation=0)\n",
        "\n",
        "\n"
      ],
      "execution_count": 41,
      "outputs": [
        {
          "output_type": "execute_result",
          "data": {
            "text/plain": [
              "(array([ 0,  1,  2,  3,  4,  5,  6,  7,  8,  9, 10, 11, 12, 13, 14, 15, 16,\n",
              "        17, 18, 19, 20, 21, 22, 23, 24, 25, 26, 27, 28, 29, 30]),\n",
              " <a list of 31 Text major ticklabel objects>)"
            ]
          },
          "metadata": {},
          "execution_count": 41
        },
        {
          "output_type": "display_data",
          "data": {
            "image/png": "[encoded data removed]",
            "text/plain": [
              "<Figure size 1296x432 with 1 Axes>"
            ]
          },
          "metadata": {
            "needs_background": "light"
          }
        }
      ]
    },
    {
      "cell_type": "markdown",
      "metadata": {
        "id": "qoQHpxsc4xe3"
      },
      "source": [
        "- New Yorkers don't seems to be fond of travelling during month ends. "
      ]
    },
    {
      "cell_type": "markdown",
      "metadata": {
        "id": "4_rqXGR15LMS"
      },
      "source": [
        "I) **Trips Per Month**"
      ]
    },
    {
      "cell_type": "code",
      "metadata": {
        "colab": {
          "base_uri": "https://localhost:8080/",
          "height": 477
        },
        "id": "fuyCdYLi5SjH",
        "outputId": "1d568937-b939-4b5b-ea2f-0dffa3c8fe44"
      },
      "source": [
        "## monthly trips exploration\n",
        "plt.figure(figsize=(10,7))\n",
        "sns.countplot(data1['pickup_month'], palette='Accent')\n",
        "plt.xticks([0,1,2,3,4,5], labels=['Jan','Feb','March','April','May','June'])\n",
        "plt.title('Overall Monthly trips')"
      ],
      "execution_count": 42,
      "outputs": [
        {
          "output_type": "execute_result",
          "data": {
            "text/plain": [
              "Text(0.5, 1.0, 'Overall Monthly trips')"
            ]
          },
          "metadata": {},
          "execution_count": 42
        },
        {
          "output_type": "display_data",
          "data": {
            "image/png": "[encoded data removed]",
            "text/plain": [
              "<Figure size 720x504 with 1 Axes>"
            ]
          },
          "metadata": {
            "needs_background": "light"
          }
        }
      ]
    },
    {
      "cell_type": "markdown",
      "metadata": {
        "id": "7fAR8JRG6zkM"
      },
      "source": [
        "- we can see we only got data for 6 months.\n",
        "- we can see there is some seasonality factor defining demand\n",
        "  i,e march and april marking highest (summer season) and january being lowest ( extreme snowfall).\n",
        "  "
      ]
    },
    {
      "cell_type": "markdown",
      "metadata": {
        "id": "PAQUkazM7ND4"
      },
      "source": [
        "# Bivariate Analysis of Target variable"
      ]
    },
    {
      "cell_type": "code",
      "metadata": {
        "colab": {
          "base_uri": "https://localhost:8080/",
          "height": 387
        },
        "id": "f0cvQ12L8lcC",
        "outputId": "a7a22217-bfcb-4349-fe80-38d6ce50f277"
      },
      "source": [
        "# Trip duration according to vendor\n",
        "sns.catplot(x='vendor_id',y='trip_duration',data=data1)"
      ],
      "execution_count": 46,
      "outputs": [
        {
          "output_type": "execute_result",
          "data": {
            "text/plain": [
              "<seaborn.axisgrid.FacetGrid at 0x7fdb53301210>"
            ]
          },
          "metadata": {},
          "execution_count": 46
        },
        {
          "output_type": "display_data",
          "data": {
            "image/png": "[encoded data removed]",
            "text/plain": [
              "<Figure size 360x360 with 1 Axes>"
            ]
          },
          "metadata": {
            "needs_background": "light"
          }
        }
      ]
    },
    {
      "cell_type": "markdown",
      "metadata": {
        "id": "JM6CaZ2X9b9H"
      },
      "source": [
        "Vendor id 2 takes longer trips as compared to vendor 1."
      ]
    },
    {
      "cell_type": "code",
      "metadata": {
        "colab": {
          "base_uri": "https://localhost:8080/",
          "height": 387
        },
        "id": "DmUSKS04-Tcq",
        "outputId": "55352e95-f874-432d-c200-c3768c90be38"
      },
      "source": [
        "# Trip Duration per Store and Forward Flag\n",
        "sns.catplot(y='trip_duration',x='store_and_fwd_flag',data=data1,kind='strip')"
      ],
      "execution_count": 47,
      "outputs": [
        {
          "output_type": "execute_result",
          "data": {
            "text/plain": [
              "<seaborn.axisgrid.FacetGrid at 0x7fdb53a45f10>"
            ]
          },
          "metadata": {},
          "execution_count": 47
        },
        {
          "output_type": "display_data",
          "data": {
            "image/png": "[encoded data removed]",
            "text/plain": [
              "<Figure size 360x360 with 1 Axes>"
            ]
          },
          "metadata": {
            "needs_background": "light"
          }
        }
      ]
    },
    {
      "cell_type": "markdown",
      "metadata": {
        "id": "mL7F6-6w-gz9"
      },
      "source": [
        "- Trip duration is generally longer for trips whose flag was not stored."
      ]
    }
  ]
}