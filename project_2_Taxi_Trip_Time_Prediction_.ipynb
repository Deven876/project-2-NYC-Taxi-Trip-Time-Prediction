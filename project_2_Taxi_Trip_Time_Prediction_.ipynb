{
  "nbformat": 4,
  "nbformat_minor": 0,
  "metadata": {
    "colab": {
      "name": "project 2: Taxi Trip Time Prediction .ipynb",
      "provenance": [],
      "collapsed_sections": [],
      "mount_file_id": "1wJIb1BYGzKDGRZ1F0Lkv0uN7huN13Yot",
      "authorship_tag": "ABX9TyMIorMfeMugs2BhOPfQQrfC",
      "include_colab_link": true
    },
    "kernelspec": {
      "name": "python3",
      "display_name": "Python 3"
    },
    "language_info": {
      "name": "python"
    }
  },
  "cells": [
    {
      "cell_type": "markdown",
      "metadata": {
        "id": "view-in-github",
        "colab_type": "text"
      },
      "source": [
        "<a href=\"https://colab.research.google.com/github/Deven876/project-2-NYC-Taxi-Trip-Time-Prediction/blob/main/project_2_Taxi_Trip_Time_Prediction_.ipynb\" target=\"_parent\"><img src=\"https://colab.research.google.com/assets/colab-badge.svg\" alt=\"Open In Colab\"/></a>"
      ]
    },
    {
      "cell_type": "markdown",
      "metadata": {
        "id": "-s8mUwjJR_y6"
      },
      "source": [
        "![ttp.jpg](data:image/jpeg;base64,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)\n",
        "# <b><u> Project Title : Taxi trip time Prediction : Predicting total ride duration of taxi trips in New York City</u></b>"
      ]
    },
    {
      "cell_type": "markdown",
      "metadata": {
        "id": "hanFi6UjTXbF"
      },
      "source": [
        "## <b> Problem Description </b>\n",
        "\n",
        "### Your task is to build a model that predicts the total ride duration of taxi trips in New York City. Your primary dataset is one released by the NYC Taxi and Limousine Commission, which includes pickup time, geo-coordinates, number of passengers, and several other variables."
      ]
    },
    {
      "cell_type": "markdown",
      "metadata": {
        "id": "iUJoIt9vTd9K"
      },
      "source": [
        "## <b> Data Description </b>\n",
        "\n",
        "### The dataset is based on the 2016 NYC Yellow Cab trip record data made available in Big Query on Google Cloud Platform. The data was originally published by the NYC Taxi and Limousine Commission (TLC). The data was sampled and cleaned for the purposes of this project. Based on individual trip attributes, you should predict the duration of each trip in the test set.\n",
        "\n",
        "### <b>NYC Taxi Data.csv</b> - the training set (contains 1458644 trip records)\n",
        "\n",
        "\n",
        "### Data fields\n",
        "* #### id - a unique identifier for each trip\n",
        "* #### vendor_id - a code indicating the provider associated with the trip record\n",
        "* #### pickup_datetime - date and time when the meter was engaged\n",
        "* #### dropoff_datetime - date and time when the meter was disengaged\n",
        "* #### passenger_count - the number of passengers in the vehicle (driver entered value)\n",
        "* #### pickup_longitude - the longitude where the meter was engaged\n",
        "* #### pickup_latitude - the latitude where the meter was engaged\n",
        "* #### dropoff_longitude - the longitude where the meter was disengaged\n",
        "* #### dropoff_latitude - the latitude where the meter was disengaged\n",
        "* #### store_and_fwd_flag - This flag indicates whether the trip record was held in vehicle memory before sending to the vendor because the vehicle did not have a connection to the server - Y=store and forward; N=not a store and forward trip\n",
        "* #### trip_duration - duration of the trip in seconds"
      ]
    },
    {
      "cell_type": "markdown",
      "metadata": {
        "id": "u9fc3SbiyhcS"
      },
      "source": [
        "# Architecture"
      ]
    },
    {
      "cell_type": "markdown",
      "metadata": {
        "id": "bBdmUaByyxjX"
      },
      "source": [
        "Data Preparation and Exploratory Data Analysis > Build Predictive Model using Multiple Techniques/Algorithms > Optimal Model identified through Testing and Evaluation"
      ]
    },
    {
      "cell_type": "markdown",
      "metadata": {
        "id": "ZG-bT1kNzuB5"
      },
      "source": [
        "# Importing "
      ]
    },
    {
      "cell_type": "code",
      "metadata": {
        "id": "HGZ-7SI0z88q"
      },
      "source": [
        "# importing required packages\n",
        "import numpy as np \n",
        "import pandas as pd \n",
        "import matplotlib.pyplot as plt\n",
        "import seaborn as sns\n",
        "import matplotlib.ticker as ticker\n",
        "import warnings\n",
        "warnings.filterwarnings('ignore')\n"
      ],
      "execution_count": 1,
      "outputs": []
    },
    {
      "cell_type": "code",
      "metadata": {
        "id": "bj7Zbpzn0UUu"
      },
      "source": [
        "# importing dataset and reading \n",
        "file='/content/drive/MyDrive/taxi trip time prediction/NYC Taxi Data.csv'\n",
        "data=pd.read_csv(file)\n",
        "data1=data.copy() # making a copy "
      ],
      "execution_count": 2,
      "outputs": []
    },
    {
      "cell_type": "markdown",
      "metadata": {
        "id": "Shvzca2rIIZV"
      },
      "source": [
        "# Data Inspection\n"
      ]
    },
    {
      "cell_type": "code",
      "metadata": {
        "colab": {
          "base_uri": "https://localhost:8080/",
          "height": 313
        },
        "id": "pzYUYakXINTd",
        "outputId": "234e2e3e-526f-4e25-aa69-93471147a72b"
      },
      "source": [
        "# First look \n",
        "data1.head()"
      ],
      "execution_count": 3,
      "outputs": [
        {
          "output_type": "execute_result",
          "data": {
            "text/html": [
              "<div>\n",
              "<style scoped>\n",
              "    .dataframe tbody tr th:only-of-type {\n",
              "        vertical-align: middle;\n",
              "    }\n",
              "\n",
              "    .dataframe tbody tr th {\n",
              "        vertical-align: top;\n",
              "    }\n",
              "\n",
              "    .dataframe thead th {\n",
              "        text-align: right;\n",
              "    }\n",
              "</style>\n",
              "<table border=\"1\" class=\"dataframe\">\n",
              "  <thead>\n",
              "    <tr style=\"text-align: right;\">\n",
              "      <th></th>\n",
              "      <th>id</th>\n",
              "      <th>vendor_id</th>\n",
              "      <th>pickup_datetime</th>\n",
              "      <th>dropoff_datetime</th>\n",
              "      <th>passenger_count</th>\n",
              "      <th>pickup_longitude</th>\n",
              "      <th>pickup_latitude</th>\n",
              "      <th>dropoff_longitude</th>\n",
              "      <th>dropoff_latitude</th>\n",
              "      <th>store_and_fwd_flag</th>\n",
              "      <th>trip_duration</th>\n",
              "    </tr>\n",
              "  </thead>\n",
              "  <tbody>\n",
              "    <tr>\n",
              "      <th>0</th>\n",
              "      <td>id2875421</td>\n",
              "      <td>2</td>\n",
              "      <td>2016-03-14 17:24:55</td>\n",
              "      <td>2016-03-14 17:32:30</td>\n",
              "      <td>1</td>\n",
              "      <td>-73.982155</td>\n",
              "      <td>40.767937</td>\n",
              "      <td>-73.964630</td>\n",
              "      <td>40.765602</td>\n",
              "      <td>N</td>\n",
              "      <td>455</td>\n",
              "    </tr>\n",
              "    <tr>\n",
              "      <th>1</th>\n",
              "      <td>id2377394</td>\n",
              "      <td>1</td>\n",
              "      <td>2016-06-12 00:43:35</td>\n",
              "      <td>2016-06-12 00:54:38</td>\n",
              "      <td>1</td>\n",
              "      <td>-73.980415</td>\n",
              "      <td>40.738564</td>\n",
              "      <td>-73.999481</td>\n",
              "      <td>40.731152</td>\n",
              "      <td>N</td>\n",
              "      <td>663</td>\n",
              "    </tr>\n",
              "    <tr>\n",
              "      <th>2</th>\n",
              "      <td>id3858529</td>\n",
              "      <td>2</td>\n",
              "      <td>2016-01-19 11:35:24</td>\n",
              "      <td>2016-01-19 12:10:48</td>\n",
              "      <td>1</td>\n",
              "      <td>-73.979027</td>\n",
              "      <td>40.763939</td>\n",
              "      <td>-74.005333</td>\n",
              "      <td>40.710087</td>\n",
              "      <td>N</td>\n",
              "      <td>2124</td>\n",
              "    </tr>\n",
              "    <tr>\n",
              "      <th>3</th>\n",
              "      <td>id3504673</td>\n",
              "      <td>2</td>\n",
              "      <td>2016-04-06 19:32:31</td>\n",
              "      <td>2016-04-06 19:39:40</td>\n",
              "      <td>1</td>\n",
              "      <td>-74.010040</td>\n",
              "      <td>40.719971</td>\n",
              "      <td>-74.012268</td>\n",
              "      <td>40.706718</td>\n",
              "      <td>N</td>\n",
              "      <td>429</td>\n",
              "    </tr>\n",
              "    <tr>\n",
              "      <th>4</th>\n",
              "      <td>id2181028</td>\n",
              "      <td>2</td>\n",
              "      <td>2016-03-26 13:30:55</td>\n",
              "      <td>2016-03-26 13:38:10</td>\n",
              "      <td>1</td>\n",
              "      <td>-73.973053</td>\n",
              "      <td>40.793209</td>\n",
              "      <td>-73.972923</td>\n",
              "      <td>40.782520</td>\n",
              "      <td>N</td>\n",
              "      <td>435</td>\n",
              "    </tr>\n",
              "  </tbody>\n",
              "</table>\n",
              "</div>"
            ],
            "text/plain": [
              "          id  vendor_id  ... store_and_fwd_flag trip_duration\n",
              "0  id2875421          2  ...                  N           455\n",
              "1  id2377394          1  ...                  N           663\n",
              "2  id3858529          2  ...                  N          2124\n",
              "3  id3504673          2  ...                  N           429\n",
              "4  id2181028          2  ...                  N           435\n",
              "\n",
              "[5 rows x 11 columns]"
            ]
          },
          "metadata": {},
          "execution_count": 3
        }
      ]
    },
    {
      "cell_type": "code",
      "metadata": {
        "colab": {
          "base_uri": "https://localhost:8080/"
        },
        "id": "5wkqcjyGIRSP",
        "outputId": "7ce6735b-f947-4058-ba17-0c9c0f08e704"
      },
      "source": [
        "# looking into shape of dataset\n",
        "data1.shape\n",
        "print('number of rows',data1.shape[0])\n",
        "print('number of columns',data1.shape[1])"
      ],
      "execution_count": 4,
      "outputs": [
        {
          "output_type": "stream",
          "name": "stdout",
          "text": [
            "number of rows 1458644\n",
            "number of columns 11\n"
          ]
        }
      ]
    },
    {
      "cell_type": "code",
      "metadata": {
        "colab": {
          "base_uri": "https://localhost:8080/"
        },
        "id": "fXaZZ8EAIb1O",
        "outputId": "29972f6c-850b-407f-86a6-ba49f816fdc3"
      },
      "source": [
        "# # looking into information(datatype,columns,null/non-null count)\n",
        "data1.info()"
      ],
      "execution_count": 5,
      "outputs": [
        {
          "output_type": "stream",
          "name": "stdout",
          "text": [
            "<class 'pandas.core.frame.DataFrame'>\n",
            "RangeIndex: 1458644 entries, 0 to 1458643\n",
            "Data columns (total 11 columns):\n",
            " #   Column              Non-Null Count    Dtype  \n",
            "---  ------              --------------    -----  \n",
            " 0   id                  1458644 non-null  object \n",
            " 1   vendor_id           1458644 non-null  int64  \n",
            " 2   pickup_datetime     1458644 non-null  object \n",
            " 3   dropoff_datetime    1458644 non-null  object \n",
            " 4   passenger_count     1458644 non-null  int64  \n",
            " 5   pickup_longitude    1458644 non-null  float64\n",
            " 6   pickup_latitude     1458644 non-null  float64\n",
            " 7   dropoff_longitude   1458644 non-null  float64\n",
            " 8   dropoff_latitude    1458644 non-null  float64\n",
            " 9   store_and_fwd_flag  1458644 non-null  object \n",
            " 10  trip_duration       1458644 non-null  int64  \n",
            "dtypes: float64(4), int64(3), object(4)\n",
            "memory usage: 122.4+ MB\n"
          ]
        }
      ]
    },
    {
      "cell_type": "code",
      "metadata": {
        "colab": {
          "base_uri": "https://localhost:8080/",
          "height": 300
        },
        "id": "QFPCaP6EJWUp",
        "outputId": "8615c76d-6efa-4c46-e4cb-60ddcb963262"
      },
      "source": [
        "# looking in descriptive summary of dataset\n",
        "data1.describe()"
      ],
      "execution_count": 6,
      "outputs": [
        {
          "output_type": "execute_result",
          "data": {
            "text/html": [
              "<div>\n",
              "<style scoped>\n",
              "    .dataframe tbody tr th:only-of-type {\n",
              "        vertical-align: middle;\n",
              "    }\n",
              "\n",
              "    .dataframe tbody tr th {\n",
              "        vertical-align: top;\n",
              "    }\n",
              "\n",
              "    .dataframe thead th {\n",
              "        text-align: right;\n",
              "    }\n",
              "</style>\n",
              "<table border=\"1\" class=\"dataframe\">\n",
              "  <thead>\n",
              "    <tr style=\"text-align: right;\">\n",
              "      <th></th>\n",
              "      <th>vendor_id</th>\n",
              "      <th>passenger_count</th>\n",
              "      <th>pickup_longitude</th>\n",
              "      <th>pickup_latitude</th>\n",
              "      <th>dropoff_longitude</th>\n",
              "      <th>dropoff_latitude</th>\n",
              "      <th>trip_duration</th>\n",
              "    </tr>\n",
              "  </thead>\n",
              "  <tbody>\n",
              "    <tr>\n",
              "      <th>count</th>\n",
              "      <td>1.458644e+06</td>\n",
              "      <td>1.458644e+06</td>\n",
              "      <td>1.458644e+06</td>\n",
              "      <td>1.458644e+06</td>\n",
              "      <td>1.458644e+06</td>\n",
              "      <td>1.458644e+06</td>\n",
              "      <td>1.458644e+06</td>\n",
              "    </tr>\n",
              "    <tr>\n",
              "      <th>mean</th>\n",
              "      <td>1.534950e+00</td>\n",
              "      <td>1.664530e+00</td>\n",
              "      <td>-7.397349e+01</td>\n",
              "      <td>4.075092e+01</td>\n",
              "      <td>-7.397342e+01</td>\n",
              "      <td>4.075180e+01</td>\n",
              "      <td>9.594923e+02</td>\n",
              "    </tr>\n",
              "    <tr>\n",
              "      <th>std</th>\n",
              "      <td>4.987772e-01</td>\n",
              "      <td>1.314242e+00</td>\n",
              "      <td>7.090186e-02</td>\n",
              "      <td>3.288119e-02</td>\n",
              "      <td>7.064327e-02</td>\n",
              "      <td>3.589056e-02</td>\n",
              "      <td>5.237432e+03</td>\n",
              "    </tr>\n",
              "    <tr>\n",
              "      <th>min</th>\n",
              "      <td>1.000000e+00</td>\n",
              "      <td>0.000000e+00</td>\n",
              "      <td>-1.219333e+02</td>\n",
              "      <td>3.435970e+01</td>\n",
              "      <td>-1.219333e+02</td>\n",
              "      <td>3.218114e+01</td>\n",
              "      <td>1.000000e+00</td>\n",
              "    </tr>\n",
              "    <tr>\n",
              "      <th>25%</th>\n",
              "      <td>1.000000e+00</td>\n",
              "      <td>1.000000e+00</td>\n",
              "      <td>-7.399187e+01</td>\n",
              "      <td>4.073735e+01</td>\n",
              "      <td>-7.399133e+01</td>\n",
              "      <td>4.073588e+01</td>\n",
              "      <td>3.970000e+02</td>\n",
              "    </tr>\n",
              "    <tr>\n",
              "      <th>50%</th>\n",
              "      <td>2.000000e+00</td>\n",
              "      <td>1.000000e+00</td>\n",
              "      <td>-7.398174e+01</td>\n",
              "      <td>4.075410e+01</td>\n",
              "      <td>-7.397975e+01</td>\n",
              "      <td>4.075452e+01</td>\n",
              "      <td>6.620000e+02</td>\n",
              "    </tr>\n",
              "    <tr>\n",
              "      <th>75%</th>\n",
              "      <td>2.000000e+00</td>\n",
              "      <td>2.000000e+00</td>\n",
              "      <td>-7.396733e+01</td>\n",
              "      <td>4.076836e+01</td>\n",
              "      <td>-7.396301e+01</td>\n",
              "      <td>4.076981e+01</td>\n",
              "      <td>1.075000e+03</td>\n",
              "    </tr>\n",
              "    <tr>\n",
              "      <th>max</th>\n",
              "      <td>2.000000e+00</td>\n",
              "      <td>9.000000e+00</td>\n",
              "      <td>-6.133553e+01</td>\n",
              "      <td>5.188108e+01</td>\n",
              "      <td>-6.133553e+01</td>\n",
              "      <td>4.392103e+01</td>\n",
              "      <td>3.526282e+06</td>\n",
              "    </tr>\n",
              "  </tbody>\n",
              "</table>\n",
              "</div>"
            ],
            "text/plain": [
              "          vendor_id  passenger_count  ...  dropoff_latitude  trip_duration\n",
              "count  1.458644e+06     1.458644e+06  ...      1.458644e+06   1.458644e+06\n",
              "mean   1.534950e+00     1.664530e+00  ...      4.075180e+01   9.594923e+02\n",
              "std    4.987772e-01     1.314242e+00  ...      3.589056e-02   5.237432e+03\n",
              "min    1.000000e+00     0.000000e+00  ...      3.218114e+01   1.000000e+00\n",
              "25%    1.000000e+00     1.000000e+00  ...      4.073588e+01   3.970000e+02\n",
              "50%    2.000000e+00     1.000000e+00  ...      4.075452e+01   6.620000e+02\n",
              "75%    2.000000e+00     2.000000e+00  ...      4.076981e+01   1.075000e+03\n",
              "max    2.000000e+00     9.000000e+00  ...      4.392103e+01   3.526282e+06\n",
              "\n",
              "[8 rows x 7 columns]"
            ]
          },
          "metadata": {},
          "execution_count": 6
        }
      ]
    },
    {
      "cell_type": "markdown",
      "metadata": {
        "id": "FIC85-P1PvDX"
      },
      "source": [
        "## Handling missing values  "
      ]
    },
    {
      "cell_type": "code",
      "metadata": {
        "colab": {
          "base_uri": "https://localhost:8080/"
        },
        "id": "2w3T22KKP_6G",
        "outputId": "32e758a2-077d-41f4-87b6-43192adf964b"
      },
      "source": [
        "# looking for missing values in dataset \n",
        "data1.isnull().sum()"
      ],
      "execution_count": 7,
      "outputs": [
        {
          "output_type": "execute_result",
          "data": {
            "text/plain": [
              "id                    0\n",
              "vendor_id             0\n",
              "pickup_datetime       0\n",
              "dropoff_datetime      0\n",
              "passenger_count       0\n",
              "pickup_longitude      0\n",
              "pickup_latitude       0\n",
              "dropoff_longitude     0\n",
              "dropoff_latitude      0\n",
              "store_and_fwd_flag    0\n",
              "trip_duration         0\n",
              "dtype: int64"
            ]
          },
          "metadata": {},
          "execution_count": 7
        }
      ]
    },
    {
      "cell_type": "markdown",
      "metadata": {
        "id": "wlED6HctQK02"
      },
      "source": [
        "### ohh! thats great no missing values/Null values to deal with, lets say its blessing in disguise"
      ]
    },
    {
      "cell_type": "markdown",
      "metadata": {
        "id": "mP-urStjuOhX"
      },
      "source": [
        "## looking for unique values"
      ]
    },
    {
      "cell_type": "code",
      "metadata": {
        "colab": {
          "base_uri": "https://localhost:8080/"
        },
        "id": "h7qD20U6uUBQ",
        "outputId": "9d8f408a-bade-4186-f8ec-0fb7afb49dc4"
      },
      "source": [
        "# Let us check for unique values in columns.\n",
        "\n",
        "print(data1.nunique().sort_values())"
      ],
      "execution_count": 8,
      "outputs": [
        {
          "output_type": "stream",
          "name": "stdout",
          "text": [
            "vendor_id                   2\n",
            "store_and_fwd_flag          2\n",
            "passenger_count            10\n",
            "trip_duration            7417\n",
            "pickup_longitude        23047\n",
            "dropoff_longitude       33821\n",
            "pickup_latitude         45245\n",
            "dropoff_latitude        62519\n",
            "pickup_datetime       1380222\n",
            "dropoff_datetime      1380377\n",
            "id                    1458644\n",
            "dtype: int64\n"
          ]
        }
      ]
    },
    {
      "cell_type": "markdown",
      "metadata": {
        "id": "V_Sh7pvUulrC"
      },
      "source": [
        "There are 2 unique vendor ids.\n",
        "\n",
        "There are 10 unique passenger counts.\n",
        "\n",
        "There are 2 unique values in store_and_fwd_flag, that we also saw in the description of the variables, i.e Y and N."
      ]
    },
    {
      "cell_type": "code",
      "metadata": {
        "colab": {
          "base_uri": "https://localhost:8080/",
          "height": 562
        },
        "id": "ar4LXUM1u1G3",
        "outputId": "7c3659c4-0269-4a97-a2ea-c2b8e07f7706"
      },
      "source": [
        "#Descriptive Stats in visual form\n",
        "\n",
        "plt.figure(figsize=(25,10))\n",
        "svm = sns.heatmap(data1.describe()[1:], annot=True, cmap='gist_earth',annot_kws={\"size\": 18})\n",
        "svm.set_xticklabels(svm.get_xmajorticklabels(), fontsize = 18)\n",
        "svm.set_yticklabels(svm.get_ymajorticklabels(), fontsize = 18)\n",
        "\n",
        "plt.title('Descriptive Stats')"
      ],
      "execution_count": 9,
      "outputs": [
        {
          "output_type": "execute_result",
          "data": {
            "text/plain": [
              "Text(0.5, 1.0, 'Descriptive Stats')"
            ]
          },
          "metadata": {},
          "execution_count": 9
        },
        {
          "output_type": "display_data",
          "data": {
            "image/png": "[encoded data removed]",
            "text/plain": [
              "<Figure size 1800x720 with 2 Axes>"
            ]
          },
          "metadata": {
            "needs_background": "light"
          }
        }
      ]
    },
    {
      "cell_type": "markdown",
      "metadata": {
        "id": "RIKhvuSwzTec"
      },
      "source": [
        "- We can observe that there were trips having 0 passengers which we can consider as false trip.\n",
        "\n",
        "\n",
        "- Also, there are trips having trip duration upto 3526282 seconds (Approx. 980 hours) which is kind of impossible in a day."
      ]
    },
    {
      "cell_type": "markdown",
      "metadata": {
        "id": "oLxl5WeQz3rc"
      },
      "source": [
        "# Feature Creation and Engineering\n",
        "- Let us create some new features from the existing so that we can gain more insights from the data.\n",
        "\n",
        " - pickup_datetime and dropoff_datetime were both of type object.\n",
        " we can convert it to datetime object which contains numerous functions with which we can create new features."
      ]
    },
    {
      "cell_type": "code",
      "metadata": {
        "id": "UFJdRkEX0pN_"
      },
      "source": [
        "# convert object type to datetime \n",
        "data1['pickup_datetime']=pd.to_datetime(data1['pickup_datetime']) \n",
        "data1['dropoff_datetime']=pd.to_datetime(data1['dropoff_datetime'])"
      ],
      "execution_count": 10,
      "outputs": []
    },
    {
      "cell_type": "markdown",
      "metadata": {
        "id": "OXK1fhHV2AYs"
      },
      "source": [
        "- Now that we have converted object type to datetime64 we can extract and create new features from this datetime feature"
      ]
    },
    {
      "cell_type": "code",
      "metadata": {
        "id": "T1Ob4hz62Jll"
      },
      "source": [
        "# extracting further information from datetime feature\n",
        "data1['pickup_day']=data1['pickup_datetime'].dt.day\n",
        "data1['pickup_month']=data1['pickup_datetime'].dt.month\n",
        "data1['pickup_weekday']=data1['pickup_datetime'].dt.weekday\n",
        "data1['pickup_hour']=data1['pickup_datetime'].dt.hour\n",
        "data1['pickup_date']=data1['pickup_datetime'].dt.date\n",
        "data1['pickup_min']=data1['pickup_datetime'].dt.minute\n",
        "data1['dropoff_min'] = data1['dropoff_datetime'].dt.minute"
      ],
      "execution_count": 11,
      "outputs": []
    },
    {
      "cell_type": "markdown",
      "metadata": {
        "id": "OK9Gzaaj4Uym"
      },
      "source": [
        "- We do not have to extract pickup and dropoff time both, as they may lead to strong positive correlation between them."
      ]
    },
    {
      "cell_type": "code",
      "metadata": {
        "id": "7qYX8n8m4uDq"
      },
      "source": [
        "# we will need to import library to calculate distances given in geographical coordinates\n",
        "from geopy.distance import great_circle\n"
      ],
      "execution_count": 12,
      "outputs": []
    },
    {
      "cell_type": "markdown",
      "metadata": {
        "id": "0rstkT4x5j_e"
      },
      "source": [
        "- lets define a function to take coordinates as inputs and return distance"
      ]
    },
    {
      "cell_type": "code",
      "metadata": {
        "id": "sbEdT0Ye56dz"
      },
      "source": [
        "#distance_calc is a function to calculate distance between pickup and dropoff coordinates.\n",
        "def distance_calc(pickup_lat,pickup_long,dropoff_lat,dropoff_long):\n",
        "  start_coordinates=(pickup_lat,pickup_long)\n",
        "  stop_coordinates=(dropoff_lat,dropoff_long)\n",
        " \n",
        "  return great_circle(start_coordinates,stop_coordinates).km\n"
      ],
      "execution_count": 13,
      "outputs": []
    },
    {
      "cell_type": "markdown",
      "metadata": {
        "id": "zIPvf2JK6rhl"
      },
      "source": [
        "- lets apply above function on given datset and create new feature as distance to define it "
      ]
    },
    {
      "cell_type": "code",
      "metadata": {
        "id": "1eHn82Qx7CYk"
      },
      "source": [
        "data1['distance']=data1.apply(lambda x: distance_calc(x['pickup_latitude'],x['pickup_longitude'],x['dropoff_latitude'],x['dropoff_longitude']),axis=1)"
      ],
      "execution_count": 14,
      "outputs": []
    },
    {
      "cell_type": "code",
      "metadata": {
        "colab": {
          "base_uri": "https://localhost:8080/",
          "height": 313
        },
        "id": "CiDchUiP7snb",
        "outputId": "38fca5d3-83f2-48c2-c8c8-b4f0fe4734b8"
      },
      "source": [
        "# lets take a look at dataset set to check whether features creation and engineering got reflected in our dataset\n",
        "data1.head()"
      ],
      "execution_count": 15,
      "outputs": [
        {
          "output_type": "execute_result",
          "data": {
            "text/html": [
              "<div>\n",
              "<style scoped>\n",
              "    .dataframe tbody tr th:only-of-type {\n",
              "        vertical-align: middle;\n",
              "    }\n",
              "\n",
              "    .dataframe tbody tr th {\n",
              "        vertical-align: top;\n",
              "    }\n",
              "\n",
              "    .dataframe thead th {\n",
              "        text-align: right;\n",
              "    }\n",
              "</style>\n",
              "<table border=\"1\" class=\"dataframe\">\n",
              "  <thead>\n",
              "    <tr style=\"text-align: right;\">\n",
              "      <th></th>\n",
              "      <th>id</th>\n",
              "      <th>vendor_id</th>\n",
              "      <th>pickup_datetime</th>\n",
              "      <th>dropoff_datetime</th>\n",
              "      <th>passenger_count</th>\n",
              "      <th>pickup_longitude</th>\n",
              "      <th>pickup_latitude</th>\n",
              "      <th>dropoff_longitude</th>\n",
              "      <th>dropoff_latitude</th>\n",
              "      <th>store_and_fwd_flag</th>\n",
              "      <th>trip_duration</th>\n",
              "      <th>pickup_day</th>\n",
              "      <th>pickup_month</th>\n",
              "      <th>pickup_weekday</th>\n",
              "      <th>pickup_hour</th>\n",
              "      <th>pickup_date</th>\n",
              "      <th>pickup_min</th>\n",
              "      <th>dropoff_min</th>\n",
              "      <th>distance</th>\n",
              "    </tr>\n",
              "  </thead>\n",
              "  <tbody>\n",
              "    <tr>\n",
              "      <th>0</th>\n",
              "      <td>id2875421</td>\n",
              "      <td>2</td>\n",
              "      <td>2016-03-14 17:24:55</td>\n",
              "      <td>2016-03-14 17:32:30</td>\n",
              "      <td>1</td>\n",
              "      <td>-73.982155</td>\n",
              "      <td>40.767937</td>\n",
              "      <td>-73.964630</td>\n",
              "      <td>40.765602</td>\n",
              "      <td>N</td>\n",
              "      <td>455</td>\n",
              "      <td>14</td>\n",
              "      <td>3</td>\n",
              "      <td>0</td>\n",
              "      <td>17</td>\n",
              "      <td>2016-03-14</td>\n",
              "      <td>24</td>\n",
              "      <td>32</td>\n",
              "      <td>1.498523</td>\n",
              "    </tr>\n",
              "    <tr>\n",
              "      <th>1</th>\n",
              "      <td>id2377394</td>\n",
              "      <td>1</td>\n",
              "      <td>2016-06-12 00:43:35</td>\n",
              "      <td>2016-06-12 00:54:38</td>\n",
              "      <td>1</td>\n",
              "      <td>-73.980415</td>\n",
              "      <td>40.738564</td>\n",
              "      <td>-73.999481</td>\n",
              "      <td>40.731152</td>\n",
              "      <td>N</td>\n",
              "      <td>663</td>\n",
              "      <td>12</td>\n",
              "      <td>6</td>\n",
              "      <td>6</td>\n",
              "      <td>0</td>\n",
              "      <td>2016-06-12</td>\n",
              "      <td>43</td>\n",
              "      <td>54</td>\n",
              "      <td>1.805510</td>\n",
              "    </tr>\n",
              "    <tr>\n",
              "      <th>2</th>\n",
              "      <td>id3858529</td>\n",
              "      <td>2</td>\n",
              "      <td>2016-01-19 11:35:24</td>\n",
              "      <td>2016-01-19 12:10:48</td>\n",
              "      <td>1</td>\n",
              "      <td>-73.979027</td>\n",
              "      <td>40.763939</td>\n",
              "      <td>-74.005333</td>\n",
              "      <td>40.710087</td>\n",
              "      <td>N</td>\n",
              "      <td>2124</td>\n",
              "      <td>19</td>\n",
              "      <td>1</td>\n",
              "      <td>1</td>\n",
              "      <td>11</td>\n",
              "      <td>2016-01-19</td>\n",
              "      <td>35</td>\n",
              "      <td>10</td>\n",
              "      <td>6.385108</td>\n",
              "    </tr>\n",
              "    <tr>\n",
              "      <th>3</th>\n",
              "      <td>id3504673</td>\n",
              "      <td>2</td>\n",
              "      <td>2016-04-06 19:32:31</td>\n",
              "      <td>2016-04-06 19:39:40</td>\n",
              "      <td>1</td>\n",
              "      <td>-74.010040</td>\n",
              "      <td>40.719971</td>\n",
              "      <td>-74.012268</td>\n",
              "      <td>40.706718</td>\n",
              "      <td>N</td>\n",
              "      <td>429</td>\n",
              "      <td>6</td>\n",
              "      <td>4</td>\n",
              "      <td>2</td>\n",
              "      <td>19</td>\n",
              "      <td>2016-04-06</td>\n",
              "      <td>32</td>\n",
              "      <td>39</td>\n",
              "      <td>1.485501</td>\n",
              "    </tr>\n",
              "    <tr>\n",
              "      <th>4</th>\n",
              "      <td>id2181028</td>\n",
              "      <td>2</td>\n",
              "      <td>2016-03-26 13:30:55</td>\n",
              "      <td>2016-03-26 13:38:10</td>\n",
              "      <td>1</td>\n",
              "      <td>-73.973053</td>\n",
              "      <td>40.793209</td>\n",
              "      <td>-73.972923</td>\n",
              "      <td>40.782520</td>\n",
              "      <td>N</td>\n",
              "      <td>435</td>\n",
              "      <td>26</td>\n",
              "      <td>3</td>\n",
              "      <td>5</td>\n",
              "      <td>13</td>\n",
              "      <td>2016-03-26</td>\n",
              "      <td>30</td>\n",
              "      <td>38</td>\n",
              "      <td>1.188590</td>\n",
              "    </tr>\n",
              "  </tbody>\n",
              "</table>\n",
              "</div>"
            ],
            "text/plain": [
              "          id  vendor_id     pickup_datetime  ... pickup_min  dropoff_min  distance\n",
              "0  id2875421          2 2016-03-14 17:24:55  ...         24           32  1.498523\n",
              "1  id2377394          1 2016-06-12 00:43:35  ...         43           54  1.805510\n",
              "2  id3858529          2 2016-01-19 11:35:24  ...         35           10  6.385108\n",
              "3  id3504673          2 2016-04-06 19:32:31  ...         32           39  1.485501\n",
              "4  id2181028          2 2016-03-26 13:30:55  ...         30           38  1.188590\n",
              "\n",
              "[5 rows x 19 columns]"
            ]
          },
          "metadata": {},
          "execution_count": 15
        }
      ]
    },
    {
      "cell_type": "code",
      "metadata": {
        "colab": {
          "base_uri": "https://localhost:8080/",
          "height": 645
        },
        "id": "Cu5eUrXt9hEK",
        "outputId": "4347765a-ec9e-4f33-baf3-1b7c766fc0bd"
      },
      "source": [
        "# lets check dtypes before jumping into eda and preprocessing\n",
        "data1.dtypes.reset_index()"
      ],
      "execution_count": 16,
      "outputs": [
        {
          "output_type": "execute_result",
          "data": {
            "text/html": [
              "<div>\n",
              "<style scoped>\n",
              "    .dataframe tbody tr th:only-of-type {\n",
              "        vertical-align: middle;\n",
              "    }\n",
              "\n",
              "    .dataframe tbody tr th {\n",
              "        vertical-align: top;\n",
              "    }\n",
              "\n",
              "    .dataframe thead th {\n",
              "        text-align: right;\n",
              "    }\n",
              "</style>\n",
              "<table border=\"1\" class=\"dataframe\">\n",
              "  <thead>\n",
              "    <tr style=\"text-align: right;\">\n",
              "      <th></th>\n",
              "      <th>index</th>\n",
              "      <th>0</th>\n",
              "    </tr>\n",
              "  </thead>\n",
              "  <tbody>\n",
              "    <tr>\n",
              "      <th>0</th>\n",
              "      <td>id</td>\n",
              "      <td>object</td>\n",
              "    </tr>\n",
              "    <tr>\n",
              "      <th>1</th>\n",
              "      <td>vendor_id</td>\n",
              "      <td>int64</td>\n",
              "    </tr>\n",
              "    <tr>\n",
              "      <th>2</th>\n",
              "      <td>pickup_datetime</td>\n",
              "      <td>datetime64[ns]</td>\n",
              "    </tr>\n",
              "    <tr>\n",
              "      <th>3</th>\n",
              "      <td>dropoff_datetime</td>\n",
              "      <td>datetime64[ns]</td>\n",
              "    </tr>\n",
              "    <tr>\n",
              "      <th>4</th>\n",
              "      <td>passenger_count</td>\n",
              "      <td>int64</td>\n",
              "    </tr>\n",
              "    <tr>\n",
              "      <th>5</th>\n",
              "      <td>pickup_longitude</td>\n",
              "      <td>float64</td>\n",
              "    </tr>\n",
              "    <tr>\n",
              "      <th>6</th>\n",
              "      <td>pickup_latitude</td>\n",
              "      <td>float64</td>\n",
              "    </tr>\n",
              "    <tr>\n",
              "      <th>7</th>\n",
              "      <td>dropoff_longitude</td>\n",
              "      <td>float64</td>\n",
              "    </tr>\n",
              "    <tr>\n",
              "      <th>8</th>\n",
              "      <td>dropoff_latitude</td>\n",
              "      <td>float64</td>\n",
              "    </tr>\n",
              "    <tr>\n",
              "      <th>9</th>\n",
              "      <td>store_and_fwd_flag</td>\n",
              "      <td>object</td>\n",
              "    </tr>\n",
              "    <tr>\n",
              "      <th>10</th>\n",
              "      <td>trip_duration</td>\n",
              "      <td>int64</td>\n",
              "    </tr>\n",
              "    <tr>\n",
              "      <th>11</th>\n",
              "      <td>pickup_day</td>\n",
              "      <td>int64</td>\n",
              "    </tr>\n",
              "    <tr>\n",
              "      <th>12</th>\n",
              "      <td>pickup_month</td>\n",
              "      <td>int64</td>\n",
              "    </tr>\n",
              "    <tr>\n",
              "      <th>13</th>\n",
              "      <td>pickup_weekday</td>\n",
              "      <td>int64</td>\n",
              "    </tr>\n",
              "    <tr>\n",
              "      <th>14</th>\n",
              "      <td>pickup_hour</td>\n",
              "      <td>int64</td>\n",
              "    </tr>\n",
              "    <tr>\n",
              "      <th>15</th>\n",
              "      <td>pickup_date</td>\n",
              "      <td>object</td>\n",
              "    </tr>\n",
              "    <tr>\n",
              "      <th>16</th>\n",
              "      <td>pickup_min</td>\n",
              "      <td>int64</td>\n",
              "    </tr>\n",
              "    <tr>\n",
              "      <th>17</th>\n",
              "      <td>dropoff_min</td>\n",
              "      <td>int64</td>\n",
              "    </tr>\n",
              "    <tr>\n",
              "      <th>18</th>\n",
              "      <td>distance</td>\n",
              "      <td>float64</td>\n",
              "    </tr>\n",
              "  </tbody>\n",
              "</table>\n",
              "</div>"
            ],
            "text/plain": [
              "                 index               0\n",
              "0                   id          object\n",
              "1            vendor_id           int64\n",
              "2      pickup_datetime  datetime64[ns]\n",
              "3     dropoff_datetime  datetime64[ns]\n",
              "4      passenger_count           int64\n",
              "5     pickup_longitude         float64\n",
              "6      pickup_latitude         float64\n",
              "7    dropoff_longitude         float64\n",
              "8     dropoff_latitude         float64\n",
              "9   store_and_fwd_flag          object\n",
              "10       trip_duration           int64\n",
              "11          pickup_day           int64\n",
              "12        pickup_month           int64\n",
              "13      pickup_weekday           int64\n",
              "14         pickup_hour           int64\n",
              "15         pickup_date          object\n",
              "16          pickup_min           int64\n",
              "17         dropoff_min           int64\n",
              "18            distance         float64"
            ]
          },
          "metadata": {},
          "execution_count": 16
        }
      ]
    },
    {
      "cell_type": "markdown",
      "metadata": {
        "id": "yZxtCRLv-LPr"
      },
      "source": [
        "# Eda and Data Preprocessing"
      ]
    },
    {
      "cell_type": "markdown",
      "metadata": {
        "id": "9V-OeevAkvww"
      },
      "source": [
        "## univariate Analysis "
      ]
    },
    {
      "cell_type": "markdown",
      "metadata": {
        "id": "8MeRIrb_k8zC"
      },
      "source": [
        " A) **Vendor Id**"
      ]
    },
    {
      "cell_type": "code",
      "metadata": {
        "colab": {
          "base_uri": "https://localhost:8080/",
          "height": 477
        },
        "id": "Xe226VjhlGND",
        "outputId": "9be4e30c-722f-433e-cfc0-a7ed7b2d8b3c"
      },
      "source": [
        "# vendor id visualization\n",
        "plt.figure(figsize=(8,7))\n",
        "sns.countplot(data1['vendor_id'])\n",
        "plt.title('vendor_ids')\n"
      ],
      "execution_count": 17,
      "outputs": [
        {
          "output_type": "execute_result",
          "data": {
            "text/plain": [
              "Text(0.5, 1.0, 'vendor_ids')"
            ]
          },
          "metadata": {},
          "execution_count": 17
        },
        {
          "output_type": "display_data",
          "data": {
            "image/png": "[encoded data removed]",
            "text/plain": [
              "<Figure size 576x504 with 1 Axes>"
            ]
          },
          "metadata": {
            "needs_background": "light"
          }
        }
      ]
    },
    {
      "cell_type": "markdown",
      "metadata": {
        "id": "pee8DYRYnTll"
      },
      "source": [
        "- From Above Visualization, we can say that there are **2 vendors**.\n",
        "\n",
        "\n",
        "- 2nd Service provider is the most preferred one by New Yorkers."
      ]
    },
    {
      "cell_type": "markdown",
      "metadata": {
        "id": "AFu-tp9tnksS"
      },
      "source": [
        "B) **Store and forward flag**"
      ]
    },
    {
      "cell_type": "code",
      "metadata": {
        "colab": {
          "base_uri": "https://localhost:8080/",
          "height": 445
        },
        "id": "hH9uNZM0oELl",
        "outputId": "a365e33d-fa54-4646-d521-6789b64dc60b"
      },
      "source": [
        "#Store & Forward flag visualization\n",
        "\n",
        "plt.figure(figsize=(8,7))\n",
        "plt.pie(data1['store_and_fwd_flag'].value_counts(), colors=['lightgreen', 'lightblue'], shadow=True, explode=[0.5,0], autopct='%1.2f%%', startangle=200)\n",
        "plt.legend(labels=['N','Y'])\n",
        "plt.title(\"Store and Forward Flag\")"
      ],
      "execution_count": 18,
      "outputs": [
        {
          "output_type": "execute_result",
          "data": {
            "text/plain": [
              "Text(0.5, 1.0, 'Store and Forward Flag')"
            ]
          },
          "metadata": {},
          "execution_count": 18
        },
        {
          "output_type": "display_data",
          "data": {
            "image/png": "[encoded data removed]",
            "text/plain": [
              "<Figure size 576x504 with 1 Axes>"
            ]
          },
          "metadata": {}
        }
      ]
    },
    {
      "cell_type": "code",
      "metadata": {
        "colab": {
          "base_uri": "https://localhost:8080/"
        },
        "id": "25APed_HorLI",
        "outputId": "98cfbf8c-27e7-46c6-e247-b1c16867cf20"
      },
      "source": [
        "data1['store_and_fwd_flag'].value_counts() # to get exact count of stored trips"
      ],
      "execution_count": 19,
      "outputs": [
        {
          "output_type": "execute_result",
          "data": {
            "text/plain": [
              "N    1450599\n",
              "Y       8045\n",
              "Name: store_and_fwd_flag, dtype: int64"
            ]
          },
          "metadata": {},
          "execution_count": 19
        }
      ]
    },
    {
      "cell_type": "markdown",
      "metadata": {
        "id": "d7VXpskYo7bd"
      },
      "source": [
        "- We see there are less than 1% of trips that were stored before forwarding.\n",
        "\n",
        "- The number of N flag is much larger than Y flag.\n",
        "\n"
      ]
    },
    {
      "cell_type": "markdown",
      "metadata": {
        "id": "qUpnRwM6Wh8E"
      },
      "source": [
        "c) **Target Variable -Trip Duration**"
      ]
    },
    {
      "cell_type": "code",
      "metadata": {
        "colab": {
          "base_uri": "https://localhost:8080/",
          "height": 407
        },
        "id": "M-SoQ3VZWr2v",
        "outputId": "98621ca5-a23c-4fbf-fed8-6ccc451a96c4"
      },
      "source": [
        "# visulaization of Trip Duration \n",
        "plt.figure(figsize=(18,6))\n",
        "sns.boxplot(data1['trip_duration'])"
      ],
      "execution_count": 20,
      "outputs": [
        {
          "output_type": "execute_result",
          "data": {
            "text/plain": [
              "<matplotlib.axes._subplots.AxesSubplot at 0x7f8982d74d90>"
            ]
          },
          "metadata": {},
          "execution_count": 20
        },
        {
          "output_type": "display_data",
          "data": {
            "image/png": "[encoded data removed]",
            "text/plain": [
              "<Figure size 1296x432 with 1 Axes>"
            ]
          },
          "metadata": {
            "needs_background": "light"
          }
        }
      ]
    },
    {
      "cell_type": "code",
      "metadata": {
        "colab": {
          "base_uri": "https://localhost:8080/"
        },
        "id": "MIY5HL9sXJSG",
        "outputId": "001ed602-5acd-43ef-95d3-b9c9d15cbb18"
      },
      "source": [
        "# lets see otliers which are affecting the plot\n",
        "data1['trip_duration'].sort_values(ascending=False)"
      ],
      "execution_count": 21,
      "outputs": [
        {
          "output_type": "execute_result",
          "data": {
            "text/plain": [
              "978383     3526282\n",
              "924150     2227612\n",
              "680594     2049578\n",
              "355003     1939736\n",
              "1234291      86392\n",
              "            ...   \n",
              "1034341          1\n",
              "346102           1\n",
              "1360664          1\n",
              "1382872          1\n",
              "207497           1\n",
              "Name: trip_duration, Length: 1458644, dtype: int64"
            ]
          },
          "metadata": {},
          "execution_count": 21
        }
      ]
    },
    {
      "cell_type": "markdown",
      "metadata": {
        "id": "1azss3HPZPUP"
      },
      "source": [
        "- Probably in this visualization we can clearly see some outliers , their trips are lasting between 1900000 seconds (528 Hours) to 3500000 (972 hours) seconds which is impossible in case of taxi trips , How can a taxi trip be that long ?\n",
        "\n",
        "\n",
        "- We’ll have to get rid of those Outliers.\n",
        "- there are four rows only so lets drop them."
      ]
    },
    {
      "cell_type": "code",
      "metadata": {
        "id": "X3mDbE1OZi90"
      },
      "source": [
        "# dropping those outliers \n",
        "data1.drop(data1[data1['trip_duration']== 3526282].index,inplace=True)\n",
        "data1.drop(data1[data1['trip_duration'] == 2227612].index, inplace = True)\n",
        "data1.drop(data1[data1['trip_duration'] == 2049578].index, inplace = True)\n",
        "data1.drop(data1[data1['trip_duration'] == 1939736].index, inplace = True)\n"
      ],
      "execution_count": 22,
      "outputs": []
    },
    {
      "cell_type": "code",
      "metadata": {
        "colab": {
          "base_uri": "https://localhost:8080/",
          "height": 407
        },
        "id": "QPwMUe7oaf2A",
        "outputId": "0449b496-cfad-4d00-eea5-d4ac0addcbbe"
      },
      "source": [
        "# lets plot again to see has it make any difference\n",
        "plt.figure(figsize=(18,6))\n",
        "sns.boxplot(data1['trip_duration'])"
      ],
      "execution_count": 23,
      "outputs": [
        {
          "output_type": "execute_result",
          "data": {
            "text/plain": [
              "<matplotlib.axes._subplots.AxesSubplot at 0x7f894b9cedd0>"
            ]
          },
          "metadata": {},
          "execution_count": 23
        },
        {
          "output_type": "display_data",
          "data": {
            "image/png": "[encoded data removed]",
            "text/plain": [
              "<Figure size 1296x432 with 1 Axes>"
            ]
          },
          "metadata": {
            "needs_background": "light"
          }
        }
      ]
    },
    {
      "cell_type": "markdown",
      "metadata": {
        "id": "_PJNnb8pbUTy"
      },
      "source": [
        "D) **Passenger Count**"
      ]
    },
    {
      "cell_type": "code",
      "metadata": {
        "colab": {
          "base_uri": "https://localhost:8080/",
          "height": 422
        },
        "id": "m3nzylrBbY0w",
        "outputId": "96d28b11-9b9c-4eef-e3d8-73255f1ee8fa"
      },
      "source": [
        "# passenger spread\n",
        "plt.figure(figsize=(18,6))\n",
        "sns.boxplot(data1['passenger_count'],color='green')\n",
        "plt.title('passenger count distribution')"
      ],
      "execution_count": 24,
      "outputs": [
        {
          "output_type": "execute_result",
          "data": {
            "text/plain": [
              "Text(0.5, 1.0, 'passenger count distribution')"
            ]
          },
          "metadata": {},
          "execution_count": 24
        },
        {
          "output_type": "display_data",
          "data": {
            "image/png": "[encoded data removed]",
            "text/plain": [
              "<Figure size 1296x432 with 1 Axes>"
            ]
          },
          "metadata": {
            "needs_background": "light"
          }
        }
      ]
    },
    {
      "cell_type": "markdown",
      "metadata": {
        "id": "_dHFIa27chA-"
      },
      "source": [
        "- above plot tells us that most of the trip are done with 1-2 passengers and small vehicles are usually used.\n",
        "- above 4 passengers trip states that cab used are large vehicles."
      ]
    },
    {
      "cell_type": "code",
      "metadata": {
        "colab": {
          "base_uri": "https://localhost:8080/"
        },
        "id": "J3Qgo1o1dZ9i",
        "outputId": "003efc67-82de-4364-fca5-ef5fb9049e6b"
      },
      "source": [
        "data1['passenger_count'].value_counts()"
      ],
      "execution_count": 25,
      "outputs": [
        {
          "output_type": "execute_result",
          "data": {
            "text/plain": [
              "1    1033537\n",
              "2     210317\n",
              "5      78088\n",
              "3      59896\n",
              "6      48333\n",
              "4      28404\n",
              "0         60\n",
              "7          3\n",
              "9          1\n",
              "8          1\n",
              "Name: passenger_count, dtype: int64"
            ]
          },
          "metadata": {},
          "execution_count": 25
        }
      ]
    },
    {
      "cell_type": "markdown",
      "metadata": {
        "id": "BHTy44u4dp2i"
      },
      "source": [
        " - There are some trips with even 0 passenger count.\n",
        " - And 3 trips with 7 passengers.\n",
        " - And there is only 1 trip each for 8 and 9 passengers."
      ]
    },
    {
      "cell_type": "code",
      "metadata": {
        "id": "5zPhs6K6eKnA"
      },
      "source": [
        "# lets remove rows with 0 and passengers greater than 6\n",
        "data1=data1[data1['passenger_count']>0]\n",
        "data1=data1[data1['passenger_count']<=6]"
      ],
      "execution_count": 26,
      "outputs": []
    },
    {
      "cell_type": "code",
      "metadata": {
        "colab": {
          "base_uri": "https://localhost:8080/"
        },
        "id": "GSWx0Av9eoBL",
        "outputId": "bcda1a5c-9d1d-438d-8f31-9390322a1099"
      },
      "source": [
        "data1['passenger_count'].value_counts()"
      ],
      "execution_count": 27,
      "outputs": [
        {
          "output_type": "execute_result",
          "data": {
            "text/plain": [
              "1    1033537\n",
              "2     210317\n",
              "5      78088\n",
              "3      59896\n",
              "6      48333\n",
              "4      28404\n",
              "Name: passenger_count, dtype: int64"
            ]
          },
          "metadata": {},
          "execution_count": 27
        }
      ]
    },
    {
      "cell_type": "code",
      "metadata": {
        "colab": {
          "base_uri": "https://localhost:8080/",
          "height": 472
        },
        "id": "ElvDdv9aeuts",
        "outputId": "5ab5d200-af68-4586-9ae9-c996e6cb8352"
      },
      "source": [
        "# passenger count\n",
        "plt.figure(figsize=(10,7))\n",
        "sns.countplot(data1['passenger_count'])"
      ],
      "execution_count": 28,
      "outputs": [
        {
          "output_type": "execute_result",
          "data": {
            "text/plain": [
              "<matplotlib.axes._subplots.AxesSubplot at 0x7f8959e34090>"
            ]
          },
          "metadata": {},
          "execution_count": 28
        },
        {
          "output_type": "display_data",
          "data": {
            "image/png": "[encoded data removed]",
            "text/plain": [
              "<Figure size 720x504 with 1 Axes>"
            ]
          },
          "metadata": {
            "needs_background": "light"
          }
        }
      ]
    },
    {
      "cell_type": "markdown",
      "metadata": {
        "id": "vNArt8xZfY6B"
      },
      "source": [
        " - Now, that seems like a fair distribution.\n",
        "\n",
        " - We see the highest amount of trips are with 1 passenger."
      ]
    },
    {
      "cell_type": "markdown",
      "metadata": {
        "id": "NUBt3x7QngpO"
      },
      "source": [
        "E) **Distance**"
      ]
    },
    {
      "cell_type": "code",
      "metadata": {
        "colab": {
          "base_uri": "https://localhost:8080/",
          "height": 331
        },
        "id": "lUrKAmH4nn9p",
        "outputId": "3662bb32-ecc0-458e-fd57-7fdd9017eb4b"
      },
      "source": [
        "# visulization of distance\n",
        "plt.figure(figsize = (20,5))\n",
        "sns.boxplot(data1.distance)\n",
        "plt.show()"
      ],
      "execution_count": 29,
      "outputs": [
        {
          "output_type": "display_data",
          "data": {
            "image/png": "[encoded data removed]",
            "text/plain": [
              "<Figure size 1440x360 with 1 Axes>"
            ]
          },
          "metadata": {
            "needs_background": "light"
          }
        }
      ]
    },
    {
      "cell_type": "code",
      "metadata": {
        "colab": {
          "base_uri": "https://localhost:8080/"
        },
        "id": "WlfMSsYqn8yc",
        "outputId": "6c44fe8d-e8c0-451a-ad09-f2cf948a71fa"
      },
      "source": [
        "data1.distance[data1.distance==0].count()"
      ],
      "execution_count": 30,
      "outputs": [
        {
          "output_type": "execute_result",
          "data": {
            "text/plain": [
              "5887"
            ]
          },
          "metadata": {},
          "execution_count": 30
        }
      ]
    },
    {
      "cell_type": "markdown",
      "metadata": {
        "id": "ENmzv0-Do0mf"
      },
      "source": [
        "- there are 5887 trips with 0 km distnces reasons might be.\n",
        "- dropoff location couldn't be tracked.\n",
        "- driver took this trip to complete his ride target number.\n",
        "- passengers cancelled this trip."
      ]
    },
    {
      "cell_type": "markdown",
      "metadata": {
        "id": "A9hzYKnrwzMb"
      },
      "source": [
        "F) **Trip per Day in a Week**"
      ]
    },
    {
      "cell_type": "code",
      "metadata": {
        "colab": {
          "base_uri": "https://localhost:8080/",
          "height": 476
        },
        "id": "UDUh-75Hw-W5",
        "outputId": "292e0869-0131-4c4e-8c35-0e2d120148dd"
      },
      "source": [
        "# analysing week days trips\n",
        "plt.figure(figsize=(15,7))\n",
        "week=data1['pickup_weekday'].value_counts().sort_index()\n",
        "week.plot(kind='bar')\n",
        "week.plot(kind='line',color='red')\n",
        "plt.xticks(ticks=[0,1,2,3,4,5,6],labels=['Monday','Tuesday','Wednesday','Thursday','Friday','Saturday','Sunday'])\n",
        "plt.xlabel('Days')\n",
        "plt.ylabel('counts')\n",
        "plt.title('Overall week days trips')\n"
      ],
      "execution_count": 31,
      "outputs": [
        {
          "output_type": "execute_result",
          "data": {
            "text/plain": [
              "Text(0.5, 1.0, 'Overall week days trips')"
            ]
          },
          "metadata": {},
          "execution_count": 31
        },
        {
          "output_type": "display_data",
          "data": {
            "image/png": "[encoded data removed]",
            "text/plain": [
              "<Figure size 1080x504 with 1 Axes>"
            ]
          },
          "metadata": {
            "needs_background": "light"
          }
        }
      ]
    },
    {
      "cell_type": "markdown",
      "metadata": {
        "id": "NuDrdVp9zSLW"
      },
      "source": [
        "- from above observations we can say that New Yorkers prefer friday and saturday to rome around."
      ]
    },
    {
      "cell_type": "markdown",
      "metadata": {
        "id": "sx6mGcovzreQ"
      },
      "source": [
        "G) **Trip per Hour**"
      ]
    },
    {
      "cell_type": "code",
      "metadata": {
        "colab": {
          "base_uri": "https://localhost:8080/",
          "height": 422
        },
        "id": "tMWW2_Pjz0_P",
        "outputId": "9400206e-8c23-40f7-d83e-fc7013beeb58"
      },
      "source": [
        "# lets look at hourly pickups\n",
        "plt.figure(figsize=(18,6))\n",
        "hour=data1['pickup_hour'].value_counts().sort_index()\n",
        "hour.plot(kind='bar',color='green')\n",
        "plt.xticks(rotation=0) # used to change ticks rotations\n",
        "plt.xlabel('Hours')\n",
        "plt.ylabel('Counts')\n",
        "plt.title('Hourly Pickups')"
      ],
      "execution_count": 32,
      "outputs": [
        {
          "output_type": "execute_result",
          "data": {
            "text/plain": [
              "Text(0.5, 1.0, 'Hourly Pickups')"
            ]
          },
          "metadata": {},
          "execution_count": 32
        },
        {
          "output_type": "display_data",
          "data": {
            "image/png": "[encoded data removed]",
            "text/plain": [
              "<Figure size 1296x432 with 1 Axes>"
            ]
          },
          "metadata": {
            "needs_background": "light"
          }
        }
      ]
    },
    {
      "cell_type": "markdown",
      "metadata": {
        "id": "R1C-JqVE1s8X"
      },
      "source": [
        "- Above observation suggest -Rush hours (5 pm to 10 pm), probably office leaving time.\n",
        "\n",
        "- we also observe that most pickups and drops occur in the evening. While the least drops and pickups occur during midday."
      ]
    },
    {
      "cell_type": "markdown",
      "metadata": {
        "id": "6OpGRDCp2QYw"
      },
      "source": [
        "H) **Trips Per Day in a Month**"
      ]
    },
    {
      "cell_type": "code",
      "metadata": {
        "colab": {
          "base_uri": "https://localhost:8080/",
          "height": 459
        },
        "id": "QWfxoxJx2jzJ",
        "outputId": "c4b6529b-544f-470b-83fa-b0d69de60e8e"
      },
      "source": [
        "# analysing daily trips in month\n",
        "plt.figure(figsize=(18,6))\n",
        "days=data1['pickup_day'].value_counts().sort_index()\n",
        "days.plot(kind='bar',color='maroon')\n",
        "days.plot(kind='line',color='blue')\n",
        "plt.xlabel('Days')\n",
        "plt.ylabel('Counts')\n",
        "plt.title('Daily Trips in a month')\n",
        "plt.xticks(rotation=0)\n",
        "\n",
        "\n"
      ],
      "execution_count": 33,
      "outputs": [
        {
          "output_type": "execute_result",
          "data": {
            "text/plain": [
              "(array([ 0,  1,  2,  3,  4,  5,  6,  7,  8,  9, 10, 11, 12, 13, 14, 15, 16,\n",
              "        17, 18, 19, 20, 21, 22, 23, 24, 25, 26, 27, 28, 29, 30]),\n",
              " <a list of 31 Text major ticklabel objects>)"
            ]
          },
          "metadata": {},
          "execution_count": 33
        },
        {
          "output_type": "display_data",
          "data": {
            "image/png": "[encoded data removed]",
            "text/plain": [
              "<Figure size 1296x432 with 1 Axes>"
            ]
          },
          "metadata": {
            "needs_background": "light"
          }
        }
      ]
    },
    {
      "cell_type": "markdown",
      "metadata": {
        "id": "qoQHpxsc4xe3"
      },
      "source": [
        "- New Yorkers don't seems to be fond of travelling during month ends. "
      ]
    },
    {
      "cell_type": "markdown",
      "metadata": {
        "id": "4_rqXGR15LMS"
      },
      "source": [
        "I) **Trips Per Month**"
      ]
    },
    {
      "cell_type": "code",
      "metadata": {
        "colab": {
          "base_uri": "https://localhost:8080/",
          "height": 477
        },
        "id": "fuyCdYLi5SjH",
        "outputId": "bb95d8fe-9888-4c4d-ecdd-7963e7038756"
      },
      "source": [
        "## monthly trips exploration\n",
        "plt.figure(figsize=(10,7))\n",
        "sns.countplot(data1['pickup_month'], palette='Accent')\n",
        "plt.xticks([0,1,2,3,4,5], labels=['Jan','Feb','March','April','May','June'])\n",
        "plt.title('Overall Monthly trips')"
      ],
      "execution_count": 34,
      "outputs": [
        {
          "output_type": "execute_result",
          "data": {
            "text/plain": [
              "Text(0.5, 1.0, 'Overall Monthly trips')"
            ]
          },
          "metadata": {},
          "execution_count": 34
        },
        {
          "output_type": "display_data",
          "data": {
            "image/png": "[encoded data removed]",
            "text/plain": [
              "<Figure size 720x504 with 1 Axes>"
            ]
          },
          "metadata": {
            "needs_background": "light"
          }
        }
      ]
    },
    {
      "cell_type": "markdown",
      "metadata": {
        "id": "7fAR8JRG6zkM"
      },
      "source": [
        "- we can see we only got data for 6 months.\n",
        "- we can see there is some seasonality factor defining demand\n",
        "  i,e march and april marking highest (summer season) and january being lowest ( extreme snowfall).\n",
        "  "
      ]
    },
    {
      "cell_type": "markdown",
      "metadata": {
        "id": "PAQUkazM7ND4"
      },
      "source": [
        "# Bivariate Analysis of Target variable"
      ]
    },
    {
      "cell_type": "code",
      "metadata": {
        "colab": {
          "base_uri": "https://localhost:8080/",
          "height": 387
        },
        "id": "f0cvQ12L8lcC",
        "outputId": "ccd422a3-1473-4d41-dc82-c1578e2591f3"
      },
      "source": [
        "# Trip duration according to vendor\n",
        "sns.catplot(x='vendor_id',y='trip_duration',data=data1)"
      ],
      "execution_count": 35,
      "outputs": [
        {
          "output_type": "execute_result",
          "data": {
            "text/plain": [
              "<seaborn.axisgrid.FacetGrid at 0x7f898226e590>"
            ]
          },
          "metadata": {},
          "execution_count": 35
        },
        {
          "output_type": "display_data",
          "data": {
            "image/png": "[encoded data removed]",
            "text/plain": [
              "<Figure size 360x360 with 1 Axes>"
            ]
          },
          "metadata": {
            "needs_background": "light"
          }
        }
      ]
    },
    {
      "cell_type": "markdown",
      "metadata": {
        "id": "JM6CaZ2X9b9H"
      },
      "source": [
        "Vendor id 2 takes longer trips as compared to vendor 1."
      ]
    },
    {
      "cell_type": "code",
      "metadata": {
        "colab": {
          "base_uri": "https://localhost:8080/",
          "height": 387
        },
        "id": "DmUSKS04-Tcq",
        "outputId": "ba44fd20-b041-460b-da84-9d0f1a0c8caa"
      },
      "source": [
        "# Trip Duration per Store and Forward Flag\n",
        "sns.catplot(y='trip_duration',x='store_and_fwd_flag',data=data1,kind='strip')"
      ],
      "execution_count": 36,
      "outputs": [
        {
          "output_type": "execute_result",
          "data": {
            "text/plain": [
              "<seaborn.axisgrid.FacetGrid at 0x7f8951474110>"
            ]
          },
          "metadata": {},
          "execution_count": 36
        },
        {
          "output_type": "display_data",
          "data": {
            "image/png": "[encoded data removed]",
            "text/plain": [
              "<Figure size 360x360 with 1 Axes>"
            ]
          },
          "metadata": {
            "needs_background": "light"
          }
        }
      ]
    },
    {
      "cell_type": "markdown",
      "metadata": {
        "id": "mL7F6-6w-gz9"
      },
      "source": [
        "- Trip duration is generally longer for trips whose flag was not stored."
      ]
    },
    {
      "cell_type": "code",
      "metadata": {
        "colab": {
          "base_uri": "https://localhost:8080/",
          "height": 387
        },
        "id": "_vbuE1Ia-3Pp",
        "outputId": "c7ea3631-2484-4618-a780-4cce462ba942"
      },
      "source": [
        "# Trip Duration per hour\n",
        "sns.catplot(y='trip_duration',x='passenger_count',data=data1,kind='strip')"
      ],
      "execution_count": 37,
      "outputs": [
        {
          "output_type": "execute_result",
          "data": {
            "text/plain": [
              "<seaborn.axisgrid.FacetGrid at 0x7f8959e24390>"
            ]
          },
          "metadata": {},
          "execution_count": 37
        },
        {
          "output_type": "display_data",
          "data": {
            "image/png": "[encoded data removed]",
            "text/plain": [
              "<Figure size 360x360 with 1 Axes>"
            ]
          },
          "metadata": {
            "needs_background": "light"
          }
        }
      ]
    },
    {
      "cell_type": "markdown",
      "metadata": {
        "id": "7RXsrVPm-8HR"
      },
      "source": [
        "- There is no visible relation between trip duration and passenger count.\n"
      ]
    },
    {
      "cell_type": "code",
      "metadata": {
        "colab": {
          "base_uri": "https://localhost:8080/",
          "height": 298
        },
        "id": "EKK-JzEN_VB1",
        "outputId": "a8597788-7b6a-43c0-fe13-698ba96ef4ef"
      },
      "source": [
        "# Trip Duration per time of day\n",
        "sns.lineplot(x='pickup_hour',y='trip_duration',data=data1)"
      ],
      "execution_count": 38,
      "outputs": [
        {
          "output_type": "execute_result",
          "data": {
            "text/plain": [
              "<matplotlib.axes._subplots.AxesSubplot at 0x7f89591064d0>"
            ]
          },
          "metadata": {},
          "execution_count": 38
        },
        {
          "output_type": "display_data",
          "data": {
            "image/png": "[encoded data removed]",
            "text/plain": [
              "<Figure size 432x288 with 1 Axes>"
            ]
          },
          "metadata": {
            "needs_background": "light"
          }
        }
      ]
    },
    {
      "cell_type": "markdown",
      "metadata": {
        "id": "6FyJzMH7_h5f"
      },
      "source": [
        "- We see the trip duration is the maximum around 3 pm which may be because of traffic on the roads. Trip duration is the lowest around 6 am as streets may not be busy."
      ]
    },
    {
      "cell_type": "code",
      "metadata": {
        "colab": {
          "base_uri": "https://localhost:8080/",
          "height": 298
        },
        "id": "qH-EO2ca_tjc",
        "outputId": "c1989c00-b8b6-4a5b-ec9e-505b3a6d59f6"
      },
      "source": [
        "# Trip Duration per Day of Week\n",
        "sns.lineplot(x='pickup_weekday',y='trip_duration',data=data1)"
      ],
      "execution_count": 39,
      "outputs": [
        {
          "output_type": "execute_result",
          "data": {
            "text/plain": [
              "<matplotlib.axes._subplots.AxesSubplot at 0x7f895cc17f90>"
            ]
          },
          "metadata": {},
          "execution_count": 39
        },
        {
          "output_type": "display_data",
          "data": {
            "image/png": "[encoded data removed]",
            "text/plain": [
              "<Figure size 432x288 with 1 Axes>"
            ]
          },
          "metadata": {
            "needs_background": "light"
          }
        }
      ]
    },
    {
      "cell_type": "markdown",
      "metadata": {
        "id": "FvNZKc73_9rV"
      },
      "source": [
        "- Trip duration is the longest on Thursdays closely followed by Fridays."
      ]
    },
    {
      "cell_type": "code",
      "metadata": {
        "colab": {
          "base_uri": "https://localhost:8080/",
          "height": 298
        },
        "id": "5hYPw3GNAchE",
        "outputId": "5ea70db1-4d58-4572-dcdd-fc93f81e66f3"
      },
      "source": [
        "# Trip Duration per month\n",
        "sns.lineplot(x='pickup_month',y='trip_duration',data=data1)"
      ],
      "execution_count": 40,
      "outputs": [
        {
          "output_type": "execute_result",
          "data": {
            "text/plain": [
              "<matplotlib.axes._subplots.AxesSubplot at 0x7f895ce12110>"
            ]
          },
          "metadata": {},
          "execution_count": 40
        },
        {
          "output_type": "display_data",
          "data": {
            "image/png": "[encoded data removed]",
            "text/plain": [
              "<Figure size 432x288 with 1 Axes>"
            ]
          },
          "metadata": {
            "needs_background": "light"
          }
        }
      ]
    },
    {
      "cell_type": "markdown",
      "metadata": {
        "id": "_nFgz9FLAqeH"
      },
      "source": [
        "- From February, we can see trip duration rising every month."
      ]
    },
    {
      "cell_type": "code",
      "metadata": {
        "colab": {
          "base_uri": "https://localhost:8080/",
          "height": 388
        },
        "id": "XmFQqhJvAynX",
        "outputId": "ae9e8e3a-bedd-493c-ce85-55da44ae94a7"
      },
      "source": [
        "# distance relation with trip duration\n",
        "sns.relplot(y=data1.distance,x='trip_duration',data=data1)"
      ],
      "execution_count": 41,
      "outputs": [
        {
          "output_type": "execute_result",
          "data": {
            "text/plain": [
              "<seaborn.axisgrid.FacetGrid at 0x7f89514b01d0>"
            ]
          },
          "metadata": {},
          "execution_count": 41
        },
        {
          "output_type": "display_data",
          "data": {
            "image/png": "[encoded data removed]",
            "text/plain": [
              "<Figure size 360x360 with 1 Axes>"
            ]
          },
          "metadata": {
            "needs_background": "light"
          }
        }
      ]
    },
    {
      "cell_type": "markdown",
      "metadata": {
        "id": "t1-qyp7ICPUt"
      },
      "source": [
        "We can see there are trips which trip duration as short as 0 seconds and yet covering a large distance. And, trips with 0 km distance and long trip durations.\n",
        "\n",
        "Let us see few rows whose distances are 0."
      ]
    },
    {
      "cell_type": "code",
      "metadata": {
        "colab": {
          "base_uri": "https://localhost:8080/",
          "height": 313
        },
        "id": "r4z_O7apCiWJ",
        "outputId": "6f8e940f-6564-49b0-842f-33adfa796b80"
      },
      "source": [
        "data1[data1['distance']==0].head()"
      ],
      "execution_count": 42,
      "outputs": [
        {
          "output_type": "execute_result",
          "data": {
            "text/html": [
              "<div>\n",
              "<style scoped>\n",
              "    .dataframe tbody tr th:only-of-type {\n",
              "        vertical-align: middle;\n",
              "    }\n",
              "\n",
              "    .dataframe tbody tr th {\n",
              "        vertical-align: top;\n",
              "    }\n",
              "\n",
              "    .dataframe thead th {\n",
              "        text-align: right;\n",
              "    }\n",
              "</style>\n",
              "<table border=\"1\" class=\"dataframe\">\n",
              "  <thead>\n",
              "    <tr style=\"text-align: right;\">\n",
              "      <th></th>\n",
              "      <th>id</th>\n",
              "      <th>vendor_id</th>\n",
              "      <th>pickup_datetime</th>\n",
              "      <th>dropoff_datetime</th>\n",
              "      <th>passenger_count</th>\n",
              "      <th>pickup_longitude</th>\n",
              "      <th>pickup_latitude</th>\n",
              "      <th>dropoff_longitude</th>\n",
              "      <th>dropoff_latitude</th>\n",
              "      <th>store_and_fwd_flag</th>\n",
              "      <th>trip_duration</th>\n",
              "      <th>pickup_day</th>\n",
              "      <th>pickup_month</th>\n",
              "      <th>pickup_weekday</th>\n",
              "      <th>pickup_hour</th>\n",
              "      <th>pickup_date</th>\n",
              "      <th>pickup_min</th>\n",
              "      <th>dropoff_min</th>\n",
              "      <th>distance</th>\n",
              "    </tr>\n",
              "  </thead>\n",
              "  <tbody>\n",
              "    <tr>\n",
              "      <th>246</th>\n",
              "      <td>id3487442</td>\n",
              "      <td>2</td>\n",
              "      <td>2016-02-29 18:39:12</td>\n",
              "      <td>2016-02-29 18:42:59</td>\n",
              "      <td>1</td>\n",
              "      <td>-73.981819</td>\n",
              "      <td>40.768963</td>\n",
              "      <td>-73.981819</td>\n",
              "      <td>40.768963</td>\n",
              "      <td>N</td>\n",
              "      <td>227</td>\n",
              "      <td>29</td>\n",
              "      <td>2</td>\n",
              "      <td>0</td>\n",
              "      <td>18</td>\n",
              "      <td>2016-02-29</td>\n",
              "      <td>39</td>\n",
              "      <td>42</td>\n",
              "      <td>0.0</td>\n",
              "    </tr>\n",
              "    <tr>\n",
              "      <th>291</th>\n",
              "      <td>id0924324</td>\n",
              "      <td>2</td>\n",
              "      <td>2016-05-10 18:07:52</td>\n",
              "      <td>2016-05-10 18:26:21</td>\n",
              "      <td>2</td>\n",
              "      <td>-73.959068</td>\n",
              "      <td>40.775661</td>\n",
              "      <td>-73.959068</td>\n",
              "      <td>40.775661</td>\n",
              "      <td>N</td>\n",
              "      <td>1109</td>\n",
              "      <td>10</td>\n",
              "      <td>5</td>\n",
              "      <td>1</td>\n",
              "      <td>18</td>\n",
              "      <td>2016-05-10</td>\n",
              "      <td>7</td>\n",
              "      <td>26</td>\n",
              "      <td>0.0</td>\n",
              "    </tr>\n",
              "    <tr>\n",
              "      <th>407</th>\n",
              "      <td>id1145809</td>\n",
              "      <td>2</td>\n",
              "      <td>2016-05-16 23:15:13</td>\n",
              "      <td>2016-05-16 23:31:00</td>\n",
              "      <td>6</td>\n",
              "      <td>-73.808487</td>\n",
              "      <td>40.687336</td>\n",
              "      <td>-73.808487</td>\n",
              "      <td>40.687336</td>\n",
              "      <td>N</td>\n",
              "      <td>947</td>\n",
              "      <td>16</td>\n",
              "      <td>5</td>\n",
              "      <td>0</td>\n",
              "      <td>23</td>\n",
              "      <td>2016-05-16</td>\n",
              "      <td>15</td>\n",
              "      <td>31</td>\n",
              "      <td>0.0</td>\n",
              "    </tr>\n",
              "    <tr>\n",
              "      <th>702</th>\n",
              "      <td>id3499387</td>\n",
              "      <td>1</td>\n",
              "      <td>2016-01-25 19:45:12</td>\n",
              "      <td>2016-01-25 19:54:52</td>\n",
              "      <td>1</td>\n",
              "      <td>-73.786720</td>\n",
              "      <td>40.647041</td>\n",
              "      <td>-73.786720</td>\n",
              "      <td>40.647041</td>\n",
              "      <td>N</td>\n",
              "      <td>580</td>\n",
              "      <td>25</td>\n",
              "      <td>1</td>\n",
              "      <td>0</td>\n",
              "      <td>19</td>\n",
              "      <td>2016-01-25</td>\n",
              "      <td>45</td>\n",
              "      <td>54</td>\n",
              "      <td>0.0</td>\n",
              "    </tr>\n",
              "    <tr>\n",
              "      <th>1620</th>\n",
              "      <td>id0753277</td>\n",
              "      <td>1</td>\n",
              "      <td>2016-01-27 22:29:31</td>\n",
              "      <td>2016-01-27 22:29:58</td>\n",
              "      <td>1</td>\n",
              "      <td>-74.209854</td>\n",
              "      <td>40.816853</td>\n",
              "      <td>-74.209854</td>\n",
              "      <td>40.816853</td>\n",
              "      <td>N</td>\n",
              "      <td>27</td>\n",
              "      <td>27</td>\n",
              "      <td>1</td>\n",
              "      <td>2</td>\n",
              "      <td>22</td>\n",
              "      <td>2016-01-27</td>\n",
              "      <td>29</td>\n",
              "      <td>29</td>\n",
              "      <td>0.0</td>\n",
              "    </tr>\n",
              "  </tbody>\n",
              "</table>\n",
              "</div>"
            ],
            "text/plain": [
              "             id  vendor_id  ... dropoff_min distance\n",
              "246   id3487442          2  ...          42      0.0\n",
              "291   id0924324          2  ...          26      0.0\n",
              "407   id1145809          2  ...          31      0.0\n",
              "702   id3499387          1  ...          54      0.0\n",
              "1620  id0753277          1  ...          29      0.0\n",
              "\n",
              "[5 rows x 19 columns]"
            ]
          },
          "metadata": {},
          "execution_count": 42
        }
      ]
    },
    {
      "cell_type": "markdown",
      "metadata": {
        "id": "Vz0hq-m1C1VM"
      },
      "source": [
        "We can see even though distance is recorded as 0 but trip duration is definitely more.\n",
        "\n",
        "- One reason can be that the dropoff coordinates weren’t recorded.\n",
        "- Another reason one can think is that for short trip durations, maybe the passenger changed their mind and cancelled the ride after some time."
      ]
    },
    {
      "cell_type": "code",
      "metadata": {
        "id": "NBFoFgjDDmk-"
      },
      "source": [
        "#categorical values label encoding\n",
        "from sklearn.preprocessing import LabelEncoder\n",
        "encoder=LabelEncoder()\n",
        "data1['store_and_fwd_flag']=encoder.fit_transform(data1['store_and_fwd_flag'])\n",
        "data1['vendor_id']=encoder.fit_transform(data1['vendor_id'])"
      ],
      "execution_count": 43,
      "outputs": []
    },
    {
      "cell_type": "markdown",
      "metadata": {
        "id": "yhUYgnVwEvcJ"
      },
      "source": [
        "- Conversion of 'store_and_fwd_flag' and 'vendor_id' to be Label encoded as those are Categorical features , binarizing them will help us to compute them with ease.\n",
        "\n",
        "\n"
      ]
    },
    {
      "cell_type": "markdown",
      "metadata": {
        "id": "0hMdvPD6FEVL"
      },
      "source": [
        "# Multivariate Analysis\n"
      ]
    },
    {
      "cell_type": "markdown",
      "metadata": {
        "id": "t5flE1omFL6a"
      },
      "source": [
        "## Correlation Heatmap"
      ]
    },
    {
      "cell_type": "code",
      "metadata": {
        "colab": {
          "base_uri": "https://localhost:8080/",
          "height": 820
        },
        "id": "zB4ZhgjAFUta",
        "outputId": "c662b38e-7b77-4b42-bb80-b24a753592de"
      },
      "source": [
        "# plotting pearson correlation heatmap\n",
        "plt.figure(figsize=(18,12))\n",
        "sns.heatmap(data1.corr()*100,annot=True,cmap='flare_r')\n",
        "plt.title('correlation plot')"
      ],
      "execution_count": 44,
      "outputs": [
        {
          "output_type": "execute_result",
          "data": {
            "text/plain": [
              "Text(0.5, 1.0, 'correlation plot')"
            ]
          },
          "metadata": {},
          "execution_count": 44
        },
        {
          "output_type": "display_data",
          "data": {
            "image/png": "[encoded data removed]",
            "text/plain": [
              "<Figure size 1296x864 with 2 Axes>"
            ]
          },
          "metadata": {
            "needs_background": "light"
          }
        }
      ]
    },
    {
      "cell_type": "code",
      "metadata": {
        "id": "ctwNLJ2vFwLp",
        "colab": {
          "base_uri": "https://localhost:8080/",
          "height": 226
        },
        "outputId": "e293ad80-fdde-4df2-e395-36cc7a4d048d"
      },
      "source": [
        "# dropping some unnecessary columns\n",
        "nyc_taxi_df = data1.drop(['id','pickup_datetime','pickup_date','dropoff_datetime','distance'], axis=1)\n",
        "nyc_taxi_df.head()"
      ],
      "execution_count": 45,
      "outputs": [
        {
          "output_type": "execute_result",
          "data": {
            "text/html": [
              "<div>\n",
              "<style scoped>\n",
              "    .dataframe tbody tr th:only-of-type {\n",
              "        vertical-align: middle;\n",
              "    }\n",
              "\n",
              "    .dataframe tbody tr th {\n",
              "        vertical-align: top;\n",
              "    }\n",
              "\n",
              "    .dataframe thead th {\n",
              "        text-align: right;\n",
              "    }\n",
              "</style>\n",
              "<table border=\"1\" class=\"dataframe\">\n",
              "  <thead>\n",
              "    <tr style=\"text-align: right;\">\n",
              "      <th></th>\n",
              "      <th>vendor_id</th>\n",
              "      <th>passenger_count</th>\n",
              "      <th>pickup_longitude</th>\n",
              "      <th>pickup_latitude</th>\n",
              "      <th>dropoff_longitude</th>\n",
              "      <th>dropoff_latitude</th>\n",
              "      <th>store_and_fwd_flag</th>\n",
              "      <th>trip_duration</th>\n",
              "      <th>pickup_day</th>\n",
              "      <th>pickup_month</th>\n",
              "      <th>pickup_weekday</th>\n",
              "      <th>pickup_hour</th>\n",
              "      <th>pickup_min</th>\n",
              "      <th>dropoff_min</th>\n",
              "    </tr>\n",
              "  </thead>\n",
              "  <tbody>\n",
              "    <tr>\n",
              "      <th>0</th>\n",
              "      <td>1</td>\n",
              "      <td>1</td>\n",
              "      <td>-73.982155</td>\n",
              "      <td>40.767937</td>\n",
              "      <td>-73.964630</td>\n",
              "      <td>40.765602</td>\n",
              "      <td>0</td>\n",
              "      <td>455</td>\n",
              "      <td>14</td>\n",
              "      <td>3</td>\n",
              "      <td>0</td>\n",
              "      <td>17</td>\n",
              "      <td>24</td>\n",
              "      <td>32</td>\n",
              "    </tr>\n",
              "    <tr>\n",
              "      <th>1</th>\n",
              "      <td>0</td>\n",
              "      <td>1</td>\n",
              "      <td>-73.980415</td>\n",
              "      <td>40.738564</td>\n",
              "      <td>-73.999481</td>\n",
              "      <td>40.731152</td>\n",
              "      <td>0</td>\n",
              "      <td>663</td>\n",
              "      <td>12</td>\n",
              "      <td>6</td>\n",
              "      <td>6</td>\n",
              "      <td>0</td>\n",
              "      <td>43</td>\n",
              "      <td>54</td>\n",
              "    </tr>\n",
              "    <tr>\n",
              "      <th>2</th>\n",
              "      <td>1</td>\n",
              "      <td>1</td>\n",
              "      <td>-73.979027</td>\n",
              "      <td>40.763939</td>\n",
              "      <td>-74.005333</td>\n",
              "      <td>40.710087</td>\n",
              "      <td>0</td>\n",
              "      <td>2124</td>\n",
              "      <td>19</td>\n",
              "      <td>1</td>\n",
              "      <td>1</td>\n",
              "      <td>11</td>\n",
              "      <td>35</td>\n",
              "      <td>10</td>\n",
              "    </tr>\n",
              "    <tr>\n",
              "      <th>3</th>\n",
              "      <td>1</td>\n",
              "      <td>1</td>\n",
              "      <td>-74.010040</td>\n",
              "      <td>40.719971</td>\n",
              "      <td>-74.012268</td>\n",
              "      <td>40.706718</td>\n",
              "      <td>0</td>\n",
              "      <td>429</td>\n",
              "      <td>6</td>\n",
              "      <td>4</td>\n",
              "      <td>2</td>\n",
              "      <td>19</td>\n",
              "      <td>32</td>\n",
              "      <td>39</td>\n",
              "    </tr>\n",
              "    <tr>\n",
              "      <th>4</th>\n",
              "      <td>1</td>\n",
              "      <td>1</td>\n",
              "      <td>-73.973053</td>\n",
              "      <td>40.793209</td>\n",
              "      <td>-73.972923</td>\n",
              "      <td>40.782520</td>\n",
              "      <td>0</td>\n",
              "      <td>435</td>\n",
              "      <td>26</td>\n",
              "      <td>3</td>\n",
              "      <td>5</td>\n",
              "      <td>13</td>\n",
              "      <td>30</td>\n",
              "      <td>38</td>\n",
              "    </tr>\n",
              "  </tbody>\n",
              "</table>\n",
              "</div>"
            ],
            "text/plain": [
              "   vendor_id  passenger_count  ...  pickup_min  dropoff_min\n",
              "0          1                1  ...          24           32\n",
              "1          0                1  ...          43           54\n",
              "2          1                1  ...          35           10\n",
              "3          1                1  ...          32           39\n",
              "4          1                1  ...          30           38\n",
              "\n",
              "[5 rows x 14 columns]"
            ]
          },
          "metadata": {},
          "execution_count": 45
        }
      ]
    },
    {
      "cell_type": "code",
      "metadata": {
        "colab": {
          "base_uri": "https://localhost:8080/"
        },
        "id": "L8YdKxZx8G0S",
        "outputId": "03836cb6-dfa5-484e-bc98-7f05ab46f865"
      },
      "source": [
        "nyc_taxi_df.shape"
      ],
      "execution_count": 46,
      "outputs": [
        {
          "output_type": "execute_result",
          "data": {
            "text/plain": [
              "(1458575, 14)"
            ]
          },
          "metadata": {},
          "execution_count": 46
        }
      ]
    },
    {
      "cell_type": "markdown",
      "metadata": {
        "id": "10nTBXAN-IjJ"
      },
      "source": [
        "# Scaling and Normalization"
      ]
    },
    {
      "cell_type": "code",
      "metadata": {
        "id": "4QA6fhUa8vTI"
      },
      "source": [
        "#Predictors and Target Variable\n",
        "\n",
        "X = nyc_taxi_df.drop(['trip_duration'], axis=1)\n",
        "y = np.log(nyc_taxi_df['trip_duration']) "
      ],
      "execution_count": 47,
      "outputs": []
    },
    {
      "cell_type": "code",
      "metadata": {
        "colab": {
          "base_uri": "https://localhost:8080/"
        },
        "id": "80Dkxdu2-S-w",
        "outputId": "8200b62a-3b37-42f7-daa1-3eb9e41310f8"
      },
      "source": [
        "# scaling predictors and creating new dataframe\n",
        "from sklearn.preprocessing import StandardScaler\n",
        "cols = X.columns\n",
        "print(cols)\n"
      ],
      "execution_count": 48,
      "outputs": [
        {
          "output_type": "stream",
          "name": "stdout",
          "text": [
            "Index(['vendor_id', 'passenger_count', 'pickup_longitude', 'pickup_latitude',\n",
            "       'dropoff_longitude', 'dropoff_latitude', 'store_and_fwd_flag',\n",
            "       'pickup_day', 'pickup_month', 'pickup_weekday', 'pickup_hour',\n",
            "       'pickup_min', 'dropoff_min'],\n",
            "      dtype='object')\n"
          ]
        }
      ]
    },
    {
      "cell_type": "code",
      "metadata": {
        "id": "S-zjT9u5_N6S"
      },
      "source": [
        "scaler = StandardScaler() # creating instance for scaler"
      ],
      "execution_count": 49,
      "outputs": []
    },
    {
      "cell_type": "code",
      "metadata": {
        "id": "St0t3C-T_YBo",
        "colab": {
          "base_uri": "https://localhost:8080/"
        },
        "outputId": "23b677e5-cdfa-4a2a-a615-3405da250c34"
      },
      "source": [
        "df = scaler.fit_transform(X)\n",
        "df.shape"
      ],
      "execution_count": 50,
      "outputs": [
        {
          "output_type": "execute_result",
          "data": {
            "text/plain": [
              "(1458575, 13)"
            ]
          },
          "metadata": {},
          "execution_count": 50
        }
      ]
    },
    {
      "cell_type": "code",
      "metadata": {
        "colab": {
          "base_uri": "https://localhost:8080/",
          "height": 226
        },
        "id": "bwOhH2fK_hFM",
        "outputId": "4585dfb6-4cc6-45b2-bea1-be9e4ea9c535"
      },
      "source": [
        "df = pd.DataFrame(df, columns=cols)\n",
        "df.head()"
      ],
      "execution_count": 51,
      "outputs": [
        {
          "output_type": "execute_result",
          "data": {
            "text/html": [
              "<div>\n",
              "<style scoped>\n",
              "    .dataframe tbody tr th:only-of-type {\n",
              "        vertical-align: middle;\n",
              "    }\n",
              "\n",
              "    .dataframe tbody tr th {\n",
              "        vertical-align: top;\n",
              "    }\n",
              "\n",
              "    .dataframe thead th {\n",
              "        text-align: right;\n",
              "    }\n",
              "</style>\n",
              "<table border=\"1\" class=\"dataframe\">\n",
              "  <thead>\n",
              "    <tr style=\"text-align: right;\">\n",
              "      <th></th>\n",
              "      <th>vendor_id</th>\n",
              "      <th>passenger_count</th>\n",
              "      <th>pickup_longitude</th>\n",
              "      <th>pickup_latitude</th>\n",
              "      <th>dropoff_longitude</th>\n",
              "      <th>dropoff_latitude</th>\n",
              "      <th>store_and_fwd_flag</th>\n",
              "      <th>pickup_day</th>\n",
              "      <th>pickup_month</th>\n",
              "      <th>pickup_weekday</th>\n",
              "      <th>pickup_hour</th>\n",
              "      <th>pickup_min</th>\n",
              "      <th>dropoff_min</th>\n",
              "    </tr>\n",
              "  </thead>\n",
              "  <tbody>\n",
              "    <tr>\n",
              "      <th>0</th>\n",
              "      <td>0.932376</td>\n",
              "      <td>-0.505698</td>\n",
              "      <td>-0.122246</td>\n",
              "      <td>0.517488</td>\n",
              "      <td>0.124378</td>\n",
              "      <td>0.384565</td>\n",
              "      <td>-0.074459</td>\n",
              "      <td>-0.172829</td>\n",
              "      <td>-0.307453</td>\n",
              "      <td>-1.561057</td>\n",
              "      <td>0.530258</td>\n",
              "      <td>-0.322670</td>\n",
              "      <td>0.136133</td>\n",
              "    </tr>\n",
              "    <tr>\n",
              "      <th>1</th>\n",
              "      <td>-1.072528</td>\n",
              "      <td>-0.505698</td>\n",
              "      <td>-0.097712</td>\n",
              "      <td>-0.375858</td>\n",
              "      <td>-0.368965</td>\n",
              "      <td>-0.575340</td>\n",
              "      <td>-0.074459</td>\n",
              "      <td>-0.402632</td>\n",
              "      <td>1.477163</td>\n",
              "      <td>1.509521</td>\n",
              "      <td>-2.126171</td>\n",
              "      <td>0.774026</td>\n",
              "      <td>1.399030</td>\n",
              "    </tr>\n",
              "    <tr>\n",
              "      <th>2</th>\n",
              "      <td>0.932376</td>\n",
              "      <td>-0.505698</td>\n",
              "      <td>-0.078128</td>\n",
              "      <td>0.395900</td>\n",
              "      <td>-0.451801</td>\n",
              "      <td>-1.162274</td>\n",
              "      <td>-0.074459</td>\n",
              "      <td>0.401676</td>\n",
              "      <td>-1.497197</td>\n",
              "      <td>-1.049294</td>\n",
              "      <td>-0.407305</td>\n",
              "      <td>0.312259</td>\n",
              "      <td>-1.126764</td>\n",
              "    </tr>\n",
              "    <tr>\n",
              "      <th>3</th>\n",
              "      <td>0.932376</td>\n",
              "      <td>-0.505698</td>\n",
              "      <td>-0.515547</td>\n",
              "      <td>-0.941334</td>\n",
              "      <td>-0.549973</td>\n",
              "      <td>-1.256128</td>\n",
              "      <td>-0.074459</td>\n",
              "      <td>-1.092039</td>\n",
              "      <td>0.287419</td>\n",
              "      <td>-0.537531</td>\n",
              "      <td>0.842779</td>\n",
              "      <td>0.139097</td>\n",
              "      <td>0.537964</td>\n",
              "    </tr>\n",
              "    <tr>\n",
              "      <th>4</th>\n",
              "      <td>0.932376</td>\n",
              "      <td>-0.505698</td>\n",
              "      <td>0.006128</td>\n",
              "      <td>1.286113</td>\n",
              "      <td>0.006982</td>\n",
              "      <td>0.855961</td>\n",
              "      <td>-0.074459</td>\n",
              "      <td>1.205984</td>\n",
              "      <td>-0.307453</td>\n",
              "      <td>0.997758</td>\n",
              "      <td>-0.094784</td>\n",
              "      <td>0.023655</td>\n",
              "      <td>0.480560</td>\n",
              "    </tr>\n",
              "  </tbody>\n",
              "</table>\n",
              "</div>"
            ],
            "text/plain": [
              "   vendor_id  passenger_count  ...  pickup_min  dropoff_min\n",
              "0   0.932376        -0.505698  ...   -0.322670     0.136133\n",
              "1  -1.072528        -0.505698  ...    0.774026     1.399030\n",
              "2   0.932376        -0.505698  ...    0.312259    -1.126764\n",
              "3   0.932376        -0.505698  ...    0.139097     0.537964\n",
              "4   0.932376        -0.505698  ...    0.023655     0.480560\n",
              "\n",
              "[5 rows x 13 columns]"
            ]
          },
          "metadata": {},
          "execution_count": 51
        }
      ]
    },
    {
      "cell_type": "markdown",
      "metadata": {
        "id": "2y3GnxH3_37u"
      },
      "source": [
        "Normalizing the Dataset using Standard Scaling Technique.\n",
        "\n",
        "\n",
        "Now, Why Standard Scaling ? Why not MinMax or Normalizer ?\n",
        "\n",
        "\n",
        "- It is because MinMax adjusts the value between 0’s and 1’s , which tend to work better for optimization techniques like Gradient descent and machine learning algorithms like KNN.\n",
        "\n",
        "\n",
        "- While, Normalizer uses distance measurement like Euclidean or Manhattan, so Normalizer tend to work better with KNN."
      ]
    },
    {
      "cell_type": "markdown",
      "metadata": {
        "id": "efJZkCDyARq1"
      },
      "source": [
        "# The First Approach - Decomposition using Principal Component Analysis (PCA)"
      ]
    },
    {
      "cell_type": "markdown",
      "metadata": {
        "id": "z-7fR6PTAYr-"
      },
      "source": [
        "- we have to pass our Scaled Dataframe in PCA model and observe the elbow plot to get better idea of explained variance.\n",
        "\n",
        "\n",
        "- We'll also go through a approach without using PCA in Second Part and Later compare results with PCA approach."
      ]
    },
    {
      "cell_type": "code",
      "metadata": {
        "id": "9pSekvWKAnDA"
      },
      "source": [
        "X = df"
      ],
      "execution_count": 52,
      "outputs": []
    },
    {
      "cell_type": "code",
      "metadata": {
        "colab": {
          "base_uri": "https://localhost:8080/"
        },
        "id": "azd3XThYAnu4",
        "outputId": "31134298-5df8-4022-b963-bd7f7d546f4a"
      },
      "source": [
        "#Applying PCA\n",
        "\n",
        "from sklearn.decomposition import PCA\n",
        "\n",
        "pca = PCA(n_components=len(nyc_taxi_df.columns)-1)\n",
        "pca.fit_transform(X)\n",
        "var_rat = pca.explained_variance_ratio_\n",
        "var_rat"
      ],
      "execution_count": 53,
      "outputs": [
        {
          "output_type": "execute_result",
          "data": {
            "text/plain": [
              "array([0.14410085, 0.10874172, 0.10046688, 0.08575395, 0.0832723 ,\n",
              "       0.0781244 , 0.07600664, 0.07577636, 0.07020669, 0.06811242,\n",
              "       0.05427187, 0.03908667, 0.01607925])"
            ]
          },
          "metadata": {},
          "execution_count": 53
        }
      ]
    },
    {
      "cell_type": "code",
      "metadata": {
        "colab": {
          "base_uri": "https://localhost:8080/",
          "height": 392
        },
        "id": "NduTDr8_Asi9",
        "outputId": "81d00b9c-bcc1-4e3c-e082-65049dac164c"
      },
      "source": [
        "#Variance Ratio vs PC plot\n",
        "\n",
        "plt.figure(figsize=(15,6))\n",
        "plt.bar(np.arange(pca.n_components_), pca.explained_variance_, color=\"green\")"
      ],
      "execution_count": 54,
      "outputs": [
        {
          "output_type": "execute_result",
          "data": {
            "text/plain": [
              "<BarContainer object of 13 artists>"
            ]
          },
          "metadata": {},
          "execution_count": 54
        },
        {
          "output_type": "display_data",
          "data": {
            "image/png": "[encoded data removed]",
            "text/plain": [
              "<Figure size 1080x432 with 1 Axes>"
            ]
          },
          "metadata": {
            "needs_background": "light"
          }
        }
      ]
    },
    {
      "cell_type": "markdown",
      "metadata": {
        "id": "BK5dFUHBBBCx"
      },
      "source": [
        "- At 12th component our PCA model seems to go Flat without explaining much of a Variance."
      ]
    },
    {
      "cell_type": "code",
      "metadata": {
        "colab": {
          "base_uri": "https://localhost:8080/",
          "height": 422
        },
        "id": "iz4W5WObBtRb",
        "outputId": "53ab9a60-a1a5-4a35-d0ec-6c70c1d7d834"
      },
      "source": [
        "#Cumulative Variance Ratio\n",
        "\n",
        "plt.figure(figsize=(10,6))\n",
        "plt.plot(np.cumsum(var_rat)*100, color=\"g\", marker='o')\n",
        "plt.xlabel(\"Principal Components\")\n",
        "plt.ylabel(\"Cumulative Variance Ratio\")\n",
        "plt.title('Elbow Plot')"
      ],
      "execution_count": 55,
      "outputs": [
        {
          "output_type": "execute_result",
          "data": {
            "text/plain": [
              "Text(0.5, 1.0, 'Elbow Plot')"
            ]
          },
          "metadata": {},
          "execution_count": 55
        },
        {
          "output_type": "display_data",
          "data": {
            "image/png": "[encoded data removed]",
            "text/plain": [
              "<Figure size 720x432 with 1 Axes>"
            ]
          },
          "metadata": {
            "needs_background": "light"
          }
        }
      ]
    },
    {
      "cell_type": "code",
      "metadata": {
        "colab": {
          "base_uri": "https://localhost:8080/"
        },
        "id": "qVp4J0wuCOCI",
        "outputId": "0b2e84c6-254b-44b0-875b-c7265decac76"
      },
      "source": [
        "#Applying PCA as per required components\n",
        "\n",
        "pca = PCA(n_components=12)\n",
        "transform = pca.fit_transform(X)\n",
        "pca.explained_variance_"
      ],
      "execution_count": 56,
      "outputs": [
        {
          "output_type": "execute_result",
          "data": {
            "text/plain": [
              "array([1.87331234, 1.41364334, 1.30607029, 1.11480206, 1.08254064,\n",
              "       1.01561787, 0.98808704, 0.98509339, 0.91268766, 0.88546204,\n",
              "       0.70553479, 0.508127  ])"
            ]
          },
          "metadata": {},
          "execution_count": 56
        }
      ]
    },
    {
      "cell_type": "markdown",
      "metadata": {
        "id": "dLQvVmlICzx4"
      },
      "source": [
        "- Above , we had considered 12 as a required number of components and extracted new features by transforming the Data."
      ]
    },
    {
      "cell_type": "code",
      "metadata": {
        "colab": {
          "base_uri": "https://localhost:8080/",
          "height": 446
        },
        "id": "G65Eo8maC9Ng",
        "outputId": "39331458-7124-45fc-bc24-c7cb8782cc33"
      },
      "source": [
        "#importance of features in Particular Principal Component\n",
        "\n",
        "plt.figure(figsize=(25,6))\n",
        "sns.heatmap(pca.components_, annot=True, cmap=\"winter\")\n",
        "plt.ylabel(\"Components\")\n",
        "plt.xlabel(\"Features\")\n",
        "plt.xticks(np.arange(len(X.columns)), X.columns, rotation=65)\n",
        "plt.title('Contribution of a Particular feature to our Principal Components')"
      ],
      "execution_count": 57,
      "outputs": [
        {
          "output_type": "execute_result",
          "data": {
            "text/plain": [
              "Text(0.5, 1.0, 'Contribution of a Particular feature to our Principal Components')"
            ]
          },
          "metadata": {},
          "execution_count": 57
        },
        {
          "output_type": "display_data",
          "data": {
            "image/png": "[encoded data removed]",
            "text/plain": [
              "<Figure size 1800x432 with 2 Axes>"
            ]
          },
          "metadata": {
            "needs_background": "light"
          }
        }
      ]
    },
    {
      "cell_type": "markdown",
      "metadata": {
        "id": "CVZriCmZDLw5"
      },
      "source": [
        "- Above plot gives us detailed idealogy of which feature has contributed more or less to our each Principal Component.\n",
        "\n",
        "\n",
        "- Pricipal Components are our new features which consists of Information from every other original Feature we have. \n",
        "\n",
        "\n",
        "- We reduce the Dimensions using PCA by retaining as much as Information possible. "
      ]
    },
    {
      "cell_type": "markdown",
      "metadata": {
        "id": "0Iu_CbQic5R0"
      },
      "source": [
        "# Splitting dataset and applying Algorithms"
      ]
    },
    {
      "cell_type": "markdown",
      "metadata": {
        "id": "kMYlynIydiLu"
      },
      "source": [
        "- Let’s pass the PCA Transformed data in our Machine Learning Regression Algorithms. To begin with , Linear Regression is a good approach, by splitting our Data into Training and Testing (30%).\n",
        "\n",
        "\n",
        "**So, I want to approach from base model built using basic Linear Regression and then bring in more Sophisticated Algorithms - Decision Tree & Random Forest. It will give us good idea how Linear Regression performs against Decision Tree Regressor and Random Forest Regressor. Later, we will also approach with same algorithms on \"without PCA\" data. Finally, we'll evaluate both approaches we took and lay down recommended approach and algorithms.**"
      ]
    },
    {
      "cell_type": "code",
      "metadata": {
        "id": "GW1Ig5MieAfd"
      },
      "source": [
        "#Passing in Transformed values as Predcitors\n",
        "\n",
        "X = transform\n",
        "y = np.log(nyc_taxi_df['trip_duration']).values"
      ],
      "execution_count": 58,
      "outputs": []
    },
    {
      "cell_type": "code",
      "metadata": {
        "colab": {
          "base_uri": "https://localhost:8080/"
        },
        "id": "DBte_JbneB3-",
        "outputId": "967c9900-f7fe-42b2-a737-73f5ae73aa0d"
      },
      "source": [
        "#importing train test split & some important metrics\n",
        "\n",
        "from sklearn.model_selection import train_test_split, GridSearchCV, cross_val_score\n",
        "from sklearn.metrics import r2_score, mean_squared_log_error , mean_squared_error\n",
        "\n",
        "X_train, X_test, y_train, y_test = train_test_split(X, y, test_size=0.30, random_state=10)\n",
        "X_train.shape, X_test.shape, y_train.shape, y_test.shape"
      ],
      "execution_count": 59,
      "outputs": [
        {
          "output_type": "execute_result",
          "data": {
            "text/plain": [
              "((1021002, 12), (437573, 12), (1021002,), (437573,))"
            ]
          },
          "metadata": {},
          "execution_count": 59
        }
      ]
    },
    {
      "cell_type": "markdown",
      "metadata": {
        "id": "6xpiYw7meO-P"
      },
      "source": [
        "### Linear regression:\n",
        "\n",
        "- Simple to explain.\n",
        "\n",
        "\n",
        "- Model training and prediction are fast.\n",
        "\n",
        "\n",
        "- No tuning is required except regularization."
      ]
    },
    {
      "cell_type": "code",
      "metadata": {
        "colab": {
          "base_uri": "https://localhost:8080/"
        },
        "id": "McRuacm6eVvS",
        "outputId": "8d6da9f4-41f1-48a9-bb83-a6633c0869b2"
      },
      "source": [
        "#implementing Linear regression\n",
        "\n",
        "from sklearn.linear_model import LinearRegression\n",
        "\n",
        "est_lr = LinearRegression()\n",
        "est_lr.fit(X_train, y_train)\n",
        "lr_pred = est_lr.predict(X_test)\n",
        "lr_pred"
      ],
      "execution_count": 60,
      "outputs": [
        {
          "output_type": "execute_result",
          "data": {
            "text/plain": [
              "array([6.6058693 , 6.72521658, 6.34476199, ..., 6.56803122, 6.35736646,\n",
              "       6.41334809])"
            ]
          },
          "metadata": {},
          "execution_count": 60
        }
      ]
    },
    {
      "cell_type": "code",
      "metadata": {
        "colab": {
          "base_uri": "https://localhost:8080/"
        },
        "id": "zwnu5XXieWwP",
        "outputId": "5275b44b-364e-4d03-e624-53d6bc6802e0"
      },
      "source": [
        "#coeficients & intercept\n",
        "\n",
        "est_lr.intercept_, est_lr.coef_"
      ],
      "execution_count": 61,
      "outputs": [
        {
          "output_type": "execute_result",
          "data": {
            "text/plain": [
              "(6.4643878071917475,\n",
              " array([-0.00530276,  0.11235367, -0.0143169 ,  0.00897244,  0.05240373,\n",
              "         0.01512746,  0.00881499,  0.02780677, -0.00696662, -0.0033258 ,\n",
              "         0.00254727, -0.01407368]))"
            ]
          },
          "metadata": {},
          "execution_count": 61
        }
      ]
    },
    {
      "cell_type": "markdown",
      "metadata": {
        "id": "TSR1b-t1e2Wh"
      },
      "source": [
        "Interpreting the coefficients:\n",
        "\n",
        "Here we can see Increase and decrease order at each principal component in trip duration.\n"
      ]
    },
    {
      "cell_type": "code",
      "metadata": {
        "colab": {
          "base_uri": "https://localhost:8080/"
        },
        "id": "UhThA8lne3ke",
        "outputId": "2209ce66-3f01-4c03-9043-98085b696cd8"
      },
      "source": [
        "#examining scores\n",
        "\n",
        "print (\"Training Score : \" , est_lr.score(X_train, y_train))\n",
        "print (\"Validation Score : \", est_lr.score(X_test, y_test))\n",
        "print (\"Cross Validation Score : \" , cross_val_score(est_lr, X_train, y_train, cv=5).mean())\n",
        "print (\"R2_Score : \", r2_score(lr_pred, y_test))\n",
        "\n",
        "#print (\"RMSLE : \", np.sqrt(mean_squared_log_error(lr_pred, y_test)))"
      ],
      "execution_count": 62,
      "outputs": [
        {
          "output_type": "stream",
          "name": "stdout",
          "text": [
            "Training Score :  0.03893292105902613\n",
            "Validation Score :  0.050963262590853375\n",
            "Cross Validation Score :  0.03297851994928587\n",
            "R2_Score :  -34.903769226131345\n"
          ]
        }
      ]
    },
    {
      "cell_type": "code",
      "metadata": {
        "colab": {
          "base_uri": "https://localhost:8080/",
          "height": 517
        },
        "id": "ROwFBWg5e9VL",
        "outputId": "fab3fe8d-1965-4ee1-d9ed-6c5da7c67b52"
      },
      "source": [
        "#prediction vs real data\n",
        "\n",
        "plt.figure(figsize=(15,8))\n",
        "plt.subplot(1,1,1)\n",
        "sns.distplot(y_test, kde=False, color=\"red\", label=\"Test\")\n",
        "\n",
        "plt.subplot(1,1,1)\n",
        "sns.distplot(lr_pred, kde=False, color=\"yellow\", label=\"Prediction\")\n",
        "plt.legend()\n",
        "plt.title(\"Test VS Prediction\")"
      ],
      "execution_count": 63,
      "outputs": [
        {
          "output_type": "execute_result",
          "data": {
            "text/plain": [
              "Text(0.5, 1.0, 'Test VS Prediction')"
            ]
          },
          "metadata": {},
          "execution_count": 63
        },
        {
          "output_type": "display_data",
          "data": {
            "image/png": "[encoded data removed]",
            "text/plain": [
              "<Figure size 1080x576 with 1 Axes>"
            ]
          },
          "metadata": {
            "needs_background": "light"
          }
        }
      ]
    },
    {
      "cell_type": "markdown",
      "metadata": {
        "id": "lKDrUKLqfSzK"
      },
      "source": [
        "From the above Viz. we can clearly identify that the Linear Regression isn't performing good. The Actual Data (in red) and Predicted values (in yellow) are so much differing. We can conclude that Linear Regression doesn't seem like a right choice for Trip duration prediction."
      ]
    },
    {
      "cell_type": "markdown",
      "metadata": {
        "id": "7pPZzJRLgVoo"
      },
      "source": [
        "### Decision Tree:\n",
        "\n",
        "- Decision trees are very intuitive and easy to explain.\n",
        "\n",
        "\n",
        "- They follow the same pattern of thinking that humans use when making decisions.\n",
        "\n",
        "\n",
        "- Decision trees are a common-sense technique to find the best solutions to problems with uncertainty."
      ]
    },
    {
      "cell_type": "code",
      "metadata": {
        "colab": {
          "base_uri": "https://localhost:8080/"
        },
        "id": "cwPTCDnfggzB",
        "outputId": "e8ab30d8-8196-433c-b94e-0debdc368794"
      },
      "source": [
        "#implementation of decision tree\n",
        "\n",
        "from sklearn.tree import DecisionTreeRegressor\n",
        "\n",
        "dt = DecisionTreeRegressor(criterion=\"mse\", max_depth=10)\n",
        "dt.fit(X_train, y_train)\n",
        "dt_pred = dt.predict(X_test)\n",
        "dt_pred"
      ],
      "execution_count": 64,
      "outputs": [
        {
          "output_type": "execute_result",
          "data": {
            "text/plain": [
              "array([6.87055922, 8.21392426, 5.52795429, ..., 4.84334468, 6.74919318,\n",
              "       6.75080428])"
            ]
          },
          "metadata": {},
          "execution_count": 64
        }
      ]
    },
    {
      "cell_type": "code",
      "metadata": {
        "colab": {
          "base_uri": "https://localhost:8080/"
        },
        "id": "G5EOnfU-ghm5",
        "outputId": "4a0e6504-dac5-4a93-e951-acbbb8ebed41"
      },
      "source": [
        "#examining metrics\n",
        "\n",
        "print (\"Training Score : \" , dt.score(X_train, y_train))\n",
        "print (\"Validation Score : \",dt.score(X_test, y_test))\n",
        "print (\"Cross Validation Score : \" , cross_val_score(dt, X_train, y_train, cv=5).mean())\n",
        "print (\"R2_Score : \", r2_score(dt_pred, y_test))\n",
        "print (\"RMSLE : \", np.sqrt(mean_squared_log_error(dt_pred, y_test)))"
      ],
      "execution_count": 66,
      "outputs": [
        {
          "output_type": "stream",
          "name": "stdout",
          "text": [
            "Training Score :  0.923820074172908\n",
            "Validation Score :  0.9151075607478758\n",
            "Cross Validation Score :  0.9159430816115112\n",
            "R2_Score :  0.9078040359602843\n",
            "RMSLE :  0.038730091978007315\n"
          ]
        }
      ]
    },
    {
      "cell_type": "markdown",
      "metadata": {
        "id": "QT-kpyJVhR8_"
      },
      "source": [
        "- Our Goal is to reduce the value of loss function (RMSLE) as much as possible."
      ]
    },
    {
      "cell_type": "code",
      "metadata": {
        "colab": {
          "base_uri": "https://localhost:8080/",
          "height": 517
        },
        "id": "MSMuV8z0hTF_",
        "outputId": "9de03a5e-d92d-4c65-bc40-17ddecb52c43"
      },
      "source": [
        "#prediction vs real data\n",
        "\n",
        "plt.figure(figsize=(15,8))\n",
        "plt.subplot(1,1,1)\n",
        "sns.distplot(y_test, kde=False, color=\"grey\", label=\"Test\")\n",
        "\n",
        "plt.subplot(1,1,1)\n",
        "sns.distplot(dt_pred, kde=False, color=\"green\", label=\"Prediction\")\n",
        "plt.legend()\n",
        "plt.title(\"Test VS Prediction\")"
      ],
      "execution_count": 67,
      "outputs": [
        {
          "output_type": "execute_result",
          "data": {
            "text/plain": [
              "Text(0.5, 1.0, 'Test VS Prediction')"
            ]
          },
          "metadata": {},
          "execution_count": 67
        },
        {
          "output_type": "display_data",
          "data": {
            "image/png": "[encoded data removed]",
            "text/plain": [
              "<Figure size 1080x576 with 1 Axes>"
            ]
          },
          "metadata": {
            "needs_background": "light"
          }
        }
      ]
    },
    {
      "cell_type": "markdown",
      "metadata": {
        "id": "1UaEIOpYhvs_"
      },
      "source": [
        "- From the above Visuals we can clearly infer that the Decision Tree Algorithm is performing good. The Actual Data (in Grey) and Predicted values (in Green) are as close as possible. We can conclude that Decision Tree could be a good choice for Trip duration prediction."
      ]
    },
    {
      "cell_type": "markdown",
      "metadata": {
        "id": "Es3PlMDmR9UN"
      },
      "source": [
        "### Random Forest:\n",
        "- It is one of the most accurate learning algorithms available.\n",
        "\n",
        "\n",
        "- Random Forest consisits of multiple Decision Tress - Results from multiple trees are then merged to give best possible final outcome.\n",
        "\n",
        "\n",
        "- Random forests overcome several problems with decision trees like Reduction in overfitting."
      ]
    },
    {
      "cell_type": "markdown",
      "metadata": {
        "id": "GMvT7hxXRzvM"
      },
      "source": [
        "- Now, Let us also try Random Forest on our Data and see what do we get."
      ]
    },
    {
      "cell_type": "code",
      "metadata": {
        "colab": {
          "base_uri": "https://localhost:8080/"
        },
        "id": "4139-fzpSWUa",
        "outputId": "b442201d-609c-468b-a506-d9d2a4c27898"
      },
      "source": [
        "#Random Forest Implementation\n",
        "from sklearn.ensemble import RandomForestRegressor\n",
        "rf=RandomForestRegressor(criterion='mse',n_estimators=5,max_depth=10) #taking max depth randomly\n",
        "rf.fit(X_train,y_train)\n",
        "rf_pred=rf.predict(X_test)\n",
        "rf_pred"
      ],
      "execution_count": 68,
      "outputs": [
        {
          "output_type": "execute_result",
          "data": {
            "text/plain": [
              "array([6.87056404, 8.16114888, 5.52914508, ..., 4.84381509, 6.71992979,\n",
              "       6.75274705])"
            ]
          },
          "metadata": {},
          "execution_count": 68
        }
      ]
    },
    {
      "cell_type": "code",
      "metadata": {
        "colab": {
          "base_uri": "https://localhost:8080/"
        },
        "id": "kjrD4mUsThKn",
        "outputId": "3d0c86ea-6e0b-4043-f19c-6749039d3280"
      },
      "source": [
        "# examining metrics\n",
        "print('Training_score: ',rf.score(X_train,y_train))\n",
        "print('Validation_score: ',rf.score(X_test,y_test))\n",
        "print('Cross_Validation_score: ',cross_val_score(rf,X_train,y_train,cv=5).mean())\n",
        "print('R2 Score: ',r2_score(rf_pred,y_test))\n",
        "print('RMLSE: ',np.sqrt(mean_squared_log_error(rf_pred,y_test)))"
      ],
      "execution_count": 69,
      "outputs": [
        {
          "output_type": "stream",
          "name": "stdout",
          "text": [
            "Training_score:  0.9305058485841825\n",
            "Validation_score:  0.9233260314272742\n",
            "Cross_Validation_score:  0.9242967495448294\n",
            "R2 Score:  0.9160297835130193\n",
            "RMLSE:  0.036968651715897874\n"
          ]
        }
      ]
    },
    {
      "cell_type": "code",
      "metadata": {
        "colab": {
          "base_uri": "https://localhost:8080/",
          "height": 517
        },
        "id": "wIqXCmO7U8mQ",
        "outputId": "6fea2d2e-cc1e-4430-f196-3a48162a80b1"
      },
      "source": [
        "#prediction vs real data\n",
        "\n",
        "plt.figure(figsize=(15,8))\n",
        "plt.subplot(1,1,1)\n",
        "sns.distplot(y_test, kde=False, color=\"green\", label=\"Test\")\n",
        "\n",
        "plt.subplot(1,1,1)\n",
        "sns.distplot(rf_pred, kde=False, color=\"red\", label=\"Prediction\")\n",
        "plt.legend()\n",
        "plt.title(\"Test VS Prediction\")"
      ],
      "execution_count": 70,
      "outputs": [
        {
          "output_type": "execute_result",
          "data": {
            "text/plain": [
              "Text(0.5, 1.0, 'Test VS Prediction')"
            ]
          },
          "metadata": {},
          "execution_count": 70
        },
        {
          "output_type": "display_data",
          "data": {
            "image/png": "[encoded data removed]",
            "text/plain": [
              "<Figure size 1080x576 with 1 Axes>"
            ]
          },
          "metadata": {
            "needs_background": "light"
          }
        }
      ]
    },
    {
      "cell_type": "markdown",
      "metadata": {
        "id": "Q6YfmTTdXZu1"
      },
      "source": [
        "- From the above Visuals.we can clearly infer that the Random Forest Algorithm is also performing good. The Actual Data (in green) and Predicted values (in red) are as close as possible. We can conclude that Random Forest could be a good choice for Trip duration prediction.\n",
        "\n",
        "\n",
        "- Similarly, we can Hyper tune Random Forest to get the most out of it."
      ]
    },
    {
      "cell_type": "markdown",
      "metadata": {
        "id": "7vogy3w2X7Oc"
      },
      "source": [
        "# R2 Scores Evaluation"
      ]
    },
    {
      "cell_type": "markdown",
      "metadata": {
        "id": "Xm6DjeAgX-iq"
      },
      "source": [
        "- R2 Score or R-Squared is the proportion of the variance in the dependent variable that is predictable from the independent variable(s).\n",
        "\n",
        "\n",
        "- Best possible score is 1.0 and it can be negative (because the model can be arbitrarily worse). A constant model that always predicts the expected value of y, disregarding the input features, would get a R^2 score of 0.0. "
      ]
    },
    {
      "cell_type": "code",
      "metadata": {
        "colab": {
          "base_uri": "https://localhost:8080/",
          "height": 411
        },
        "id": "ZinzE-ouYEfT",
        "outputId": "2257b83d-d1a3-4df0-f5e6-58f2accb9a5a"
      },
      "source": [
        "#r2 score plot for all 3 models\n",
        "\n",
        "plt.figure(figsize=(10,7))\n",
        "r2 = pd.DataFrame({'Scores':np.array([r2_score(lr_pred, y_test), r2_score(dt_pred, y_test), r2_score(rf_pred, y_test)]), 'Model':np.array(['Linear Regression', 'Decison Tree', 'Random Forest'])})\n",
        "r2.set_index('Model').plot(kind=\"bar\", color=\"blue\")\n",
        "plt.axhline(y=0, color='g')\n",
        "plt.title(\"R2 Scores\")"
      ],
      "execution_count": 71,
      "outputs": [
        {
          "output_type": "execute_result",
          "data": {
            "text/plain": [
              "Text(0.5, 1.0, 'R2 Scores')"
            ]
          },
          "metadata": {},
          "execution_count": 71
        },
        {
          "output_type": "display_data",
          "data": {
            "text/plain": [
              "<Figure size 720x504 with 0 Axes>"
            ]
          },
          "metadata": {}
        },
        {
          "output_type": "display_data",
          "data": {
            "image/png": "[encoded data removed]",
            "text/plain": [
              "<Figure size 432x288 with 1 Axes>"
            ]
          },
          "metadata": {
            "needs_background": "light"
          }
        }
      ]
    },
    {
      "cell_type": "markdown",
      "metadata": {
        "id": "QQF212zsYdVz"
      },
      "source": [
        "-our Evaluation Metric isn't R2 Score but just plotting them to check the which one is good fit comparatively\n",
        "\n",
        "\n",
        "- We can say that we are getting good fit score for Decision Tree and Random Forest , i.e, close to 1.0 "
      ]
    },
    {
      "cell_type": "markdown",
      "metadata": {
        "id": "WUbc0o7EY1HF"
      },
      "source": [
        "# RMSLE Evaluation"
      ]
    },
    {
      "cell_type": "markdown",
      "metadata": {
        "id": "adO47g91Y5WT"
      },
      "source": [
        "-  RMSLE is a measure of how spread out these residuals are. In other words, it tells you how concentrated the data is around the line of best fit.\n",
        "\n",
        "\n",
        "- With RMSLE we explicitly know how much our predictions deviate.\n",
        "\n",
        "\n",
        "- Lower values of RMSLE indicate better fit with lesser LOSS.\n",
        "\n",
        "![alt text](https://i.stack.imgur.com/952Ox.png)"
      ]
    },
    {
      "cell_type": "code",
      "metadata": {
        "colab": {
          "base_uri": "https://localhost:8080/",
          "height": 396
        },
        "id": "8a-rcE3GY_AL",
        "outputId": "252f8948-61e3-4b9c-e5c2-85b20fc76877"
      },
      "source": [
        "#RMSLE plot\n",
        "\n",
        "plt.figure(figsize=(10,10))\n",
        "r2 = pd.DataFrame({'RMSLE':np.array([np.sqrt(mean_squared_log_error(dt_pred, y_test)), np.sqrt(mean_squared_log_error(rf_pred, y_test))]), 'Model':np.array(['Decison Tree', 'Random Forest'])})\n",
        "r2.set_index('Model').plot(kind=\"bar\", color=\"lightgreen\", legend=False)\n",
        "plt.title(\"RMSLE - Lesser is Better\")"
      ],
      "execution_count": 72,
      "outputs": [
        {
          "output_type": "execute_result",
          "data": {
            "text/plain": [
              "Text(0.5, 1.0, 'RMSLE - Lesser is Better')"
            ]
          },
          "metadata": {},
          "execution_count": 72
        },
        {
          "output_type": "display_data",
          "data": {
            "text/plain": [
              "<Figure size 720x720 with 0 Axes>"
            ]
          },
          "metadata": {}
        },
        {
          "output_type": "display_data",
          "data": {
            "image/png": "[encoded data removed]",
            "text/plain": [
              "<Figure size 432x288 with 1 Axes>"
            ]
          },
          "metadata": {
            "needs_background": "light"
          }
        }
      ]
    },
    {
      "cell_type": "markdown",
      "metadata": {
        "id": "xxjN_5QUZKSF"
      },
      "source": [
        "- We can see from above Visual. that our Decision Tree model and Random Forest model are good performers. As, Random Forest is providing us reduced RMSLE, we can say that it's a model to go ahead with"
      ]
    },
    {
      "cell_type": "markdown",
      "metadata": {
        "id": "1KH6VdqgaDiq"
      },
      "source": [
        "# The Second Approach - Without PCA\n",
        "- Another approach we could go with is without PCA, just Standard Scaling Dataset and applying our Algorithms.\n",
        "\n",
        "\n",
        "- The approach can give us better idea of what works better for us.\n",
        "\n",
        "\n",
        "- This approach might take great amount of computational resources and time, it will be good if we can run this on Google’s Collaboratory, that will eliminate huge computational stress on our system as the program will be running on Cloud."
      ]
    },
    {
      "cell_type": "code",
      "metadata": {
        "id": "C-4Bq7cBaMEB"
      },
      "source": [
        "X =df # non transformed dataset\n",
        "y = np.log(nyc_taxi_df['trip_duration']).values"
      ],
      "execution_count": 73,
      "outputs": []
    },
    {
      "cell_type": "markdown",
      "metadata": {
        "id": "nDb3ExKVcHap"
      },
      "source": [
        "# Linear Regression"
      ]
    },
    {
      "cell_type": "code",
      "metadata": {
        "colab": {
          "base_uri": "https://localhost:8080/"
        },
        "id": "zJ13hQhraN64",
        "outputId": "d56a586f-4960-438b-a512-021e2d67b68f"
      },
      "source": [
        "#train test split\n",
        "\n",
        "from sklearn.model_selection import train_test_split, GridSearchCV, cross_val_score\n",
        "from sklearn.metrics import r2_score, mean_squared_log_error , mean_squared_error\n",
        "\n",
        "X_train, X_test, y_train, y_test = train_test_split(X, y, test_size=0.30, random_state=10)\n",
        "X_train.shape, X_test.shape, y_train.shape, y_test.shape"
      ],
      "execution_count": 74,
      "outputs": [
        {
          "output_type": "execute_result",
          "data": {
            "text/plain": [
              "((1021002, 13), (437573, 13), (1021002,), (437573,))"
            ]
          },
          "metadata": {},
          "execution_count": 74
        }
      ]
    },
    {
      "cell_type": "code",
      "metadata": {
        "colab": {
          "base_uri": "https://localhost:8080/"
        },
        "id": "YZVZ0GZRapdC",
        "outputId": "c7a2cfc3-dc4d-4411-d0ad-286bfafb6410"
      },
      "source": [
        "#implenting linear regression\n",
        "\n",
        "from sklearn.linear_model import LinearRegression\n",
        "\n",
        "lr = LinearRegression()\n",
        "lr.fit(X_train, y_train)\n",
        "lr_pred =lr.predict(X_test)\n",
        "lr_pred"
      ],
      "execution_count": 75,
      "outputs": [
        {
          "output_type": "execute_result",
          "data": {
            "text/plain": [
              "array([6.55449524, 6.60899875, 6.34425533, ..., 6.56416281, 6.37701051,\n",
              "       6.40834759])"
            ]
          },
          "metadata": {},
          "execution_count": 75
        }
      ]
    },
    {
      "cell_type": "code",
      "metadata": {
        "colab": {
          "base_uri": "https://localhost:8080/"
        },
        "id": "Uroe4u6xbGaR",
        "outputId": "d8bdc5af-bdf7-49b8-df2f-8c3b59f886d5"
      },
      "source": [
        "#Intercept & Coef\n",
        "\n",
        "lr.intercept_, lr.coef_"
      ],
      "execution_count": 76,
      "outputs": [
        {
          "output_type": "execute_result",
          "data": {
            "text/plain": [
              "(6.4643854275465165,\n",
              " array([ 0.013816  ,  0.01269766,  0.08600745, -0.07741764, -0.01062327,\n",
              "        -0.06288448,  0.01124126,  0.00838041,  0.0368983 , -0.0223278 ,\n",
              "         0.02943184, -0.00638958, -0.00100337]))"
            ]
          },
          "metadata": {},
          "execution_count": 76
        }
      ]
    },
    {
      "cell_type": "code",
      "metadata": {
        "colab": {
          "base_uri": "https://localhost:8080/"
        },
        "id": "-dPRFBRKbQZA",
        "outputId": "7f39edd1-bbe2-432c-d021-3b52d4da866b"
      },
      "source": [
        "#Examining metrics\n",
        "\n",
        "print (\"Training Score : \" , lr.score(X_train, y_train))\n",
        "print (\"Validation Score : \", lr.score(X_test, y_test))\n",
        "print (\"Cross Validation Score : \" , cross_val_score(lr, X_train, y_train, cv=5).mean())\n",
        "print (\"R2_Score : \", r2_score(lr_pred, y_test))\n",
        "\n",
        "#print (\"RMSLE : \", np.sqrt(mean_squared_log_error(lr_pred, y_test)))"
      ],
      "execution_count": 77,
      "outputs": [
        {
          "output_type": "stream",
          "name": "stdout",
          "text": [
            "Training Score :  0.040167029804918264\n",
            "Validation Score :  0.05171624772986472\n",
            "Cross Validation Score :  0.034266699715694474\n",
            "R2_Score :  -32.901480168537915\n"
          ]
        }
      ]
    },
    {
      "cell_type": "code",
      "metadata": {
        "colab": {
          "base_uri": "https://localhost:8080/",
          "height": 517
        },
        "id": "-yPdGdBibYwj",
        "outputId": "a2f69685-c7e8-4996-f2e8-aa4895766678"
      },
      "source": [
        "#prediction vs validation data\n",
        "\n",
        "plt.figure(figsize=(15,8))\n",
        "plt.subplot(1,1,1)\n",
        "sns.distplot(y_test, kde=False, color=\"grey\", label=\"Test\")\n",
        "\n",
        "plt.subplot(1,1,1)\n",
        "sns.distplot(lr_pred, kde=False, color=\"green\", label=\"Prediction\")\n",
        "plt.legend()\n",
        "plt.title(\"Test VS Prediction\")"
      ],
      "execution_count": 78,
      "outputs": [
        {
          "output_type": "execute_result",
          "data": {
            "text/plain": [
              "Text(0.5, 1.0, 'Test VS Prediction')"
            ]
          },
          "metadata": {},
          "execution_count": 78
        },
        {
          "output_type": "display_data",
          "data": {
            "image/png": "[encoded data removed]",
            "text/plain": [
              "<Figure size 1080x576 with 1 Axes>"
            ]
          },
          "metadata": {
            "needs_background": "light"
          }
        }
      ]
    },
    {
      "cell_type": "markdown",
      "metadata": {
        "id": "RO18-Yl5bnRA"
      },
      "source": [
        "- Observations shows us that Linear Regression isn't performing well even."
      ]
    },
    {
      "cell_type": "markdown",
      "metadata": {
        "id": "sQo_hpvZcNPO"
      },
      "source": [
        "# Decision Tree"
      ]
    },
    {
      "cell_type": "code",
      "metadata": {
        "colab": {
          "base_uri": "https://localhost:8080/"
        },
        "id": "Otq_cmwZcS3e",
        "outputId": "498841c9-dc95-42f6-cc96-89eedacac891"
      },
      "source": [
        "#Decision tree implementation\n",
        "\n",
        "from sklearn.tree import DecisionTreeRegressor\n",
        "\n",
        "\n",
        "dt = DecisionTreeRegressor(criterion=\"mse\", max_depth=10)\n",
        "dt.fit(X_train, y_train)\n",
        "dt_pred = dt.predict(X_test)\n",
        "dt_pred"
      ],
      "execution_count": 79,
      "outputs": [
        {
          "output_type": "execute_result",
          "data": {
            "text/plain": [
              "array([7.02150018, 7.96412765, 6.1071114 , ..., 6.15283724, 6.05144929,\n",
              "       6.05144929])"
            ]
          },
          "metadata": {},
          "execution_count": 79
        }
      ]
    },
    {
      "cell_type": "code",
      "metadata": {
        "colab": {
          "base_uri": "https://localhost:8080/"
        },
        "id": "2k2RQCzbcZGQ",
        "outputId": "561c424e-ff2c-4489-f77f-efddee63718f"
      },
      "source": [
        "#Examining metrics\n",
        "\n",
        "print (\"Training Score : \" , dt.score(X_train, y_train))\n",
        "print (\"Validation Score : \", dt.score(X_test, y_test))\n",
        "print (\"Cross Validation Score : \" , cross_val_score(dt, X_train, y_train, cv=5).mean())\n",
        "print (\"R2_Score : \", r2_score(dt_pred, y_test))\n",
        "print (\"RMSLE : \", np.sqrt(mean_squared_log_error(dt_pred, y_test)))"
      ],
      "execution_count": 81,
      "outputs": [
        {
          "output_type": "stream",
          "name": "stdout",
          "text": [
            "Training Score :  0.4649553879247639\n",
            "Validation Score :  0.4557318375809658\n",
            "Cross Validation Score :  0.45513024930190804\n",
            "R2_Score :  -0.17733387610790707\n",
            "RMSLE :  0.08859115773473106\n"
          ]
        }
      ]
    },
    {
      "cell_type": "markdown",
      "metadata": {
        "id": "mqJBe3ZVcplY"
      },
      "source": [
        "- This time our decision tree model is not trained well as we can identify from scores, training score and cross validation score is close to 0.46 compared to last model where it was around 0.91."
      ]
    },
    {
      "cell_type": "code",
      "metadata": {
        "colab": {
          "base_uri": "https://localhost:8080/",
          "height": 517
        },
        "id": "REmexqjsc2aD",
        "outputId": "dcb0bd4b-660c-4e8a-d268-c4f711466ecd"
      },
      "source": [
        "#prediction vs reality check\n",
        "\n",
        "plt.figure(figsize=(15,8))\n",
        "plt.subplot(1,1,1)\n",
        "sns.distplot(y_test, kde=False, color=\"red\", label=\"Test\")\n",
        "\n",
        "plt.subplot(1,1,1)\n",
        "sns.distplot(dt_pred, kde=False, color=\"green\", label=\"Prediction\")\n",
        "plt.legend()\n",
        "plt.title(\"Test VS Prediction\")"
      ],
      "execution_count": 82,
      "outputs": [
        {
          "output_type": "execute_result",
          "data": {
            "text/plain": [
              "Text(0.5, 1.0, 'Test VS Prediction')"
            ]
          },
          "metadata": {},
          "execution_count": 82
        },
        {
          "output_type": "display_data",
          "data": {
            "image/png": "[encoded data removed]",
            "text/plain": [
              "<Figure size 1080x576 with 1 Axes>"
            ]
          },
          "metadata": {
            "needs_background": "light"
          }
        }
      ]
    },
    {
      "cell_type": "markdown",
      "metadata": {
        "id": "-bsMuotIc9bW"
      },
      "source": [
        "- This model gave us loss of 0.0885, we can say it is good but not the acceptable, knowing the fact that we got RMSLE of 0.038 in previous approach where we applied PCA.\n",
        "- From the above Visuals.we can clearly infer that decision tree Algorithm is  not performing good without hyper tunning.\n"
      ]
    },
    {
      "cell_type": "markdown",
      "metadata": {
        "id": "LHWh904qd4x4"
      },
      "source": [
        "#Decision Tree with Hyperparameter tuning\n"
      ]
    },
    {
      "cell_type": "code",
      "metadata": {
        "colab": {
          "base_uri": "https://localhost:8080/"
        },
        "id": "ehmX8Fq8d8z6",
        "outputId": "abc20ed8-3a23-4363-c91f-287b0e65df6e"
      },
      "source": [
        "params = {'max_depth':[10,11,12,None], \"min_samples_split\":[2,3,4,5], 'max_features':[2,5,7,10]} # parameters defining\n",
        "\n",
        "grid = GridSearchCV(dt, params, cv=5)\n",
        "grid.fit(X_train, y_train)\n",
        "grid_pred = grid.predict(X_test)\n",
        "print (grid_pred)\n",
        "grid.best_params_"
      ],
      "execution_count": 86,
      "outputs": [
        {
          "output_type": "stream",
          "name": "stdout",
          "text": [
            "[7.04074857 7.96552798 6.08458989 ... 6.37112769 5.9966804  6.09577482]\n"
          ]
        },
        {
          "output_type": "execute_result",
          "data": {
            "text/plain": [
              "{'max_depth': 12, 'max_features': 10, 'min_samples_split': 5}"
            ]
          },
          "metadata": {},
          "execution_count": 86
        }
      ]
    },
    {
      "cell_type": "code",
      "metadata": {
        "id": "1T3SpepMeKo1"
      },
      "source": [
        "#Examining metrics\n",
        "print (\"Training Score : \" , grid.score(X_train, y_train))\n",
        "print (\"Validation Score : \", grid.score(X_test, y_test))\n",
        "print (\"R2_Score after parameter tuning : \", r2_score(grid_pred, y_test))\n",
        "print (\"RMSLE after parameter tuning : \", np.sqrt(mean_squared_log_error(grid_pred, y_test)))"
      ],
      "execution_count": null,
      "outputs": []
    },
    {
      "cell_type": "markdown",
      "metadata": {
        "id": "LQNNK8AHlGep"
      },
      "source": [
        "- This model gave us loss of 0.0868 as compare to Decision Tree model (without hyperparameter tunning) gave 0.0886 there is only a slight difference."
      ]
    },
    {
      "cell_type": "code",
      "metadata": {
        "colab": {
          "base_uri": "https://localhost:8080/",
          "height": 517
        },
        "id": "aRroJuaJl0_q",
        "outputId": "f58c48cc-aed5-4ee4-e1f5-e86645bdf160"
      },
      "source": [
        "#prediction vs reality check\n",
        "\n",
        "plt.figure(figsize=(15,8))\n",
        "plt.subplot(1,1,1)\n",
        "sns.distplot(y_test, kde=False, color=\"black\", label=\"Test\")\n",
        "\n",
        "plt.subplot(1,1,1)\n",
        "sns.distplot(grid_pred, kde=False, color=\"cyan\", label=\"Prediction\")\n",
        "plt.legend()\n",
        "plt.title(\"Test VS Prediction\")"
      ],
      "execution_count": 87,
      "outputs": [
        {
          "output_type": "execute_result",
          "data": {
            "text/plain": [
              "Text(0.5, 1.0, 'Test VS Prediction')"
            ]
          },
          "metadata": {},
          "execution_count": 87
        },
        {
          "output_type": "display_data",
          "data": {
            "image/png": "[encoded data removed]",
            "text/plain": [
              "<Figure size 1080x576 with 1 Axes>"
            ]
          },
          "metadata": {
            "needs_background": "light"
          }
        }
      ]
    },
    {
      "cell_type": "markdown",
      "source": [
        "# Random Forest"
      ],
      "metadata": {
        "id": "dwjIU36qU3WE"
      }
    },
    {
      "cell_type": "code",
      "metadata": {
        "id": "8zcqZ8vTl2VA",
        "colab": {
          "base_uri": "https://localhost:8080/"
        },
        "outputId": "dd3a68b8-a4bf-49a3-d560-c496032d21b1"
      },
      "source": [
        "#implementation of forest algorithm\n",
        "\n",
        "from sklearn.ensemble import RandomForestRegressor\n",
        "rf = RandomForestRegressor(criterion=\"mse\", n_estimators=5, max_depth=10)\n",
        "rf.fit(X_train, y_train)\n",
        "rf_pred =rf.predict(X_test)\n",
        "rf_pred"
      ],
      "execution_count": 88,
      "outputs": [
        {
          "output_type": "execute_result",
          "data": {
            "text/plain": [
              "array([7.0158078 , 8.07717641, 6.12222416, ..., 6.18534441, 6.4118914 ,\n",
              "       5.94155308])"
            ]
          },
          "metadata": {},
          "execution_count": 88
        }
      ]
    },
    {
      "cell_type": "code",
      "source": [
        "#examining metrics\n",
        "\n",
        "print (\"Training Score : \" , rf.score(X_train, y_train))\n",
        "print (\"Validation Score : \", rf.score(X_test, y_test))\n",
        "print (\"Cross Validation Score : \" , cross_val_score(rf, X_train, y_train, cv=5).mean())\n",
        "print (\"R2_Score : \", r2_score(rf_pred, y_test))\n",
        "print (\"RMSLE : \", np.sqrt(mean_squared_log_error(rf_pred, y_test)))"
      ],
      "metadata": {
        "colab": {
          "base_uri": "https://localhost:8080/"
        },
        "id": "0QneMR60VChw",
        "outputId": "45a26c05-7dbe-4e8b-e514-55a5cf62698d"
      },
      "execution_count": 89,
      "outputs": [
        {
          "output_type": "stream",
          "name": "stdout",
          "text": [
            "Training Score :  0.4784564973511546\n",
            "Validation Score :  0.47007868483451765\n",
            "Cross Validation Score :  0.46983513999031734\n",
            "R2_Score :  -0.21775656082155948\n",
            "RMSLE :  0.08764842957089379\n"
          ]
        }
      ]
    },
    {
      "cell_type": "code",
      "source": [
        "#prediction vs reality check\n",
        "\n",
        "plt.figure(figsize=(15,8))\n",
        "plt.subplot(1,1,1)\n",
        "sns.distplot(y_test, kde=False, color=\"grey\", label=\"Test\")\n",
        "\n",
        "plt.subplot(1,1,1)\n",
        "sns.distplot(rf_pred, kde=False, color=\"green\", label=\"Prediction\")\n",
        "plt.legend()\n",
        "plt.title(\"Test VS Prediction\")"
      ],
      "metadata": {
        "id": "iaAe54OKVOnn"
      },
      "execution_count": null,
      "outputs": []
    },
    {
      "cell_type": "markdown",
      "source": [
        "- Again the loss value we got here is 0.0876 is good when tried to match with Decision Tree's RMSLE ,i.e, 0.0885."
      ],
      "metadata": {
        "id": "oG2JzSpPVVvz"
      }
    },
    {
      "cell_type": "code",
      "source": [
        "#r2 score plot for all 3 models\n",
        "\n",
        "plt.figure(figsize=(10,9))\n",
        "r2 = pd.DataFrame({'Scores':np.array([r2_score(lr_pred, y_test), r2_score(dt_pred, y_test), r2_score(rf_pred, y_test),r2_score(grid_pred, y_test)]), 'Model':np.array(['Linear Regression', 'Decison Tree', 'Random Forest','Decison Tree GS'])})\n",
        "r2.set_index('Model').plot(kind=\"bar\", color=\"orange\")\n",
        "plt.axhline(y=0, color='g')\n",
        "plt.title(\"R2 Scores\")"
      ],
      "metadata": {
        "colab": {
          "base_uri": "https://localhost:8080/",
          "height": 411
        },
        "id": "3r3XmrT1VbKt",
        "outputId": "73486791-eefb-4fa8-a5f2-fde165c7bf00"
      },
      "execution_count": 90,
      "outputs": [
        {
          "output_type": "execute_result",
          "data": {
            "text/plain": [
              "Text(0.5, 1.0, 'R2 Scores')"
            ]
          },
          "metadata": {},
          "execution_count": 90
        },
        {
          "output_type": "display_data",
          "data": {
            "text/plain": [
              "<Figure size 720x648 with 0 Axes>"
            ]
          },
          "metadata": {}
        },
        {
          "output_type": "display_data",
          "data": {
            "image/png": "[encoded data removed]",
            "text/plain": [
              "<Figure size 432x288 with 1 Axes>"
            ]
          },
          "metadata": {
            "needs_background": "light"
          }
        }
      ]
    },
    {
      "cell_type": "code",
      "source": [
        "#RMSLE plot\n",
        "\n",
        "plt.figure(figsize=(8,7))\n",
        "r2 = pd.DataFrame({'RMSLE':np.array([np.sqrt(mean_squared_log_error(dt_pred, y_test)), np.sqrt(mean_squared_log_error(rf_pred, y_test)),np.sqrt(mean_squared_log_error(grid_pred, y_test))]), 'Model':np.array(['Decison Tree', 'Random Forest','Decision Tree GS'])})\n",
        "r2.set_index('Model').plot(kind=\"bar\", color=\"skyblue\", legend=False)\n",
        "plt.title(\"RMSLE - Lesser is Better\")"
      ],
      "metadata": {
        "colab": {
          "base_uri": "https://localhost:8080/",
          "height": 405
        },
        "id": "Vot1Tt-OViD1",
        "outputId": "18a9ae75-d370-487b-f77a-8c910c90a8c4"
      },
      "execution_count": 91,
      "outputs": [
        {
          "output_type": "execute_result",
          "data": {
            "text/plain": [
              "Text(0.5, 1.0, 'RMSLE - Lesser is Better')"
            ]
          },
          "metadata": {},
          "execution_count": 91
        },
        {
          "output_type": "display_data",
          "data": {
            "text/plain": [
              "<Figure size 576x504 with 0 Axes>"
            ]
          },
          "metadata": {}
        },
        {
          "output_type": "display_data",
          "data": {
            "image/png": "[encoded data removed]",
            "text/plain": [
              "<Figure size 432x288 with 1 Axes>"
            ]
          },
          "metadata": {
            "needs_background": "light"
          }
        }
      ]
    },
    {
      "cell_type": "markdown",
      "source": [
        "# What's better - Decision Tree or Random Forest ?\n",
        "\n",
        "- One problem that might occur with Decision Tree is that it can overfit.\n",
        "\n",
        "\n",
        "- Difference is - A random forest is a collection of decision trees.\n",
        "\n",
        "\n",
        "- A decision tree model considers all the features which makes it memorize everything, it gets overfitted on training data which couldn't predict well on unseen data.\n",
        "\n",
        "\n",
        "- A random forest chooses few number of rows at random and interprets results from all the Tress and combines it to get more accurate and stable final result."
      ],
      "metadata": {
        "id": "kSF5Fqd_VoDg"
      }
    },
    {
      "cell_type": "markdown",
      "source": [
        "# Insights:\n",
        "\n",
        "- Observed which taxi service provider is most Frequently used by New Yorkers.\n",
        "\n",
        "\n",
        "- Found out few trips which were of duration 528 Hours to 972 Hours, possibly Outliers.\n",
        "\n",
        "\n",
        "- Passenger count Analysis showed us that there were few trips with Zero Passengers and One trip with 7,8 and 9 passengers.\n",
        "\n",
        "\n",
        "- Monthly trip analysis gives us a insight of Month – March and April marking the highest number of Trips while January marking lowest, possibly due to Snowfall."
      ],
      "metadata": {
        "id": "oLDyD2AmVwfy"
      }
    },
    {
      "cell_type": "markdown",
      "source": [
        "# Recommended Approach:\n",
        "\n",
        "- Apply Standard Scaling on the Dataset to Normalize the values.\n",
        "\n",
        "\n",
        "- Further, Apply PCA to reduce dimensions, as you’ll extract features from our primary DateTime Feature. Those additional features might lead our model to suffer from **“Curse of dimensionality”** and could drastically affect performance.\n",
        "\n",
        "\n",
        "- Pass the PCA Transformed data in our ML Regression Algorithms and Evaluate results.\n",
        "\n",
        "# Also we can try this Approach\n",
        "\n",
        "- Also when we can use IQR finding and removing outlier technique and then apply hyperparameter technique it will give us best result.\n",
        "\n",
        "\n",
        "- We can perform hyper tuning on our Algorithm to get the most out of it but Hyper Tuning consume lot of time and resources of the system depending upon the how big the Data we have and what algorithm we're using. It will go through number of Iterations and try to come up with the best possible value for us. "
      ],
      "metadata": {
        "id": "RE3oPBp_V6D5"
      }
    },
    {
      "cell_type": "code",
      "source": [
        ""
      ],
      "metadata": {
        "id": "q8UWWDgRzZ4n"
      },
      "execution_count": null,
      "outputs": []
    }
  ]
}