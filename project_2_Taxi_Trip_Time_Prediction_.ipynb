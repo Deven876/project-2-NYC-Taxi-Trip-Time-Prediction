{
  "nbformat": 4,
  "nbformat_minor": 0,
  "metadata": {
    "colab": {
      "name": "project 2: Taxi Trip Time Prediction .ipynb",
      "provenance": [],
      "collapsed_sections": [],
      "mount_file_id": "1wJIb1BYGzKDGRZ1F0Lkv0uN7huN13Yot",
      "authorship_tag": "ABX9TyM5R4scuFofY6f2rxv0fpnr",
      "include_colab_link": true
    },
    "kernelspec": {
      "name": "python3",
      "display_name": "Python 3"
    },
    "language_info": {
      "name": "python"
    }
  },
  "cells": [
    {
      "cell_type": "markdown",
      "metadata": {
        "id": "view-in-github",
        "colab_type": "text"
      },
      "source": [
        "<a href=\"https://colab.research.google.com/github/Deven876/project-2-NYC-Taxi-Trip-Time-Prediction/blob/main/project_2_Taxi_Trip_Time_Prediction_.ipynb\" target=\"_parent\"><img src=\"https://colab.research.google.com/assets/colab-badge.svg\" alt=\"Open In Colab\"/></a>"
      ]
    },
    {
      "cell_type": "markdown",
      "metadata": {
        "id": "-s8mUwjJR_y6"
      },
      "source": [
        "![ttp.jpg](data:image/jpeg;base64,/9j/4AAQSkZJRgABAQAAAQABAAD/2wCEAAkGBxMTEBUTExMVFhUWFRgVFRYXFxgaFxgXGBUYGBcXGBUYHSggGBolHRcVITEiJSkrLi4uFx8zODMtNygtLisBCgoKDg0OGxAQGy8lHyUtLS0rLS0uLS81LS0yLS0tLy0tLS8vLS0uLS0tLS0tLS0tLS0tLS0vLS4tLS0tLS0tLf/AABEIAKMBNAMBIgACEQEDEQH/xAAcAAABBAMBAAAAAAAAAAAAAAAAAwQGBwECBQj/xABREAABAwICBQgDCQwJAwUAAAABAAIDBBESIQUGMUFRBxMiYXGBkaEUMrFCUmKSk8HR4fAVFyMzNFNUcoKDstIWJCVDdKKzwuJEc9M1VWOj8f/EABsBAQACAwEBAAAAAAAAAAAAAAADBAECBQYH/8QAPhEAAQMBBAUKAwYFBQAAAAAAAQACAxEEEiExBRNBUXEiMmGBkaGxwdHhBhRSM0JykrLwFSNDYtIWosLi8f/aAAwDAQACEQMRAD8AvFCEIiEIQiIQhaOeiLYlaY9wSRN0q0YRmiLcpIsdxSTpDfajnjxRFsQ8cUc64bfYsCoPALYVQ4IiUikuENlBWQ4Wvu2pE1TeBRE5QmzKm5AsiolLbWtZETlC5xqHcU6p5MTesfa6Il0Jg6d4Nr+QTimkxDPbdES6E1dWDgtfSXHYERPEJlikPHwsthG//wDSiJyTZYEgva60qR0b8E2Y6xuiJ5JJZasluVioGV0gCiJzI8hYEqH5tv3pEIicB4K3TYLdr0RLIWAVlEQhCERCEIREIQhEQhCERU9r9r9Uekvp6V/NMicWOe22N7h61ifVaDllnkon/S+v/S5vjphrfNgqqp1r2qJcu2VwUe+6/wADz+pEUrl10rW+tWzC/wAMpP8Ap5V/p0vxyox91/gef1I+7HwPP6kRS9mt9ebWq5s9nTO9Ku1t0gx1jVS3G4uDh4G4Khf3X+B5/Ut4tKYnAYNp4/UiK/OT7XA1odFI0CdjcRLdj23ALgNxBIuOsd0y5p3BUrySyhukrm34iTabe6jV0+nDi3xREcy7gsGB3BZ9N/V8Vn0s9SIlpWHDYdQTX0d3DzC29MPV9u9Hph6vt3pRFr6O/h5hOZmFzOv51wdL62wU2U0jWnI4QHOdne2QvwPgmejdf6WeQRxydNxs0GN4v3kW8VrfbWlcVtcdStFIPRXcPNK08Lmu6t+aVp5CW3PWmnpjurwWy1S9TASbjvW1LEW3vbNNfTXdXgt4KtxcAbWJRE4kkY057exa+mN3ApOuYbggbk3EbuB8CiJ0a3q81g1TupICJ3vT4LYQu4FETuI4meITROaVpF7hIzCziiJzHmzyTYJWkdtHetJG2cUROITcWWbN6lFtZtaPRcMcbecnk9Vmdhc2DnAZm5uABtzXM9G0078IZYmE5810PD1SPF3etS6mCvQ2Bz2CRz2sByvGleAoTTpyU86PUs4wofq5rM98ppqlnNzjZuD7C5FiTnvyJBGxSoLINVXtFnkgfckGOe8EHIg7QUtjC3TcJWMrKhW6EIREIQhEQhCERCEIRF5d15/KKr/ESf6xUQUv15/KKr/ESf6xUQRFjEOKMY4hWNHp/RbQykAl9EhtUxSmP8O6qDiebkysYek7cNgzWx1xongvfFaStAir2tj6EMQa5gdS/Dsb54s9yIq3BTqlbYjtHtUv07pfR9TTGMCRrqUc1QlrLc7F0AXVJt6/R3W7M1E4fWHaPaiKfahflv7p/tarHVcahflv7p/tarHkcACSbAAkngOK5Vt+16gq0vOXDk0xPGTztI7Df1o3B+XHD9JC6OjtIxTtvG4G20bHDtaVw6Zsxzpq0TWzLJLEnv2jySeDn3OfG3mKyLNzdz+33wPHrF8lAWhaUCllkXTHQ2kRPEH2s71Xt964bR9uKfKOlFqqx0tSTVVbPzTC8tdY5gWa12AesRwTR2r9UGuc6B7WsBc4usAA3Mnbn3XVm6M0QyOaeUE3mLcTdwsNx25kkpy6nDmtjc+5As7IXddpacvc3vfJbFy9LZ2h0TSNwUu0VSiGkjjBJDIw0E7TltPWU2uulWZRW7B9vBctd7LBchbXWWuUX01rBNHX09LFEHMkAfNJmcDMRbsGQ3Zk79ik4CxUFZoQuvJNZuK19nmkPTvg+aUpc4wCOpYvF8HwWVhaenfB8/qR6YeHmt/wXUs2j6kRax1JJAsEVjcwe5bgR9Xit3OadpHiiJrC6zgl6luw9yzgZ1eK3cWnaR4oirzRAD9PVDn5ujjIjB3WEbbj9knxKsUuyuq95QKB9PMzSEBsW2Eu033BzhvBHRPYEnHynt5uzqc47WycMF+8XA8VoCBgV25rFNbGRzQC8LrWkVGBbhTEjA5jinWvuFtXRSN/G84B1loe3CD3lw/aKnXOBVvqqyWurPTJhZkWUbR6odta1t9uG+K/G3FWEEbjUqDSTdU2KzE1cwG9TYSSadQS/OBZxhIhZC3XLSwKytGFboiEIQiIQhCIhCSnmDGlx2BMqbSrXesMPDO/jwWjpGtNCVu2NzhUDBeb9efyiq/xEn+sUy1N1Tk0hI9rHtjbG1pe5wLvWJDQGgi/qu37k916FqiquLf1h5z4GUkHsIzUg5EWgurAcwWwgjqvMqelbS+z2N8seYpTrcBw27cFmJoc8NKPvOv/AExvyJ/8iPvPP/TG/In/AMimBwwx1Jib+FdOaeLDbFd7WWDcRt0ek+3wSm8tS9tO2KPGKqGcMpmPcC54IJZzlnHFFzRdiJJ/Fk+sAvIDTGkDlLhWnNZ2nA0GIx9Fc1Me5Rn70MgGVYzvhI8+cUCrKJ8FQ6GQWfG/C6xuLgjMHgRYjtV46CkaZYMD3uHospcZD+EMgniEmMbA8PxAjcbhVJrx/wCrVP8A3W/6bF19B6RtVonfHM6oDajkgEYjcBvUM8TGtq3epDqCL1th+af7Wqy5ISNo2qveTIf2h+5k/iYrU0oAI/BdW1sq8noCrPgaYzITj6KH6V0BG5pfE0RSt6THM6OY3EDLNcyarxMpa3Y8PEUtt7SS11/A2/WUuXIfoGP0cQBzg0Px3yJvixfUqodvVIFIUA5uvnjHqyMbMB8K9neJJXeTE6P/AK1z+L+65vDb4V73TqofZpRjDI9rG5mg8lo9wa0uOQCbVmkObzDcQBF+rs4paPWCNjmOaOcxG1sxYbzc7+pc88Fo2JoAAAsMx1L0zdFWZpacajpz4+1FzI9MWqNjmNIo7oy4dWGIKn8GsFO/a7CeBHz7PNPTWxgX3dirmKFzr4Wl1hc2227Np7lIYaeQNayxsBfqUNtDYALgJJ2eq62i5pLVe1lABt359uWwpOtBmrjI2M4eYEYflYWe5xDs73Nxaw3KUitaABY+S5kEIaLeKWsqsUZbync45rpSyA8lvNGS6UE4dfK1lqaVn2KT0c3ae5ay0zi4nLMqZQpX0eP7FbNp2bvaU29Edw804pIy24KIs83H1eP1owR9XikXwOubDK/Uscw7h7EROLM6lnodSb8y7gs80eCItqiGN7XMe1rmuBa4EZEHaCq1quTx/pgZGf6u7pYz6zRfNp987PLjv2FWNKcIu7IcSk2V8QPrNUUkkYwc4DrAV+xWy0Wa8YdueFR0HiPYreg0cyCNscQAY0WA9pJ3knMlOubK1ZOHNuxwIva6yJCpGkEVCpOLi4l2e2ua2DCshixiKziKytVnCt1piWwKIsoQhEQhCERMtKQY4yAc7gjr6lwozuO0ZEJ3puQ861p9UAEcLm+abFq507g55oMsF0oGlsYrtxXN07q7T1rObnjDuDhk9u/Jwz27tiriXQ9ZoOfnKcCphnIjwYXYyQHObcNBzAx9IZbbgK3InEbrqsuU7XRgkNGI5CMJExzjeMQ6PNuc03O03sQRldRuaZI3R3bwI5p27d4pj0jiM1pKAOUcOlMRyr1H6CLdLPFJbo5P9x7m4vwuLpX76VQSWiiu4ENLbyXDibBpGG4JOwbSotLrc58MsZhaBN6Qb4s2GdwOIdHOwBBHuiQcrLUaytbUOnbE68lRDUOaZQelFI5+FpEYsDitne1t65w0Uy6SbIK40/mYVwpjeGFD2jZUKLXH6+5SyHlPqXepQl3Rx9HnT0Tezsmerkc9mR4Kvq+vdUVLpn2xSPDjbZuAA7gF15tasbXh8Wb4Y43Fr2DpRule54a+NwGIynIbLZHhHYvWb2j2ro6OsbIHOcIQwmgwdeqPzHwHXsikkLgATVWTyZH+0P3Mn8TFa9XCZG2ZtGZvkql5NT/aA/7MntYrn0SAXG/D51ZlaHS3TtUl0GArhv0dKPcHusfYkHwuG1rh2gqbGAda0NN1rBsLdhKoakb1CUlVRlwsDbPd9upTaSjvtDT9utcjTVDhjxNYBY5kDd3dy0+XfB/NY7EY5eWK2jsrZHhj+acDsURlgc0gnfiA7sKwn2l5G4YQOEgd29D6EwuvSWWR0kLXuzI2cSvM6QhbBaXxMyBpjwC6+rGdQBxDh5D6FL/QncQoJoaow1UVjmTbxuD7VOvSHcfIKraxywehdbRLqwkbnHwBW3oR4hZ9CPHySfPu4rHOu4lVV1E7jZgYe8pv6U7q8E7cBhsexJGkG4lESQqndSyKl3UsmlO4hcvTOlYaRmOeRrBuF7ud1NaMysEgZ/v3RdQVR6lh1Zbbkqd1j5S5pLspRzLPfmxkPZuZ5nsUUfrDVu/6mb47h7CsmKdwqwAfir4AHsJB3gKPXxg41PCnn5YdK9EP0q0b/IrX7rt615wl03Ub55ieHOv+lJGvl2umk+MbDszUHydvP9Rg4McfF62+ag+k9o9Ff+mKsykBos0bjtPX9utc3mXcPNULNpCRx9d1u0+eaX0UKmaVsULnlzjkA5wA4uJvkBxXItfwzJM500toG8ksoAAPx4ABW4tLNYAxsZ6MfZX9o6ofE45AtIzF/A9q6f3Z4t8/qVW6S0p9zqcU7ZnS1Duk973FwZce5DibdQ7z1wiorJJDd8j334uJ9pUWitH298VYp7sVTd5AJcN4acQDsqeqlK7Wy1wtfymVdtoaU6CRt6ivRsem472OXeCncNdG7Y7xy9q8tvG4AX9nWnUOmp4Lc1M9p4BxI7wcj3hd4WK2MH2rXcWXe9rj+k8FQ+biObCOBr3UHivUoC2AVF6s8q0sZDaht2+/YP4o/nbbsVwaE0xFVRCSJwcOo3+3tCwJXNfclbdccsag/hcM8MaEB1PuqajXC8w1HeOI88l1UIQplqhCEIi4+m5GZMLbu2g3tYfbcuYwEbc/aujpikdi5xovlZw3i29MGPB2Lmz11hr1LpwU1Yp18UtFM0ZEgHgdqoblX0hHPpI82Q4Rxtje4ZguDnOIvvtiA7bjcrxqKOOZpjkY17Dta9oc09xyVea/cntLFSy1NODE6MYywEmNwBGIYTm022WIHUt4HAGp4KKdpIoOK4rKzRADKXGTDDapbVmF/PTTBxPosjOaxc1Z23Z0QFsdPaMeC90bGPrQIqmNsTsNCwNc3nYCIrPebh3Rvnbgq9Qr6oqZaeqdGzUxZG/m5KUc1TFsTgaxvQBlnPNjA7onaQczxUQh9Ydo9q0W8PrDtHtRFYnJyf6+P+0/+JiuCkkwuueCp7k7/Lv3T/axW9FbEL7Lrn2kuEhLc6Cnur0QrDQ9K6QqW8bLcVHA+aTdRt60maPgfJR6zSDM2MdwNPEjwUFITtITwTnqKyZrixAIORTD0Rw2WWMDxx8Vn5+Zv2kDhwx8gmqacnBV7yrMNPCx0bnNL5AGEbQMLi5p4jZ5KsJNLTnbM/4xHsVlcs8juZp2u/OPPg0D51WWj6LnXPHvIpZfk2F3zLr2GZgsusFWtxNDsxodq5ltjMtoukAuoMaDFdzk9mP3VpS4k3kIuTf1mObv7V6KNIOJXmnU2XDpClPCZnmbL0SKpo91ZYts8Ucga9wBptNNqksTXOYaDb5BOjSHisCmNx2pAV7fzje9w+dbs0kzaXtt1Z+xV3TRtbfLhTfUKyASaDNL1Z2BMKytjhYXySNjaNrnGwTer0mSeiLdZ+hRjTGrkFS/HOZXncOcIa39VuwLkSfEFja+60kjeBUdQJbXtA21OSsfKS3a0x3V/wDVydZOVM5x0Y6udeP4Gbe8+CreurZJnmSV7nvO1zjc/UOoK0RqNQ/m5PlXLP8AQWh/NSfKOUsfxJo1hqL9d5Ar+rDqooH6PtL8yOFT6eNVUySc/Ozdu87grcdqFQn3Mo/eFaHk+obWHPD9ofOFYHxPYP7uwf5KL+GT9Hf6KpTZoudvmU0llLj8yt6TkwpHm/O1A747ebU1n5LIB6tRJ4NPsAUw+IrDS8S4DfT0JWv8Nm2U7fZVlozR8k8rYom4nu2DcBvJO4DirOMUOiKSzbPqZBbEdp6+pjb7PpXd1b1cho2ER3c53ryOtiPAZbAOCjeltUKupnfLJLEATZubjZgPRFsP2JK48+lrPpK0aqR4ZZ20JBwMh2Ajd0bsxUi7cjsslmjvMFZDw5P77+FVwtXNASV0j3ueQ0G75CLuc452A4+zJd/SeoMUcL3tlkuxjndININgTbIBSLQuhn09M2Fj2h1yXOLb3JOdm3HUMzuS1doh0zDHLO/CcnBga244ElpNuwqnatPzSWmsUwbGDQANrVu0801rsFRQUFApYrBG2Pltq4jE129vbnxVIudhFztPt+hMnOublXKzUWgJza5565Hf7SF0INVaNuyliNvfNxfxXXYl+LbG3mseeoD/AJV7lTbomb7zgO30CoklTfkt0zPT1bQ1r3RSGz7AloNsnXGQ4H6grQp9Hws9SKNv6jGj2BObLmWv4rbLG6NsOeRLsjsNLuYOIxz6MFZg0YY3hxf1Uz6M/JSmkqWyNxN7xvCcKIwSujdiYbHeOPcpHo+rEjMVrZ5hX9F6WZaxcdg8DEbD0jzHZULM9nMfKGSdoQhdlVU20hLhic7qt45fOoxDALXz7lKqiEPYWnYQovLeNxac7FUbWDeBOSv2Mi6QM/JLMuNh8VzdaNES1lM6FsjYw+wccJN23uWjpC17DNaz6yUrHFj5mNcMi1xsRv2I/plQtGdQw9lz7FCwGow7ipXkUoadypjTmrfoszoZMyACCCbOadhHgR2grmspYjkDfvUo170uyrqS+K+ARiNpIsXWc5xNjmB0rZ8FFYKYhwOyy6TSS0VzXNfQOIGSW9AZwPisNomA3sfFOkLdaqS8nf5d+6f7WK1qyp5uN0ht0bnPZfd52VW8mrCa/sieT1dJimeu9daNsQ2vOJ36o2eJ9ioysL5qcFdjddgrxWztd5uMQ7PrJSL9dJ/zjR2M+kKHoU+oJze7t9lyhAdr3dvspU7XCf8APHuY3+VJO1tl/OSeDR86jSFj5Vu1zvzFZ1A+p3aU0180s6fmQ5zzhxnpG+3DsXI1cdaSTK94Xs229ew+ZKayHpM7D7QtNXpWtMhcQPVHtPzq9q2iy3Mx0k79+arBg193Z7JjoyTDNG7g5p/zBWANLyE2DW3OQFnEk/GVexODZAdwcPAOVzclVJHLztSR6p5tl7ZXF3uHcQO8rFrhZK5pcKrazMaQbwyKeaK0Y8MD5rFxzDAMm9u8nyT5NNNVHNwSP5xseFpPOPBc1tt5aCCVA/6XTbtIUZ7YJR/tXzfUT6QJkaMjSga4gHousIHWa+K9G0RWcXRTHgPEhWOhVudbJ/8A3Ci+Rl/lXV0Tp58jvy2GT4MNLKT43PsUUmibRG284Yfhk/wUjZ2ONB4j1UzQt4Yy4gAXJXepNGNZmek7j9AWLBoua2E3MGjMnLh0n9miSztjzz3LgADeVkSW2Adu0qWYRwSMrI/dBvgu6Php45sor+DH9R7qKqbaNre/2UYc8naVqnOlHMHRaLG+7cOHamGMrz+kLGbLMYy8OIzIrh0Gu1XYXaxgcBRLIVfay8o4heY6eIzlps5+K0YI2htrl9u4dqcak8oLKyQwyM5qbMtbiu14AuQCQCHDM24BbO0Xamw64sN3vpvpnTqyxyWBNGXXQcf3tyU5QgFC5ylWrWAbAAshZWGrJKLKELg66aUdBSuMZ/CPIjjsLnG6+YG8gBx7gpIYXTSNjbmSAOtaucGipXdBXe0B+LP6y806vVFRR18Ti+Sz5Wsma8m5EjsOIg7TncHiF6W0Cy0Zd75xt2D7Fep0do19i0i1pN4FhNaUwy8advUqUswlhJyxH77F1EIQvWLnIXJ0vBmH7jke3d9updZJyxhwIOwqORl9tFvG+46qr7WPVWGr6RuyQZCRtr24OGxw8+tRh3Jo7dUg/uv+asMSsLnBj2vwOLHFpBs4bQbbDnsWyoiSRvJBp2eavmON5vUr2+Srb73R/Sf/AKv+aUbybOP/AFA+S/5qxUIJ5fq7h6LJgi2N7z6qu/vaO/SR8kf50fezd+kj5I/zqxELOvk+ruHotdRH9PefVcLQOgoKCJ7sVzbFLK7bZoJ3bGjPJV1pfWUzTOkwHM9EE7GjYPD51JOUvTtgKRhzNnSkcNrWd+09g4qvFZs7DzzmVWtDhW4Mgug7SztzWjxKTdpKQ7wOwD50zQrKrpd1ZIfdnuNvYknSE7ST2krVaucBtRFltFJK60bHPIGIhoJNrgXsO0JKmjLcQcCDiNwRYi2ViDsScde5rw9jnNcDdpaSDdKGpc7pOzcc3E7STmSe9astBeLlMAsuswjdfJxOYTin0NPIx8scZdGxxxOxNAFgHHIm+w8FYmqmmIKWhiM0gjxukwk3zIcb7Bwsqyl0hIGmPG4Rk4i0Hol2y5ttyt4KSaZojLoOCZufMvcXfqOe5rj3HAT1ArlaWeJ9XDIS0awAFuB5rqY44k0x6SrNmhbE10jMaiprxVhwaz0T/Vq4D1c6wHwJTxktO/Y6B3YWFedFgsB3DwXLd8LR/dlP5QfMKX5130r0gKeL3rPBqVDgOC82Ny2Zdi1kceJ8Soz8K1/rf7P+y2+e/t7/AGXp2CoLfVS/3Uk999vBVLyR6ImBdVPc9sTmlkbSTZ9yCX4eAtYHfc99owQlxsFzpp7VY5flYJi4DAUwx2imOR6c1I1scjdY9tOKVfXyH3bvAJCSeQ7XnyHsWZYy02O1aFU5NIWwkh8r+F4jurRTNijzDR2BN7WUY1+0uYacRsJEk12C20N90R15gD9bqUoJzVfUswrdNcY4bhvD8GbX73k+SuaDsgtFqF4clvKPkO3HgCsWyUsj6Th++pIUHJ850XSkDZA0HAAOiD6uLhsPgoRpGF9HVskIIfBK0utvAIPgRl2FXpoHR0VK+aL0gSVdTjnOOweWjotswbGN2ePYKm1/a58UMsjcMj6e0oO0SRHC6444r+C985ocC12RwK4taYhXPC64ulEz0R+Ijv7xn8ITxfJyKYL0BQgLBK1dKAsVShW64elqOSaW0TmtfGwODn7Gc4/CZALG72sZJa+V3ZpSv1kpYvxlRGOrGCfituVyND6XFZUyNgJdDJaKU2IdzTqebptxAFpEgA2b16P4fsknzQkc00aDjQ0rlSuVaE4KpbHgR0BxNEy5RWRukhlAGGN8DhIMw+OQlwcCNtnRnZx610tT+Ug88Yqm3MveTHJYAxhzui19trcwL7RvuNnH11q4W6Pp6WAuc2GXmA5wsXcwMLnA7xiyvYZ3UKXtNW2/f20p1Zrl3jS6vVCFHOT2rdLoyme83dgLb8Qx7mA+DQhbrCkar3lT1sdTRimhdaaVuJzhtjjvbLg5xBAO4A9SsJefuU3H91ajHf3GHhh5plrdW3vuiLHJ/pcw1QjJ6E3RI+H7g9t8v2lbTXXFwqCppS17XDa1zXDtBB+ZXrFiubKjaxR4O/yV+ycphG7zTlC1bfetlXU6E10nWCGGSU+4Y51uNhcDxTpcDXx9tHz9YYPGRt1s0VcAsONASqhqqh0j3SPN3OJc48SUmhC6q5SEIQiIWC0FZQiLURjgFmyyto4y42aCTwAJPkiLQtHBdnQusL6dhiwMkhdcOjcMrO9YA8Dc3BBCTptX6h/93hHFxA8tvkuhHqphF5ZmtG+38zrexQzwRzsuStqOlbNe5hq0rh1NPopzs/S6Y7bNtIzPhkXWSkWrFHIRzWk25kAB8RBudm1wTnTmjaLmiI5XGUZtd6wPwTYAWPEbFFWQPafVPcoPlXjmTPHEtd+trj3qTWDa0d48CFMTyWz7qqEjjhcPK/zp9obU7R8L71NVHM9pzYXxsYCPfMxEu7CbdS4UWtFZzXNB5ta1yOlbhi+dR2pieT6p9veoprFPIy4J3AcGjvaGnvWWysBrcHaVe407TAACeAAZACSPIeKUg1jgYbiog4fjI/pXnwxkbQfBYsuU34aY01Epr+EeqsG3VFC0dvsvQc+slOTd1RB8oz6U1k1ooxtq6fs52M+QKocBbBP9Mxk1Mh7Agt5GTR2+ytXWbX6BkTm0z+clcLNc0HAy/ui47SOAvnbYotqBUPY+V0VudFNIY75gvbZwBG/MKJOC6urOlDTzskHuTmOLTk4Ls2GwRWNhbHXHMnM7twwVaaZ0pq5XBSUsL5oNMyzCJhpGAteQGtMguCXk/DItvNlDeV6ZstSxgOWA3IzsHuAv15NJUj0rpOhmpocb28zCWvZE0gAljcLGFg2hvvexVnpvSLqid8p90chwaMgFdUKsGblCpmC0bJX2yGQaMv1jfyXLqeUWU/i4WN63OLvIWUJZEeCVbCuRFoKwx/cvcST4UHcrLrZK7bTgu5Ua3Vj/AO9wjgxob52v5rmzVUknrve/9ZxPtKRDAtl0orPDD9mwN4ADwUDnudziSkaqDE228bErq3pWajlxsbfKxG4ju2Z71lCmWqdaW0pJUy85IA0AWYwbGjejRej5KiZkMQu97sI6uJPAAXJ7E70Dq7U1j8MEZcL2LzlG39Z/zC56ldWpep0VCy9+cmcLPkItl71g9y3zO/cBhF2tEaObBBHC31Y2NYDxsMz2k3PehP0IiFCuUHUv01okiIbUMFhfZI3bgcdxBJIPWeNxNUIi8yS6NkiqGwzxujdjaC1wsbFwFxucOsXCucXvkpTW0MUzQ2WNjwDcBzQbEbCL7D1hNzoeO92kjzHmqtpidIRd2VVuzTtjBrtXFAetgXcAus7RR3O8vrWPuSffDwVbUSblY+Yj3jsXNC4Gvo/s6fsZ/qsUyGiT7/y+tN9J6tRzwuhkc7C+18NgcnB2RIO8BSMheHA0Ub52FpFV50Qr3puTXRzNsTnn4cj/AGAgeS69LqpQx5spIAeJjaT8ZwJV9UF5yhYXmzAXHg0EnwC6MGr1W/1aSoPXzMlvHDZeko42tFmgAcALDwCURF50bqZpA/8ASTcdgHtKTm1Vrm7aOo7o3O/hBXo9CIvMFRRTRZyRSR29/G5o/wAwXSotaZGNthjdwIGHxDcivRq5Vfq9STfjaaF54ljcXxrXCIqCqdY6h/u8I4MFvPb5rlyyOcbuJceJJJ81dek+SyikuY+chPwXYm/FffLsIUO0vyV1cdzC5k7eAOB/xXG3+ZEUDQnWkNGzQOwzRPjPw2kX7Ccj3JqsohCEIiFgtHBZW0UZccLQXOOwNBJPYBmiJEwN96PBamlZw9qluidQK+exEJjb76U4P8vreSmuiOSSJtjUzOkPvY+g3sxG7j3WRFTTqNnWO9OKPVuaWxhhnfwLI3OHiG2Xo/Rmq1HT25qnjBHui3E/47ru812lhF5zp+TvSLtlK/8AadEz+J4XSh5MdIn+6jb2yN/23V9IRFRn3rtIcIflD/KsO5L9ID3MJ7JPpar0QiKhncmmkfzTD2Ss+cpaLkt0gdohb2yfytKvNCIqgouSCY/jamNvUxrn+bsPsUp0RyZUMNi9rp3f/Iej8Rtge+6myERIwQtY0NY0NaMg1oAA7ANiWQhEQhCERCEIREIQhEQhCERCEIREIQhEQhCERCEIREIQhEQhCERJywtcC1zQ4HaCLg9xUY03qRo97S80rGu4sLo/KMgIQiKo9ZdGRROIjbb9px9pK00FoyKQjG297b3D2FCERWxoTUXR+APNM1zvhOe4fFc4jyUmpKGKHoxRsjHBjWtHkFhCInqEIREIQhEQhCERCEIREIQhEQhCERCEIREIQhEX/9k=)\n",
        "# <b><u> Project Title : Taxi trip time Prediction : Predicting total ride duration of taxi trips in New York City</u></b>"
      ]
    },
    {
      "cell_type": "markdown",
      "metadata": {
        "id": "hanFi6UjTXbF"
      },
      "source": [
        "## <b> Problem Description </b>\n",
        "\n",
        "### Your task is to build a model that predicts the total ride duration of taxi trips in New York City. Your primary dataset is one released by the NYC Taxi and Limousine Commission, which includes pickup time, geo-coordinates, number of passengers, and several other variables."
      ]
    },
    {
      "cell_type": "markdown",
      "metadata": {
        "id": "iUJoIt9vTd9K"
      },
      "source": [
        "## <b> Data Description </b>\n",
        "\n",
        "### The dataset is based on the 2016 NYC Yellow Cab trip record data made available in Big Query on Google Cloud Platform. The data was originally published by the NYC Taxi and Limousine Commission (TLC). The data was sampled and cleaned for the purposes of this project. Based on individual trip attributes, you should predict the duration of each trip in the test set.\n",
        "\n",
        "### <b>NYC Taxi Data.csv</b> - the training set (contains 1458644 trip records)\n",
        "\n",
        "\n",
        "### Data fields\n",
        "* #### id - a unique identifier for each trip\n",
        "* #### vendor_id - a code indicating the provider associated with the trip record\n",
        "* #### pickup_datetime - date and time when the meter was engaged\n",
        "* #### dropoff_datetime - date and time when the meter was disengaged\n",
        "* #### passenger_count - the number of passengers in the vehicle (driver entered value)\n",
        "* #### pickup_longitude - the longitude where the meter was engaged\n",
        "* #### pickup_latitude - the latitude where the meter was engaged\n",
        "* #### dropoff_longitude - the longitude where the meter was disengaged\n",
        "* #### dropoff_latitude - the latitude where the meter was disengaged\n",
        "* #### store_and_fwd_flag - This flag indicates whether the trip record was held in vehicle memory before sending to the vendor because the vehicle did not have a connection to the server - Y=store and forward; N=not a store and forward trip\n",
        "* #### trip_duration - duration of the trip in seconds"
      ]
    },
    {
      "cell_type": "markdown",
      "metadata": {
        "id": "u9fc3SbiyhcS"
      },
      "source": [
        "# Architecture"
      ]
    },
    {
      "cell_type": "markdown",
      "metadata": {
        "id": "bBdmUaByyxjX"
      },
      "source": [
        "Data Preparation and Exploratory Data Analysis > Build Predictive Model using Multiple Techniques/Algorithms > Optimal Model identified through Testing and Evaluation"
      ]
    },
    {
      "cell_type": "markdown",
      "metadata": {
        "id": "ZG-bT1kNzuB5"
      },
      "source": [
        "# Importing "
      ]
    },
    {
      "cell_type": "code",
      "metadata": {
        "id": "HGZ-7SI0z88q"
      },
      "source": [
        "# importing required packages\n",
        "import numpy as np \n",
        "import pandas as pd \n",
        "import matplotlib.pyplot as plt\n",
        "import seaborn as sns\n",
        "import matplotlib.ticker as ticker\n",
        "import warnings\n",
        "warnings.filterwarnings('ignore')\n"
      ],
      "execution_count": 2,
      "outputs": []
    },
    {
      "cell_type": "code",
      "metadata": {
        "id": "bj7Zbpzn0UUu"
      },
      "source": [
        "# importing dataset and reading \n",
        "file='/content/drive/MyDrive/taxi trip time prediction/NYC Taxi Data.csv'\n",
        "data=pd.read_csv(file)\n",
        "data1=data.copy() # making a copy "
      ],
      "execution_count": 3,
      "outputs": []
    },
    {
      "cell_type": "markdown",
      "metadata": {
        "id": "Shvzca2rIIZV"
      },
      "source": [
        "# Data Inspection\n"
      ]
    },
    {
      "cell_type": "code",
      "metadata": {
        "colab": {
          "base_uri": "https://localhost:8080/",
          "height": 313
        },
        "id": "pzYUYakXINTd",
        "outputId": "0c0ba0b5-1f4d-46b7-b89b-2def62efe11a"
      },
      "source": [
        "# First look \n",
        "data1.head()"
      ],
      "execution_count": 4,
      "outputs": [
        {
          "output_type": "execute_result",
          "data": {
            "text/html": [
              "<div>\n",
              "<style scoped>\n",
              "    .dataframe tbody tr th:only-of-type {\n",
              "        vertical-align: middle;\n",
              "    }\n",
              "\n",
              "    .dataframe tbody tr th {\n",
              "        vertical-align: top;\n",
              "    }\n",
              "\n",
              "    .dataframe thead th {\n",
              "        text-align: right;\n",
              "    }\n",
              "</style>\n",
              "<table border=\"1\" class=\"dataframe\">\n",
              "  <thead>\n",
              "    <tr style=\"text-align: right;\">\n",
              "      <th></th>\n",
              "      <th>id</th>\n",
              "      <th>vendor_id</th>\n",
              "      <th>pickup_datetime</th>\n",
              "      <th>dropoff_datetime</th>\n",
              "      <th>passenger_count</th>\n",
              "      <th>pickup_longitude</th>\n",
              "      <th>pickup_latitude</th>\n",
              "      <th>dropoff_longitude</th>\n",
              "      <th>dropoff_latitude</th>\n",
              "      <th>store_and_fwd_flag</th>\n",
              "      <th>trip_duration</th>\n",
              "    </tr>\n",
              "  </thead>\n",
              "  <tbody>\n",
              "    <tr>\n",
              "      <th>0</th>\n",
              "      <td>id2875421</td>\n",
              "      <td>2</td>\n",
              "      <td>2016-03-14 17:24:55</td>\n",
              "      <td>2016-03-14 17:32:30</td>\n",
              "      <td>1</td>\n",
              "      <td>-73.982155</td>\n",
              "      <td>40.767937</td>\n",
              "      <td>-73.964630</td>\n",
              "      <td>40.765602</td>\n",
              "      <td>N</td>\n",
              "      <td>455</td>\n",
              "    </tr>\n",
              "    <tr>\n",
              "      <th>1</th>\n",
              "      <td>id2377394</td>\n",
              "      <td>1</td>\n",
              "      <td>2016-06-12 00:43:35</td>\n",
              "      <td>2016-06-12 00:54:38</td>\n",
              "      <td>1</td>\n",
              "      <td>-73.980415</td>\n",
              "      <td>40.738564</td>\n",
              "      <td>-73.999481</td>\n",
              "      <td>40.731152</td>\n",
              "      <td>N</td>\n",
              "      <td>663</td>\n",
              "    </tr>\n",
              "    <tr>\n",
              "      <th>2</th>\n",
              "      <td>id3858529</td>\n",
              "      <td>2</td>\n",
              "      <td>2016-01-19 11:35:24</td>\n",
              "      <td>2016-01-19 12:10:48</td>\n",
              "      <td>1</td>\n",
              "      <td>-73.979027</td>\n",
              "      <td>40.763939</td>\n",
              "      <td>-74.005333</td>\n",
              "      <td>40.710087</td>\n",
              "      <td>N</td>\n",
              "      <td>2124</td>\n",
              "    </tr>\n",
              "    <tr>\n",
              "      <th>3</th>\n",
              "      <td>id3504673</td>\n",
              "      <td>2</td>\n",
              "      <td>2016-04-06 19:32:31</td>\n",
              "      <td>2016-04-06 19:39:40</td>\n",
              "      <td>1</td>\n",
              "      <td>-74.010040</td>\n",
              "      <td>40.719971</td>\n",
              "      <td>-74.012268</td>\n",
              "      <td>40.706718</td>\n",
              "      <td>N</td>\n",
              "      <td>429</td>\n",
              "    </tr>\n",
              "    <tr>\n",
              "      <th>4</th>\n",
              "      <td>id2181028</td>\n",
              "      <td>2</td>\n",
              "      <td>2016-03-26 13:30:55</td>\n",
              "      <td>2016-03-26 13:38:10</td>\n",
              "      <td>1</td>\n",
              "      <td>-73.973053</td>\n",
              "      <td>40.793209</td>\n",
              "      <td>-73.972923</td>\n",
              "      <td>40.782520</td>\n",
              "      <td>N</td>\n",
              "      <td>435</td>\n",
              "    </tr>\n",
              "  </tbody>\n",
              "</table>\n",
              "</div>"
            ],
            "text/plain": [
              "          id  vendor_id  ... store_and_fwd_flag trip_duration\n",
              "0  id2875421          2  ...                  N           455\n",
              "1  id2377394          1  ...                  N           663\n",
              "2  id3858529          2  ...                  N          2124\n",
              "3  id3504673          2  ...                  N           429\n",
              "4  id2181028          2  ...                  N           435\n",
              "\n",
              "[5 rows x 11 columns]"
            ]
          },
          "metadata": {},
          "execution_count": 4
        }
      ]
    },
    {
      "cell_type": "code",
      "metadata": {
        "colab": {
          "base_uri": "https://localhost:8080/"
        },
        "id": "5wkqcjyGIRSP",
        "outputId": "bbf2fe5e-7121-44de-f2bc-8c76d70b333b"
      },
      "source": [
        "# looking into shape of dataset\n",
        "data1.shape\n",
        "print('number of rows',data1.shape[0])\n",
        "print('number of columns',data1.shape[1])"
      ],
      "execution_count": 5,
      "outputs": [
        {
          "output_type": "stream",
          "name": "stdout",
          "text": [
            "number of rows 1458644\n",
            "number of columns 11\n"
          ]
        }
      ]
    },
    {
      "cell_type": "code",
      "metadata": {
        "colab": {
          "base_uri": "https://localhost:8080/"
        },
        "id": "fXaZZ8EAIb1O",
        "outputId": "bd5745af-37c1-4d7d-ffc1-7263b13a68a5"
      },
      "source": [
        "# # looking into information(datatype,columns,null/non-null count)\n",
        "data1.info()"
      ],
      "execution_count": 6,
      "outputs": [
        {
          "output_type": "stream",
          "name": "stdout",
          "text": [
            "<class 'pandas.core.frame.DataFrame'>\n",
            "RangeIndex: 1458644 entries, 0 to 1458643\n",
            "Data columns (total 11 columns):\n",
            " #   Column              Non-Null Count    Dtype  \n",
            "---  ------              --------------    -----  \n",
            " 0   id                  1458644 non-null  object \n",
            " 1   vendor_id           1458644 non-null  int64  \n",
            " 2   pickup_datetime     1458644 non-null  object \n",
            " 3   dropoff_datetime    1458644 non-null  object \n",
            " 4   passenger_count     1458644 non-null  int64  \n",
            " 5   pickup_longitude    1458644 non-null  float64\n",
            " 6   pickup_latitude     1458644 non-null  float64\n",
            " 7   dropoff_longitude   1458644 non-null  float64\n",
            " 8   dropoff_latitude    1458644 non-null  float64\n",
            " 9   store_and_fwd_flag  1458644 non-null  object \n",
            " 10  trip_duration       1458644 non-null  int64  \n",
            "dtypes: float64(4), int64(3), object(4)\n",
            "memory usage: 122.4+ MB\n"
          ]
        }
      ]
    },
    {
      "cell_type": "code",
      "metadata": {
        "colab": {
          "base_uri": "https://localhost:8080/",
          "height": 300
        },
        "id": "QFPCaP6EJWUp",
        "outputId": "799f5e98-3650-499a-c207-5bd7c063a06c"
      },
      "source": [
        "# looking in descriptive summary of dataset\n",
        "data1.describe()"
      ],
      "execution_count": 7,
      "outputs": [
        {
          "output_type": "execute_result",
          "data": {
            "text/html": [
              "<div>\n",
              "<style scoped>\n",
              "    .dataframe tbody tr th:only-of-type {\n",
              "        vertical-align: middle;\n",
              "    }\n",
              "\n",
              "    .dataframe tbody tr th {\n",
              "        vertical-align: top;\n",
              "    }\n",
              "\n",
              "    .dataframe thead th {\n",
              "        text-align: right;\n",
              "    }\n",
              "</style>\n",
              "<table border=\"1\" class=\"dataframe\">\n",
              "  <thead>\n",
              "    <tr style=\"text-align: right;\">\n",
              "      <th></th>\n",
              "      <th>vendor_id</th>\n",
              "      <th>passenger_count</th>\n",
              "      <th>pickup_longitude</th>\n",
              "      <th>pickup_latitude</th>\n",
              "      <th>dropoff_longitude</th>\n",
              "      <th>dropoff_latitude</th>\n",
              "      <th>trip_duration</th>\n",
              "    </tr>\n",
              "  </thead>\n",
              "  <tbody>\n",
              "    <tr>\n",
              "      <th>count</th>\n",
              "      <td>1.458644e+06</td>\n",
              "      <td>1.458644e+06</td>\n",
              "      <td>1.458644e+06</td>\n",
              "      <td>1.458644e+06</td>\n",
              "      <td>1.458644e+06</td>\n",
              "      <td>1.458644e+06</td>\n",
              "      <td>1.458644e+06</td>\n",
              "    </tr>\n",
              "    <tr>\n",
              "      <th>mean</th>\n",
              "      <td>1.534950e+00</td>\n",
              "      <td>1.664530e+00</td>\n",
              "      <td>-7.397349e+01</td>\n",
              "      <td>4.075092e+01</td>\n",
              "      <td>-7.397342e+01</td>\n",
              "      <td>4.075180e+01</td>\n",
              "      <td>9.594923e+02</td>\n",
              "    </tr>\n",
              "    <tr>\n",
              "      <th>std</th>\n",
              "      <td>4.987772e-01</td>\n",
              "      <td>1.314242e+00</td>\n",
              "      <td>7.090186e-02</td>\n",
              "      <td>3.288119e-02</td>\n",
              "      <td>7.064327e-02</td>\n",
              "      <td>3.589056e-02</td>\n",
              "      <td>5.237432e+03</td>\n",
              "    </tr>\n",
              "    <tr>\n",
              "      <th>min</th>\n",
              "      <td>1.000000e+00</td>\n",
              "      <td>0.000000e+00</td>\n",
              "      <td>-1.219333e+02</td>\n",
              "      <td>3.435970e+01</td>\n",
              "      <td>-1.219333e+02</td>\n",
              "      <td>3.218114e+01</td>\n",
              "      <td>1.000000e+00</td>\n",
              "    </tr>\n",
              "    <tr>\n",
              "      <th>25%</th>\n",
              "      <td>1.000000e+00</td>\n",
              "      <td>1.000000e+00</td>\n",
              "      <td>-7.399187e+01</td>\n",
              "      <td>4.073735e+01</td>\n",
              "      <td>-7.399133e+01</td>\n",
              "      <td>4.073588e+01</td>\n",
              "      <td>3.970000e+02</td>\n",
              "    </tr>\n",
              "    <tr>\n",
              "      <th>50%</th>\n",
              "      <td>2.000000e+00</td>\n",
              "      <td>1.000000e+00</td>\n",
              "      <td>-7.398174e+01</td>\n",
              "      <td>4.075410e+01</td>\n",
              "      <td>-7.397975e+01</td>\n",
              "      <td>4.075452e+01</td>\n",
              "      <td>6.620000e+02</td>\n",
              "    </tr>\n",
              "    <tr>\n",
              "      <th>75%</th>\n",
              "      <td>2.000000e+00</td>\n",
              "      <td>2.000000e+00</td>\n",
              "      <td>-7.396733e+01</td>\n",
              "      <td>4.076836e+01</td>\n",
              "      <td>-7.396301e+01</td>\n",
              "      <td>4.076981e+01</td>\n",
              "      <td>1.075000e+03</td>\n",
              "    </tr>\n",
              "    <tr>\n",
              "      <th>max</th>\n",
              "      <td>2.000000e+00</td>\n",
              "      <td>9.000000e+00</td>\n",
              "      <td>-6.133553e+01</td>\n",
              "      <td>5.188108e+01</td>\n",
              "      <td>-6.133553e+01</td>\n",
              "      <td>4.392103e+01</td>\n",
              "      <td>3.526282e+06</td>\n",
              "    </tr>\n",
              "  </tbody>\n",
              "</table>\n",
              "</div>"
            ],
            "text/plain": [
              "          vendor_id  passenger_count  ...  dropoff_latitude  trip_duration\n",
              "count  1.458644e+06     1.458644e+06  ...      1.458644e+06   1.458644e+06\n",
              "mean   1.534950e+00     1.664530e+00  ...      4.075180e+01   9.594923e+02\n",
              "std    4.987772e-01     1.314242e+00  ...      3.589056e-02   5.237432e+03\n",
              "min    1.000000e+00     0.000000e+00  ...      3.218114e+01   1.000000e+00\n",
              "25%    1.000000e+00     1.000000e+00  ...      4.073588e+01   3.970000e+02\n",
              "50%    2.000000e+00     1.000000e+00  ...      4.075452e+01   6.620000e+02\n",
              "75%    2.000000e+00     2.000000e+00  ...      4.076981e+01   1.075000e+03\n",
              "max    2.000000e+00     9.000000e+00  ...      4.392103e+01   3.526282e+06\n",
              "\n",
              "[8 rows x 7 columns]"
            ]
          },
          "metadata": {},
          "execution_count": 7
        }
      ]
    },
    {
      "cell_type": "markdown",
      "metadata": {
        "id": "FIC85-P1PvDX"
      },
      "source": [
        "## Handling missing values  "
      ]
    },
    {
      "cell_type": "code",
      "metadata": {
        "colab": {
          "base_uri": "https://localhost:8080/"
        },
        "id": "2w3T22KKP_6G",
        "outputId": "114f2cc9-b0f2-4d0e-9e44-b7b41f5be0d2"
      },
      "source": [
        "# looking for missing values in dataset \n",
        "data1.isnull().sum()"
      ],
      "execution_count": 8,
      "outputs": [
        {
          "output_type": "execute_result",
          "data": {
            "text/plain": [
              "id                    0\n",
              "vendor_id             0\n",
              "pickup_datetime       0\n",
              "dropoff_datetime      0\n",
              "passenger_count       0\n",
              "pickup_longitude      0\n",
              "pickup_latitude       0\n",
              "dropoff_longitude     0\n",
              "dropoff_latitude      0\n",
              "store_and_fwd_flag    0\n",
              "trip_duration         0\n",
              "dtype: int64"
            ]
          },
          "metadata": {},
          "execution_count": 8
        }
      ]
    },
    {
      "cell_type": "markdown",
      "metadata": {
        "id": "wlED6HctQK02"
      },
      "source": [
        "### ohh! thats great no missing values/Null values to deal with, lets say its blessing in disguise"
      ]
    },
    {
      "cell_type": "markdown",
      "metadata": {
        "id": "mP-urStjuOhX"
      },
      "source": [
        "## looking for unique values"
      ]
    },
    {
      "cell_type": "code",
      "metadata": {
        "colab": {
          "base_uri": "https://localhost:8080/"
        },
        "id": "h7qD20U6uUBQ",
        "outputId": "120618ed-0dbf-4dc2-bfc5-7bd5e6b20c1a"
      },
      "source": [
        "# Let us check for unique values in columns.\n",
        "\n",
        "print(data1.nunique().sort_values())"
      ],
      "execution_count": 9,
      "outputs": [
        {
          "output_type": "stream",
          "name": "stdout",
          "text": [
            "vendor_id                   2\n",
            "store_and_fwd_flag          2\n",
            "passenger_count            10\n",
            "trip_duration            7417\n",
            "pickup_longitude        23047\n",
            "dropoff_longitude       33821\n",
            "pickup_latitude         45245\n",
            "dropoff_latitude        62519\n",
            "pickup_datetime       1380222\n",
            "dropoff_datetime      1380377\n",
            "id                    1458644\n",
            "dtype: int64\n"
          ]
        }
      ]
    },
    {
      "cell_type": "markdown",
      "metadata": {
        "id": "V_Sh7pvUulrC"
      },
      "source": [
        "There are 2 unique vendor ids.\n",
        "\n",
        "There are 10 unique passenger counts.\n",
        "\n",
        "There are 2 unique values in store_and_fwd_flag, that we also saw in the description of the variables, i.e Y and N."
      ]
    },
    {
      "cell_type": "code",
      "metadata": {
        "colab": {
          "base_uri": "https://localhost:8080/",
          "height": 562
        },
        "id": "ar4LXUM1u1G3",
        "outputId": "4dd73cf6-1e23-4d07-fe3f-5061b41e3285"
      },
      "source": [
        "#Descriptive Stats in visual form\n",
        "\n",
        "plt.figure(figsize=(25,10))\n",
        "svm = sns.heatmap(data1.describe()[1:], annot=True, cmap='gist_earth',annot_kws={\"size\": 18})\n",
        "svm.set_xticklabels(svm.get_xmajorticklabels(), fontsize = 18)\n",
        "svm.set_yticklabels(svm.get_ymajorticklabels(), fontsize = 18)\n",
        "\n",
        "plt.title('Descriptive Stats')"
      ],
      "execution_count": 10,
      "outputs": [
        {
          "output_type": "execute_result",
          "data": {
            "text/plain": [
              "Text(0.5, 1.0, 'Descriptive Stats')"
            ]
          },
          "metadata": {},
          "execution_count": 10
        },
        {
          "output_type": "display_data",
          "data": {
            "image/png": "[encoded data removed]",
            "text/plain": [
              "<Figure size 1800x720 with 2 Axes>"
            ]
          },
          "metadata": {
            "needs_background": "light"
          }
        }
      ]
    },
    {
      "cell_type": "markdown",
      "metadata": {
        "id": "RIKhvuSwzTec"
      },
      "source": [
        "- We can observe that there were trips having 0 passengers which we can consider as false trip.\n",
        "\n",
        "\n",
        "- Also, there are trips having trip duration upto 3526282 seconds (Approx. 980 hours) which is kind of impossible in a day."
      ]
    },
    {
      "cell_type": "markdown",
      "metadata": {
        "id": "oLxl5WeQz3rc"
      },
      "source": [
        "# Feature Creation and Engineering\n",
        "- Let us create some new features from the existing so that we can gain more insights from the data.\n",
        "\n",
        " - pickup_datetime and dropoff_datetime were both of type object.\n",
        " we can convert it to datetime object which contains numerous functions with which we can create new features."
      ]
    },
    {
      "cell_type": "code",
      "metadata": {
        "id": "UFJdRkEX0pN_"
      },
      "source": [
        "# convert object type to datetime \n",
        "data1['pickup_datetime']=pd.to_datetime(data1['pickup_datetime']) \n",
        "data1['dropoff_datetime']=pd.to_datetime(data1['dropoff_datetime'])"
      ],
      "execution_count": 11,
      "outputs": []
    },
    {
      "cell_type": "markdown",
      "metadata": {
        "id": "OXK1fhHV2AYs"
      },
      "source": [
        "- Now that we have converted object type to datetime64 we can extract and create new features from this datetime feature"
      ]
    },
    {
      "cell_type": "code",
      "metadata": {
        "id": "T1Ob4hz62Jll"
      },
      "source": [
        "# extracting further information from datetime feature\n",
        "data1['pickup_day']=data1['pickup_datetime'].dt.day\n",
        "data1['pickup_month']=data1['pickup_datetime'].dt.month\n",
        "data1['pickup_weekday']=data1['pickup_datetime'].dt.weekday\n",
        "data1['pickup_hour']=data1['pickup_datetime'].dt.hour\n",
        "data1['pickup_date']=data1['pickup_datetime'].dt.date\n",
        "data1['pickup_min']=data1['pickup_datetime'].dt.minute"
      ],
      "execution_count": 12,
      "outputs": []
    },
    {
      "cell_type": "markdown",
      "metadata": {
        "id": "OK9Gzaaj4Uym"
      },
      "source": [
        "- We do not have to extract pickup and dropoff time both, as they may lead to strong positive correlation between them."
      ]
    },
    {
      "cell_type": "code",
      "metadata": {
        "id": "7qYX8n8m4uDq"
      },
      "source": [
        "# we will need to import library to calculate distances given in geographical coordinates\n",
        "from geopy.distance import great_circle\n"
      ],
      "execution_count": 13,
      "outputs": []
    },
    {
      "cell_type": "markdown",
      "metadata": {
        "id": "0rstkT4x5j_e"
      },
      "source": [
        "- lets define a function to take coordinates as inputs and return distance"
      ]
    },
    {
      "cell_type": "code",
      "metadata": {
        "id": "sbEdT0Ye56dz"
      },
      "source": [
        "#distance_calc is a function to calculate distance between pickup and dropoff coordinates.\n",
        "def distance_calc(pickup_lat,pickup_long,dropoff_lat,dropoff_long):\n",
        "  start_coordinates=(pickup_lat,pickup_long)\n",
        "  stop_coordinates=(dropoff_lat,dropoff_long)\n",
        " \n",
        "  return great_circle(start_coordinates,stop_coordinates).km\n"
      ],
      "execution_count": 14,
      "outputs": []
    },
    {
      "cell_type": "markdown",
      "metadata": {
        "id": "zIPvf2JK6rhl"
      },
      "source": [
        "- lets apply above function on given datset and create new feature as distance to define it "
      ]
    },
    {
      "cell_type": "code",
      "metadata": {
        "id": "1eHn82Qx7CYk"
      },
      "source": [
        "data1['distance']=data1.apply(lambda x: distance_calc(x['pickup_latitude'],x['pickup_longitude'],x['dropoff_latitude'],x['dropoff_longitude']),axis=1)"
      ],
      "execution_count": 15,
      "outputs": []
    },
    {
      "cell_type": "code",
      "metadata": {
        "colab": {
          "base_uri": "https://localhost:8080/",
          "height": 313
        },
        "id": "CiDchUiP7snb",
        "outputId": "03d7e190-ab46-4b04-f2de-6f45b00546c2"
      },
      "source": [
        "# lets take a look at dataset set to check whether features creation and engineering got reflected in our dataset\n",
        "data1.head()"
      ],
      "execution_count": 16,
      "outputs": [
        {
          "output_type": "execute_result",
          "data": {
            "text/html": [
              "<div>\n",
              "<style scoped>\n",
              "    .dataframe tbody tr th:only-of-type {\n",
              "        vertical-align: middle;\n",
              "    }\n",
              "\n",
              "    .dataframe tbody tr th {\n",
              "        vertical-align: top;\n",
              "    }\n",
              "\n",
              "    .dataframe thead th {\n",
              "        text-align: right;\n",
              "    }\n",
              "</style>\n",
              "<table border=\"1\" class=\"dataframe\">\n",
              "  <thead>\n",
              "    <tr style=\"text-align: right;\">\n",
              "      <th></th>\n",
              "      <th>id</th>\n",
              "      <th>vendor_id</th>\n",
              "      <th>pickup_datetime</th>\n",
              "      <th>dropoff_datetime</th>\n",
              "      <th>passenger_count</th>\n",
              "      <th>pickup_longitude</th>\n",
              "      <th>pickup_latitude</th>\n",
              "      <th>dropoff_longitude</th>\n",
              "      <th>dropoff_latitude</th>\n",
              "      <th>store_and_fwd_flag</th>\n",
              "      <th>trip_duration</th>\n",
              "      <th>pickup_day</th>\n",
              "      <th>pickup_month</th>\n",
              "      <th>pickup_weekday</th>\n",
              "      <th>pickup_hour</th>\n",
              "      <th>pickup_date</th>\n",
              "      <th>pickup_min</th>\n",
              "      <th>distance</th>\n",
              "    </tr>\n",
              "  </thead>\n",
              "  <tbody>\n",
              "    <tr>\n",
              "      <th>0</th>\n",
              "      <td>id2875421</td>\n",
              "      <td>2</td>\n",
              "      <td>2016-03-14 17:24:55</td>\n",
              "      <td>2016-03-14 17:32:30</td>\n",
              "      <td>1</td>\n",
              "      <td>-73.982155</td>\n",
              "      <td>40.767937</td>\n",
              "      <td>-73.964630</td>\n",
              "      <td>40.765602</td>\n",
              "      <td>N</td>\n",
              "      <td>455</td>\n",
              "      <td>14</td>\n",
              "      <td>3</td>\n",
              "      <td>0</td>\n",
              "      <td>17</td>\n",
              "      <td>2016-03-14</td>\n",
              "      <td>24</td>\n",
              "      <td>1.498523</td>\n",
              "    </tr>\n",
              "    <tr>\n",
              "      <th>1</th>\n",
              "      <td>id2377394</td>\n",
              "      <td>1</td>\n",
              "      <td>2016-06-12 00:43:35</td>\n",
              "      <td>2016-06-12 00:54:38</td>\n",
              "      <td>1</td>\n",
              "      <td>-73.980415</td>\n",
              "      <td>40.738564</td>\n",
              "      <td>-73.999481</td>\n",
              "      <td>40.731152</td>\n",
              "      <td>N</td>\n",
              "      <td>663</td>\n",
              "      <td>12</td>\n",
              "      <td>6</td>\n",
              "      <td>6</td>\n",
              "      <td>0</td>\n",
              "      <td>2016-06-12</td>\n",
              "      <td>43</td>\n",
              "      <td>1.805510</td>\n",
              "    </tr>\n",
              "    <tr>\n",
              "      <th>2</th>\n",
              "      <td>id3858529</td>\n",
              "      <td>2</td>\n",
              "      <td>2016-01-19 11:35:24</td>\n",
              "      <td>2016-01-19 12:10:48</td>\n",
              "      <td>1</td>\n",
              "      <td>-73.979027</td>\n",
              "      <td>40.763939</td>\n",
              "      <td>-74.005333</td>\n",
              "      <td>40.710087</td>\n",
              "      <td>N</td>\n",
              "      <td>2124</td>\n",
              "      <td>19</td>\n",
              "      <td>1</td>\n",
              "      <td>1</td>\n",
              "      <td>11</td>\n",
              "      <td>2016-01-19</td>\n",
              "      <td>35</td>\n",
              "      <td>6.385108</td>\n",
              "    </tr>\n",
              "    <tr>\n",
              "      <th>3</th>\n",
              "      <td>id3504673</td>\n",
              "      <td>2</td>\n",
              "      <td>2016-04-06 19:32:31</td>\n",
              "      <td>2016-04-06 19:39:40</td>\n",
              "      <td>1</td>\n",
              "      <td>-74.010040</td>\n",
              "      <td>40.719971</td>\n",
              "      <td>-74.012268</td>\n",
              "      <td>40.706718</td>\n",
              "      <td>N</td>\n",
              "      <td>429</td>\n",
              "      <td>6</td>\n",
              "      <td>4</td>\n",
              "      <td>2</td>\n",
              "      <td>19</td>\n",
              "      <td>2016-04-06</td>\n",
              "      <td>32</td>\n",
              "      <td>1.485501</td>\n",
              "    </tr>\n",
              "    <tr>\n",
              "      <th>4</th>\n",
              "      <td>id2181028</td>\n",
              "      <td>2</td>\n",
              "      <td>2016-03-26 13:30:55</td>\n",
              "      <td>2016-03-26 13:38:10</td>\n",
              "      <td>1</td>\n",
              "      <td>-73.973053</td>\n",
              "      <td>40.793209</td>\n",
              "      <td>-73.972923</td>\n",
              "      <td>40.782520</td>\n",
              "      <td>N</td>\n",
              "      <td>435</td>\n",
              "      <td>26</td>\n",
              "      <td>3</td>\n",
              "      <td>5</td>\n",
              "      <td>13</td>\n",
              "      <td>2016-03-26</td>\n",
              "      <td>30</td>\n",
              "      <td>1.188590</td>\n",
              "    </tr>\n",
              "  </tbody>\n",
              "</table>\n",
              "</div>"
            ],
            "text/plain": [
              "          id  vendor_id     pickup_datetime  ... pickup_date  pickup_min  distance\n",
              "0  id2875421          2 2016-03-14 17:24:55  ...  2016-03-14          24  1.498523\n",
              "1  id2377394          1 2016-06-12 00:43:35  ...  2016-06-12          43  1.805510\n",
              "2  id3858529          2 2016-01-19 11:35:24  ...  2016-01-19          35  6.385108\n",
              "3  id3504673          2 2016-04-06 19:32:31  ...  2016-04-06          32  1.485501\n",
              "4  id2181028          2 2016-03-26 13:30:55  ...  2016-03-26          30  1.188590\n",
              "\n",
              "[5 rows x 18 columns]"
            ]
          },
          "metadata": {},
          "execution_count": 16
        }
      ]
    },
    {
      "cell_type": "code",
      "metadata": {
        "colab": {
          "base_uri": "https://localhost:8080/",
          "height": 614
        },
        "id": "Cu5eUrXt9hEK",
        "outputId": "ae9d8035-1064-4001-d663-fc5e3ee30132"
      },
      "source": [
        "# lets check dtypes before jumping into eda and preprocessing\n",
        "data1.dtypes.reset_index()"
      ],
      "execution_count": 17,
      "outputs": [
        {
          "output_type": "execute_result",
          "data": {
            "text/html": [
              "<div>\n",
              "<style scoped>\n",
              "    .dataframe tbody tr th:only-of-type {\n",
              "        vertical-align: middle;\n",
              "    }\n",
              "\n",
              "    .dataframe tbody tr th {\n",
              "        vertical-align: top;\n",
              "    }\n",
              "\n",
              "    .dataframe thead th {\n",
              "        text-align: right;\n",
              "    }\n",
              "</style>\n",
              "<table border=\"1\" class=\"dataframe\">\n",
              "  <thead>\n",
              "    <tr style=\"text-align: right;\">\n",
              "      <th></th>\n",
              "      <th>index</th>\n",
              "      <th>0</th>\n",
              "    </tr>\n",
              "  </thead>\n",
              "  <tbody>\n",
              "    <tr>\n",
              "      <th>0</th>\n",
              "      <td>id</td>\n",
              "      <td>object</td>\n",
              "    </tr>\n",
              "    <tr>\n",
              "      <th>1</th>\n",
              "      <td>vendor_id</td>\n",
              "      <td>int64</td>\n",
              "    </tr>\n",
              "    <tr>\n",
              "      <th>2</th>\n",
              "      <td>pickup_datetime</td>\n",
              "      <td>datetime64[ns]</td>\n",
              "    </tr>\n",
              "    <tr>\n",
              "      <th>3</th>\n",
              "      <td>dropoff_datetime</td>\n",
              "      <td>datetime64[ns]</td>\n",
              "    </tr>\n",
              "    <tr>\n",
              "      <th>4</th>\n",
              "      <td>passenger_count</td>\n",
              "      <td>int64</td>\n",
              "    </tr>\n",
              "    <tr>\n",
              "      <th>5</th>\n",
              "      <td>pickup_longitude</td>\n",
              "      <td>float64</td>\n",
              "    </tr>\n",
              "    <tr>\n",
              "      <th>6</th>\n",
              "      <td>pickup_latitude</td>\n",
              "      <td>float64</td>\n",
              "    </tr>\n",
              "    <tr>\n",
              "      <th>7</th>\n",
              "      <td>dropoff_longitude</td>\n",
              "      <td>float64</td>\n",
              "    </tr>\n",
              "    <tr>\n",
              "      <th>8</th>\n",
              "      <td>dropoff_latitude</td>\n",
              "      <td>float64</td>\n",
              "    </tr>\n",
              "    <tr>\n",
              "      <th>9</th>\n",
              "      <td>store_and_fwd_flag</td>\n",
              "      <td>object</td>\n",
              "    </tr>\n",
              "    <tr>\n",
              "      <th>10</th>\n",
              "      <td>trip_duration</td>\n",
              "      <td>int64</td>\n",
              "    </tr>\n",
              "    <tr>\n",
              "      <th>11</th>\n",
              "      <td>pickup_day</td>\n",
              "      <td>int64</td>\n",
              "    </tr>\n",
              "    <tr>\n",
              "      <th>12</th>\n",
              "      <td>pickup_month</td>\n",
              "      <td>int64</td>\n",
              "    </tr>\n",
              "    <tr>\n",
              "      <th>13</th>\n",
              "      <td>pickup_weekday</td>\n",
              "      <td>int64</td>\n",
              "    </tr>\n",
              "    <tr>\n",
              "      <th>14</th>\n",
              "      <td>pickup_hour</td>\n",
              "      <td>int64</td>\n",
              "    </tr>\n",
              "    <tr>\n",
              "      <th>15</th>\n",
              "      <td>pickup_date</td>\n",
              "      <td>object</td>\n",
              "    </tr>\n",
              "    <tr>\n",
              "      <th>16</th>\n",
              "      <td>pickup_min</td>\n",
              "      <td>int64</td>\n",
              "    </tr>\n",
              "    <tr>\n",
              "      <th>17</th>\n",
              "      <td>distance</td>\n",
              "      <td>float64</td>\n",
              "    </tr>\n",
              "  </tbody>\n",
              "</table>\n",
              "</div>"
            ],
            "text/plain": [
              "                 index               0\n",
              "0                   id          object\n",
              "1            vendor_id           int64\n",
              "2      pickup_datetime  datetime64[ns]\n",
              "3     dropoff_datetime  datetime64[ns]\n",
              "4      passenger_count           int64\n",
              "5     pickup_longitude         float64\n",
              "6      pickup_latitude         float64\n",
              "7    dropoff_longitude         float64\n",
              "8     dropoff_latitude         float64\n",
              "9   store_and_fwd_flag          object\n",
              "10       trip_duration           int64\n",
              "11          pickup_day           int64\n",
              "12        pickup_month           int64\n",
              "13      pickup_weekday           int64\n",
              "14         pickup_hour           int64\n",
              "15         pickup_date          object\n",
              "16          pickup_min           int64\n",
              "17            distance         float64"
            ]
          },
          "metadata": {},
          "execution_count": 17
        }
      ]
    },
    {
      "cell_type": "markdown",
      "metadata": {
        "id": "yZxtCRLv-LPr"
      },
      "source": [
        "# Eda and Data Preprocessing"
      ]
    },
    {
      "cell_type": "markdown",
      "metadata": {
        "id": "9V-OeevAkvww"
      },
      "source": [
        "## univariate Analysis "
      ]
    },
    {
      "cell_type": "markdown",
      "metadata": {
        "id": "8MeRIrb_k8zC"
      },
      "source": [
        " A) **Vendor Id**"
      ]
    },
    {
      "cell_type": "code",
      "metadata": {
        "colab": {
          "base_uri": "https://localhost:8080/",
          "height": 477
        },
        "id": "Xe226VjhlGND",
        "outputId": "b645d84e-a695-4128-e425-5eb91ae77877"
      },
      "source": [
        "# vendor id visualization\n",
        "plt.figure(figsize=(8,7))\n",
        "sns.countplot(data1['vendor_id'])\n",
        "plt.title('vendor_ids')\n"
      ],
      "execution_count": 22,
      "outputs": [
        {
          "output_type": "execute_result",
          "data": {
            "text/plain": [
              "Text(0.5, 1.0, 'vendor_ids')"
            ]
          },
          "metadata": {},
          "execution_count": 22
        },
        {
          "output_type": "display_data",
          "data": {
            "image/png": "[encoded data removed]",
            "text/plain": [
              "<Figure size 576x504 with 1 Axes>"
            ]
          },
          "metadata": {
            "needs_background": "light"
          }
        }
      ]
    },
    {
      "cell_type": "markdown",
      "metadata": {
        "id": "pee8DYRYnTll"
      },
      "source": [
        "- From Above Visualization, we can say that there are **2 vendors**\n",
        "\n",
        "\n",
        "- 2nd Service provider is the most preferred one by New Yorkers."
      ]
    },
    {
      "cell_type": "markdown",
      "metadata": {
        "id": "AFu-tp9tnksS"
      },
      "source": [
        "B) **Store and forward flag**"
      ]
    },
    {
      "cell_type": "code",
      "metadata": {
        "colab": {
          "base_uri": "https://localhost:8080/",
          "height": 445
        },
        "id": "hH9uNZM0oELl",
        "outputId": "0f9a8304-fa2e-40ef-a3d0-7e2acf6dc596"
      },
      "source": [
        "#Store & Forward flag visualization\n",
        "\n",
        "plt.figure(figsize=(8,7))\n",
        "plt.pie(data1['store_and_fwd_flag'].value_counts(), colors=['lightgreen', 'lightblue'], shadow=True, explode=[0.5,0], autopct='%1.2f%%', startangle=200)\n",
        "plt.legend(labels=['N','Y'])\n",
        "plt.title(\"Store and Forward Flag\")"
      ],
      "execution_count": 24,
      "outputs": [
        {
          "output_type": "execute_result",
          "data": {
            "text/plain": [
              "Text(0.5, 1.0, 'Store and Forward Flag')"
            ]
          },
          "metadata": {},
          "execution_count": 24
        },
        {
          "output_type": "display_data",
          "data": {
            "image/png": "[encoded data removed]",
            "text/plain": [
              "<Figure size 576x504 with 1 Axes>"
            ]
          },
          "metadata": {}
        }
      ]
    },
    {
      "cell_type": "code",
      "metadata": {
        "colab": {
          "base_uri": "https://localhost:8080/"
        },
        "id": "25APed_HorLI",
        "outputId": "102807e4-b820-4ce2-b360-4e9d3dfd29cd"
      },
      "source": [
        "data1['store_and_fwd_flag'].value_counts() # to get exact count of stored trips"
      ],
      "execution_count": 25,
      "outputs": [
        {
          "output_type": "execute_result",
          "data": {
            "text/plain": [
              "N    1450599\n",
              "Y       8045\n",
              "Name: store_and_fwd_flag, dtype: int64"
            ]
          },
          "metadata": {},
          "execution_count": 25
        }
      ]
    },
    {
      "cell_type": "markdown",
      "metadata": {
        "id": "d7VXpskYo7bd"
      },
      "source": [
        "- We see there are less than 1% of trips that were stored before forwarding\n",
        "\n",
        "- The number of N flag is much larger than Y flag\n",
        "\n"
      ]
    }
  ]
}